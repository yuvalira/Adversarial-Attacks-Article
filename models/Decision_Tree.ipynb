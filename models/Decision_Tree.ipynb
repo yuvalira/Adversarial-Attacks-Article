{
  "nbformat": 4,
  "nbformat_minor": 0,
  "metadata": {
    "colab": {
      "provenance": [],
      "authorship_tag": "ABX9TyP9WyARmgSozkLf716E/009",
      "include_colab_link": true
    },
    "kernelspec": {
      "name": "python3",
      "display_name": "Python 3"
    },
    "language_info": {
      "name": "python"
    },
    "widgets": {
      "application/vnd.jupyter.widget-state+json": {
        "5bae7cd9b6454c83babb6609c9b628d3": {
          "model_module": "@jupyter-widgets/controls",
          "model_name": "HBoxModel",
          "model_module_version": "1.5.0",
          "state": {
            "_dom_classes": [],
            "_model_module": "@jupyter-widgets/controls",
            "_model_module_version": "1.5.0",
            "_model_name": "HBoxModel",
            "_view_count": null,
            "_view_module": "@jupyter-widgets/controls",
            "_view_module_version": "1.5.0",
            "_view_name": "HBoxView",
            "box_style": "",
            "children": [
              "IPY_MODEL_b76cce6339bf43148a343fce3fe26700",
              "IPY_MODEL_450b5b724a0a49dfb4c7c9b3f593861b",
              "IPY_MODEL_7ba4692d0f4b4a94b3c14df9a7af8e50"
            ],
            "layout": "IPY_MODEL_348f421758384efdb5f48c2a17492d55"
          }
        },
        "b76cce6339bf43148a343fce3fe26700": {
          "model_module": "@jupyter-widgets/controls",
          "model_name": "HTMLModel",
          "model_module_version": "1.5.0",
          "state": {
            "_dom_classes": [],
            "_model_module": "@jupyter-widgets/controls",
            "_model_module_version": "1.5.0",
            "_model_name": "HTMLModel",
            "_view_count": null,
            "_view_module": "@jupyter-widgets/controls",
            "_view_module_version": "1.5.0",
            "_view_name": "HTMLView",
            "description": "",
            "description_tooltip": null,
            "layout": "IPY_MODEL_46045dbcb489466b82130eb930fa88a2",
            "placeholder": "​",
            "style": "IPY_MODEL_a60238714caa409aa858f04d47bf627f",
            "value": "train.csv: "
          }
        },
        "450b5b724a0a49dfb4c7c9b3f593861b": {
          "model_module": "@jupyter-widgets/controls",
          "model_name": "FloatProgressModel",
          "model_module_version": "1.5.0",
          "state": {
            "_dom_classes": [],
            "_model_module": "@jupyter-widgets/controls",
            "_model_module_version": "1.5.0",
            "_model_name": "FloatProgressModel",
            "_view_count": null,
            "_view_module": "@jupyter-widgets/controls",
            "_view_module_version": "1.5.0",
            "_view_name": "ProgressView",
            "bar_style": "success",
            "description": "",
            "description_tooltip": null,
            "layout": "IPY_MODEL_2340d7c33bd14c94854bb49a8e8a3eb9",
            "max": 1,
            "min": 0,
            "orientation": "horizontal",
            "style": "IPY_MODEL_1b4b3536aba940a08f675fa5e6eda106",
            "value": 1
          }
        },
        "7ba4692d0f4b4a94b3c14df9a7af8e50": {
          "model_module": "@jupyter-widgets/controls",
          "model_name": "HTMLModel",
          "model_module_version": "1.5.0",
          "state": {
            "_dom_classes": [],
            "_model_module": "@jupyter-widgets/controls",
            "_model_module_version": "1.5.0",
            "_model_name": "HTMLModel",
            "_view_count": null,
            "_view_module": "@jupyter-widgets/controls",
            "_view_module_version": "1.5.0",
            "_view_name": "HTMLView",
            "description": "",
            "description_tooltip": null,
            "layout": "IPY_MODEL_19e93eaa340a4d5e86cb7ec019e8eac3",
            "placeholder": "​",
            "style": "IPY_MODEL_dc930322d4514236a72776c73e103d09",
            "value": " 1.20M/? [00:00&lt;00:00, 38.0MB/s]"
          }
        },
        "348f421758384efdb5f48c2a17492d55": {
          "model_module": "@jupyter-widgets/base",
          "model_name": "LayoutModel",
          "model_module_version": "1.2.0",
          "state": {
            "_model_module": "@jupyter-widgets/base",
            "_model_module_version": "1.2.0",
            "_model_name": "LayoutModel",
            "_view_count": null,
            "_view_module": "@jupyter-widgets/base",
            "_view_module_version": "1.2.0",
            "_view_name": "LayoutView",
            "align_content": null,
            "align_items": null,
            "align_self": null,
            "border": null,
            "bottom": null,
            "display": null,
            "flex": null,
            "flex_flow": null,
            "grid_area": null,
            "grid_auto_columns": null,
            "grid_auto_flow": null,
            "grid_auto_rows": null,
            "grid_column": null,
            "grid_gap": null,
            "grid_row": null,
            "grid_template_areas": null,
            "grid_template_columns": null,
            "grid_template_rows": null,
            "height": null,
            "justify_content": null,
            "justify_items": null,
            "left": null,
            "margin": null,
            "max_height": null,
            "max_width": null,
            "min_height": null,
            "min_width": null,
            "object_fit": null,
            "object_position": null,
            "order": null,
            "overflow": null,
            "overflow_x": null,
            "overflow_y": null,
            "padding": null,
            "right": null,
            "top": null,
            "visibility": null,
            "width": null
          }
        },
        "46045dbcb489466b82130eb930fa88a2": {
          "model_module": "@jupyter-widgets/base",
          "model_name": "LayoutModel",
          "model_module_version": "1.2.0",
          "state": {
            "_model_module": "@jupyter-widgets/base",
            "_model_module_version": "1.2.0",
            "_model_name": "LayoutModel",
            "_view_count": null,
            "_view_module": "@jupyter-widgets/base",
            "_view_module_version": "1.2.0",
            "_view_name": "LayoutView",
            "align_content": null,
            "align_items": null,
            "align_self": null,
            "border": null,
            "bottom": null,
            "display": null,
            "flex": null,
            "flex_flow": null,
            "grid_area": null,
            "grid_auto_columns": null,
            "grid_auto_flow": null,
            "grid_auto_rows": null,
            "grid_column": null,
            "grid_gap": null,
            "grid_row": null,
            "grid_template_areas": null,
            "grid_template_columns": null,
            "grid_template_rows": null,
            "height": null,
            "justify_content": null,
            "justify_items": null,
            "left": null,
            "margin": null,
            "max_height": null,
            "max_width": null,
            "min_height": null,
            "min_width": null,
            "object_fit": null,
            "object_position": null,
            "order": null,
            "overflow": null,
            "overflow_x": null,
            "overflow_y": null,
            "padding": null,
            "right": null,
            "top": null,
            "visibility": null,
            "width": null
          }
        },
        "a60238714caa409aa858f04d47bf627f": {
          "model_module": "@jupyter-widgets/controls",
          "model_name": "DescriptionStyleModel",
          "model_module_version": "1.5.0",
          "state": {
            "_model_module": "@jupyter-widgets/controls",
            "_model_module_version": "1.5.0",
            "_model_name": "DescriptionStyleModel",
            "_view_count": null,
            "_view_module": "@jupyter-widgets/base",
            "_view_module_version": "1.2.0",
            "_view_name": "StyleView",
            "description_width": ""
          }
        },
        "2340d7c33bd14c94854bb49a8e8a3eb9": {
          "model_module": "@jupyter-widgets/base",
          "model_name": "LayoutModel",
          "model_module_version": "1.2.0",
          "state": {
            "_model_module": "@jupyter-widgets/base",
            "_model_module_version": "1.2.0",
            "_model_name": "LayoutModel",
            "_view_count": null,
            "_view_module": "@jupyter-widgets/base",
            "_view_module_version": "1.2.0",
            "_view_name": "LayoutView",
            "align_content": null,
            "align_items": null,
            "align_self": null,
            "border": null,
            "bottom": null,
            "display": null,
            "flex": null,
            "flex_flow": null,
            "grid_area": null,
            "grid_auto_columns": null,
            "grid_auto_flow": null,
            "grid_auto_rows": null,
            "grid_column": null,
            "grid_gap": null,
            "grid_row": null,
            "grid_template_areas": null,
            "grid_template_columns": null,
            "grid_template_rows": null,
            "height": null,
            "justify_content": null,
            "justify_items": null,
            "left": null,
            "margin": null,
            "max_height": null,
            "max_width": null,
            "min_height": null,
            "min_width": null,
            "object_fit": null,
            "object_position": null,
            "order": null,
            "overflow": null,
            "overflow_x": null,
            "overflow_y": null,
            "padding": null,
            "right": null,
            "top": null,
            "visibility": null,
            "width": "20px"
          }
        },
        "1b4b3536aba940a08f675fa5e6eda106": {
          "model_module": "@jupyter-widgets/controls",
          "model_name": "ProgressStyleModel",
          "model_module_version": "1.5.0",
          "state": {
            "_model_module": "@jupyter-widgets/controls",
            "_model_module_version": "1.5.0",
            "_model_name": "ProgressStyleModel",
            "_view_count": null,
            "_view_module": "@jupyter-widgets/base",
            "_view_module_version": "1.2.0",
            "_view_name": "StyleView",
            "bar_color": null,
            "description_width": ""
          }
        },
        "19e93eaa340a4d5e86cb7ec019e8eac3": {
          "model_module": "@jupyter-widgets/base",
          "model_name": "LayoutModel",
          "model_module_version": "1.2.0",
          "state": {
            "_model_module": "@jupyter-widgets/base",
            "_model_module_version": "1.2.0",
            "_model_name": "LayoutModel",
            "_view_count": null,
            "_view_module": "@jupyter-widgets/base",
            "_view_module_version": "1.2.0",
            "_view_name": "LayoutView",
            "align_content": null,
            "align_items": null,
            "align_self": null,
            "border": null,
            "bottom": null,
            "display": null,
            "flex": null,
            "flex_flow": null,
            "grid_area": null,
            "grid_auto_columns": null,
            "grid_auto_flow": null,
            "grid_auto_rows": null,
            "grid_column": null,
            "grid_gap": null,
            "grid_row": null,
            "grid_template_areas": null,
            "grid_template_columns": null,
            "grid_template_rows": null,
            "height": null,
            "justify_content": null,
            "justify_items": null,
            "left": null,
            "margin": null,
            "max_height": null,
            "max_width": null,
            "min_height": null,
            "min_width": null,
            "object_fit": null,
            "object_position": null,
            "order": null,
            "overflow": null,
            "overflow_x": null,
            "overflow_y": null,
            "padding": null,
            "right": null,
            "top": null,
            "visibility": null,
            "width": null
          }
        },
        "dc930322d4514236a72776c73e103d09": {
          "model_module": "@jupyter-widgets/controls",
          "model_name": "DescriptionStyleModel",
          "model_module_version": "1.5.0",
          "state": {
            "_model_module": "@jupyter-widgets/controls",
            "_model_module_version": "1.5.0",
            "_model_name": "DescriptionStyleModel",
            "_view_count": null,
            "_view_module": "@jupyter-widgets/base",
            "_view_module_version": "1.2.0",
            "_view_name": "StyleView",
            "description_width": ""
          }
        },
        "c18de88f79ae4bea8c2f47406202ffc1": {
          "model_module": "@jupyter-widgets/controls",
          "model_name": "HBoxModel",
          "model_module_version": "1.5.0",
          "state": {
            "_dom_classes": [],
            "_model_module": "@jupyter-widgets/controls",
            "_model_module_version": "1.5.0",
            "_model_name": "HBoxModel",
            "_view_count": null,
            "_view_module": "@jupyter-widgets/controls",
            "_view_module_version": "1.5.0",
            "_view_name": "HBoxView",
            "box_style": "",
            "children": [
              "IPY_MODEL_b2977a3328fa4a93855a543979725ef1",
              "IPY_MODEL_c8d6ab9dda364344a212a591bacab0c1",
              "IPY_MODEL_8d648c152b274c19bd3cc8f850fe2084"
            ],
            "layout": "IPY_MODEL_3dcc02995dce41028da13171623fa370"
          }
        },
        "b2977a3328fa4a93855a543979725ef1": {
          "model_module": "@jupyter-widgets/controls",
          "model_name": "HTMLModel",
          "model_module_version": "1.5.0",
          "state": {
            "_dom_classes": [],
            "_model_module": "@jupyter-widgets/controls",
            "_model_module_version": "1.5.0",
            "_model_name": "HTMLModel",
            "_view_count": null,
            "_view_module": "@jupyter-widgets/controls",
            "_view_module_version": "1.5.0",
            "_view_name": "HTMLView",
            "description": "",
            "description_tooltip": null,
            "layout": "IPY_MODEL_d12cc0f4b6024d0a8f23501dc496c607",
            "placeholder": "​",
            "style": "IPY_MODEL_64606e8e1aeb48f5a313d2945c175667",
            "value": "val.csv: "
          }
        },
        "c8d6ab9dda364344a212a591bacab0c1": {
          "model_module": "@jupyter-widgets/controls",
          "model_name": "FloatProgressModel",
          "model_module_version": "1.5.0",
          "state": {
            "_dom_classes": [],
            "_model_module": "@jupyter-widgets/controls",
            "_model_module_version": "1.5.0",
            "_model_name": "FloatProgressModel",
            "_view_count": null,
            "_view_module": "@jupyter-widgets/controls",
            "_view_module_version": "1.5.0",
            "_view_name": "ProgressView",
            "bar_style": "success",
            "description": "",
            "description_tooltip": null,
            "layout": "IPY_MODEL_a79dba72b6f24d9a8a7feb1b393d53cf",
            "max": 1,
            "min": 0,
            "orientation": "horizontal",
            "style": "IPY_MODEL_da54eb92cef24767b26a5c9be94dbc97",
            "value": 1
          }
        },
        "8d648c152b274c19bd3cc8f850fe2084": {
          "model_module": "@jupyter-widgets/controls",
          "model_name": "HTMLModel",
          "model_module_version": "1.5.0",
          "state": {
            "_dom_classes": [],
            "_model_module": "@jupyter-widgets/controls",
            "_model_module_version": "1.5.0",
            "_model_name": "HTMLModel",
            "_view_count": null,
            "_view_module": "@jupyter-widgets/controls",
            "_view_module_version": "1.5.0",
            "_view_name": "HTMLView",
            "description": "",
            "description_tooltip": null,
            "layout": "IPY_MODEL_6d2d305c0eb241cba1bc98b6c9590d9f",
            "placeholder": "​",
            "style": "IPY_MODEL_db03870e2e584d5caef68cd386f4a49f",
            "value": " 241k/? [00:00&lt;00:00, 26.4MB/s]"
          }
        },
        "3dcc02995dce41028da13171623fa370": {
          "model_module": "@jupyter-widgets/base",
          "model_name": "LayoutModel",
          "model_module_version": "1.2.0",
          "state": {
            "_model_module": "@jupyter-widgets/base",
            "_model_module_version": "1.2.0",
            "_model_name": "LayoutModel",
            "_view_count": null,
            "_view_module": "@jupyter-widgets/base",
            "_view_module_version": "1.2.0",
            "_view_name": "LayoutView",
            "align_content": null,
            "align_items": null,
            "align_self": null,
            "border": null,
            "bottom": null,
            "display": null,
            "flex": null,
            "flex_flow": null,
            "grid_area": null,
            "grid_auto_columns": null,
            "grid_auto_flow": null,
            "grid_auto_rows": null,
            "grid_column": null,
            "grid_gap": null,
            "grid_row": null,
            "grid_template_areas": null,
            "grid_template_columns": null,
            "grid_template_rows": null,
            "height": null,
            "justify_content": null,
            "justify_items": null,
            "left": null,
            "margin": null,
            "max_height": null,
            "max_width": null,
            "min_height": null,
            "min_width": null,
            "object_fit": null,
            "object_position": null,
            "order": null,
            "overflow": null,
            "overflow_x": null,
            "overflow_y": null,
            "padding": null,
            "right": null,
            "top": null,
            "visibility": null,
            "width": null
          }
        },
        "d12cc0f4b6024d0a8f23501dc496c607": {
          "model_module": "@jupyter-widgets/base",
          "model_name": "LayoutModel",
          "model_module_version": "1.2.0",
          "state": {
            "_model_module": "@jupyter-widgets/base",
            "_model_module_version": "1.2.0",
            "_model_name": "LayoutModel",
            "_view_count": null,
            "_view_module": "@jupyter-widgets/base",
            "_view_module_version": "1.2.0",
            "_view_name": "LayoutView",
            "align_content": null,
            "align_items": null,
            "align_self": null,
            "border": null,
            "bottom": null,
            "display": null,
            "flex": null,
            "flex_flow": null,
            "grid_area": null,
            "grid_auto_columns": null,
            "grid_auto_flow": null,
            "grid_auto_rows": null,
            "grid_column": null,
            "grid_gap": null,
            "grid_row": null,
            "grid_template_areas": null,
            "grid_template_columns": null,
            "grid_template_rows": null,
            "height": null,
            "justify_content": null,
            "justify_items": null,
            "left": null,
            "margin": null,
            "max_height": null,
            "max_width": null,
            "min_height": null,
            "min_width": null,
            "object_fit": null,
            "object_position": null,
            "order": null,
            "overflow": null,
            "overflow_x": null,
            "overflow_y": null,
            "padding": null,
            "right": null,
            "top": null,
            "visibility": null,
            "width": null
          }
        },
        "64606e8e1aeb48f5a313d2945c175667": {
          "model_module": "@jupyter-widgets/controls",
          "model_name": "DescriptionStyleModel",
          "model_module_version": "1.5.0",
          "state": {
            "_model_module": "@jupyter-widgets/controls",
            "_model_module_version": "1.5.0",
            "_model_name": "DescriptionStyleModel",
            "_view_count": null,
            "_view_module": "@jupyter-widgets/base",
            "_view_module_version": "1.2.0",
            "_view_name": "StyleView",
            "description_width": ""
          }
        },
        "a79dba72b6f24d9a8a7feb1b393d53cf": {
          "model_module": "@jupyter-widgets/base",
          "model_name": "LayoutModel",
          "model_module_version": "1.2.0",
          "state": {
            "_model_module": "@jupyter-widgets/base",
            "_model_module_version": "1.2.0",
            "_model_name": "LayoutModel",
            "_view_count": null,
            "_view_module": "@jupyter-widgets/base",
            "_view_module_version": "1.2.0",
            "_view_name": "LayoutView",
            "align_content": null,
            "align_items": null,
            "align_self": null,
            "border": null,
            "bottom": null,
            "display": null,
            "flex": null,
            "flex_flow": null,
            "grid_area": null,
            "grid_auto_columns": null,
            "grid_auto_flow": null,
            "grid_auto_rows": null,
            "grid_column": null,
            "grid_gap": null,
            "grid_row": null,
            "grid_template_areas": null,
            "grid_template_columns": null,
            "grid_template_rows": null,
            "height": null,
            "justify_content": null,
            "justify_items": null,
            "left": null,
            "margin": null,
            "max_height": null,
            "max_width": null,
            "min_height": null,
            "min_width": null,
            "object_fit": null,
            "object_position": null,
            "order": null,
            "overflow": null,
            "overflow_x": null,
            "overflow_y": null,
            "padding": null,
            "right": null,
            "top": null,
            "visibility": null,
            "width": "20px"
          }
        },
        "da54eb92cef24767b26a5c9be94dbc97": {
          "model_module": "@jupyter-widgets/controls",
          "model_name": "ProgressStyleModel",
          "model_module_version": "1.5.0",
          "state": {
            "_model_module": "@jupyter-widgets/controls",
            "_model_module_version": "1.5.0",
            "_model_name": "ProgressStyleModel",
            "_view_count": null,
            "_view_module": "@jupyter-widgets/base",
            "_view_module_version": "1.2.0",
            "_view_name": "StyleView",
            "bar_color": null,
            "description_width": ""
          }
        },
        "6d2d305c0eb241cba1bc98b6c9590d9f": {
          "model_module": "@jupyter-widgets/base",
          "model_name": "LayoutModel",
          "model_module_version": "1.2.0",
          "state": {
            "_model_module": "@jupyter-widgets/base",
            "_model_module_version": "1.2.0",
            "_model_name": "LayoutModel",
            "_view_count": null,
            "_view_module": "@jupyter-widgets/base",
            "_view_module_version": "1.2.0",
            "_view_name": "LayoutView",
            "align_content": null,
            "align_items": null,
            "align_self": null,
            "border": null,
            "bottom": null,
            "display": null,
            "flex": null,
            "flex_flow": null,
            "grid_area": null,
            "grid_auto_columns": null,
            "grid_auto_flow": null,
            "grid_auto_rows": null,
            "grid_column": null,
            "grid_gap": null,
            "grid_row": null,
            "grid_template_areas": null,
            "grid_template_columns": null,
            "grid_template_rows": null,
            "height": null,
            "justify_content": null,
            "justify_items": null,
            "left": null,
            "margin": null,
            "max_height": null,
            "max_width": null,
            "min_height": null,
            "min_width": null,
            "object_fit": null,
            "object_position": null,
            "order": null,
            "overflow": null,
            "overflow_x": null,
            "overflow_y": null,
            "padding": null,
            "right": null,
            "top": null,
            "visibility": null,
            "width": null
          }
        },
        "db03870e2e584d5caef68cd386f4a49f": {
          "model_module": "@jupyter-widgets/controls",
          "model_name": "DescriptionStyleModel",
          "model_module_version": "1.5.0",
          "state": {
            "_model_module": "@jupyter-widgets/controls",
            "_model_module_version": "1.5.0",
            "_model_name": "DescriptionStyleModel",
            "_view_count": null,
            "_view_module": "@jupyter-widgets/base",
            "_view_module_version": "1.2.0",
            "_view_name": "StyleView",
            "description_width": ""
          }
        }
      }
    }
  },
  "cells": [
    {
      "cell_type": "markdown",
      "metadata": {
        "id": "view-in-github",
        "colab_type": "text"
      },
      "source": [
        "<a href=\"https://colab.research.google.com/github/yuvalira/Adversarial-Attacks-Article/blob/main/models/Decision_Tree.ipynb\" target=\"_parent\"><img src=\"https://colab.research.google.com/assets/colab-badge.svg\" alt=\"Open In Colab\"/></a>"
      ]
    },
    {
      "cell_type": "markdown",
      "source": [
        "# **Classical Model — Decision Tree**\n",
        "Decision Trees learn axis-aligned splits that partition the feature space into regions with mostly one class.\n",
        "They are fast, interpretable (you can visualize the tree), but prone to overfitting unless regularized.\n",
        "\n",
        "References:\n",
        "- scikit-learn `DecisionTreeClassifier` (criterion, depth, etc.)"
      ],
      "metadata": {
        "id": "RASFB_bQSb0w"
      }
    },
    {
      "cell_type": "markdown",
      "source": [
        "## Imports & setup"
      ],
      "metadata": {
        "id": "GS69UyyrShze"
      }
    },
    {
      "cell_type": "code",
      "execution_count": 1,
      "metadata": {
        "colab": {
          "base_uri": "https://localhost:8080/"
        },
        "id": "vzh36alXo5yl",
        "outputId": "acd72190-75fb-498c-e66d-6f5f22825a72"
      },
      "outputs": [
        {
          "output_type": "stream",
          "name": "stdout",
          "text": [
            "\u001b[2K   \u001b[90m━━━━━━━━━━━━━━━━━━━━━━━━━━━━━━━━━━━━━━━━\u001b[0m \u001b[32m9.5/9.5 MB\u001b[0m \u001b[31m44.7 MB/s\u001b[0m eta \u001b[36m0:00:00\u001b[0m\n",
            "\u001b[?25h"
          ]
        }
      ],
      "source": [
        "!pip -q install -U scikit-learn huggingface_hub\n",
        "\n",
        "import os, re, time\n",
        "import numpy as np, pandas as pd, matplotlib.pyplot as plt\n",
        "from huggingface_hub import hf_hub_download\n",
        "from sklearn.compose import ColumnTransformer\n",
        "from sklearn.pipeline import Pipeline\n",
        "from sklearn.preprocessing import OrdinalEncoder\n",
        "from sklearn.impute import SimpleImputer\n",
        "from sklearn.tree import DecisionTreeClassifier\n",
        "from sklearn.metrics import (accuracy_score, precision_score, recall_score, f1_score,\n",
        "                             roc_auc_score, roc_curve, classification_report, confusion_matrix)\n",
        "\n",
        "RANDOM_STATE = 42\n",
        "np.random.seed(RANDOM_STATE)"
      ]
    },
    {
      "cell_type": "markdown",
      "source": [
        "## Load splits from HF"
      ],
      "metadata": {
        "id": "Evxy2iFlSns9"
      }
    },
    {
      "cell_type": "code",
      "source": [
        "repo_id, repo_type = \"yuvalira/adult_income_balanced\", \"dataset\"  # TODO\n",
        "def read_csv(repo_id, filename, repo_type=\"dataset\"):\n",
        "    p = hf_hub_download(repo_id=repo_id, filename=filename, repo_type=repo_type, token=False)\n",
        "    return pd.read_csv(p)\n",
        "\n",
        "train_data = read_csv(repo_id, \"train.csv\", repo_type)\n",
        "val_data   = read_csv(repo_id, \"val.csv\",   repo_type)\n",
        "print(\"Train:\", train_data.shape, \"| Val:\", val_data.shape)"
      ],
      "metadata": {
        "colab": {
          "base_uri": "https://localhost:8080/",
          "height": 98,
          "referenced_widgets": [
            "5bae7cd9b6454c83babb6609c9b628d3",
            "b76cce6339bf43148a343fce3fe26700",
            "450b5b724a0a49dfb4c7c9b3f593861b",
            "7ba4692d0f4b4a94b3c14df9a7af8e50",
            "348f421758384efdb5f48c2a17492d55",
            "46045dbcb489466b82130eb930fa88a2",
            "a60238714caa409aa858f04d47bf627f",
            "2340d7c33bd14c94854bb49a8e8a3eb9",
            "1b4b3536aba940a08f675fa5e6eda106",
            "19e93eaa340a4d5e86cb7ec019e8eac3",
            "dc930322d4514236a72776c73e103d09",
            "c18de88f79ae4bea8c2f47406202ffc1",
            "b2977a3328fa4a93855a543979725ef1",
            "c8d6ab9dda364344a212a591bacab0c1",
            "8d648c152b274c19bd3cc8f850fe2084",
            "3dcc02995dce41028da13171623fa370",
            "d12cc0f4b6024d0a8f23501dc496c607",
            "64606e8e1aeb48f5a313d2945c175667",
            "a79dba72b6f24d9a8a7feb1b393d53cf",
            "da54eb92cef24767b26a5c9be94dbc97",
            "6d2d305c0eb241cba1bc98b6c9590d9f",
            "db03870e2e584d5caef68cd386f4a49f"
          ]
        },
        "id": "gWF0jREsSl6f",
        "outputId": "6d272fe7-e380-4585-9472-9e6d490364f8"
      },
      "execution_count": 2,
      "outputs": [
        {
          "output_type": "display_data",
          "data": {
            "text/plain": [
              "train.csv: 0.00B [00:00, ?B/s]"
            ],
            "application/vnd.jupyter.widget-view+json": {
              "version_major": 2,
              "version_minor": 0,
              "model_id": "5bae7cd9b6454c83babb6609c9b628d3"
            }
          },
          "metadata": {}
        },
        {
          "output_type": "display_data",
          "data": {
            "text/plain": [
              "val.csv: 0.00B [00:00, ?B/s]"
            ],
            "application/vnd.jupyter.widget-view+json": {
              "version_major": 2,
              "version_minor": 0,
              "model_id": "c18de88f79ae4bea8c2f47406202ffc1"
            }
          },
          "metadata": {}
        },
        {
          "output_type": "stream",
          "name": "stdout",
          "text": [
            "Train: (11687, 14) | Val: (2337, 14)\n"
          ]
        }
      ]
    },
    {
      "cell_type": "markdown",
      "source": [
        "## Columns & config"
      ],
      "metadata": {
        "id": "-hBQu0QuSzOc"
      }
    },
    {
      "cell_type": "code",
      "source": [
        "auto_num = train_data.select_dtypes(include=['int16','int32','int64','float16','float32','float64']).columns.tolist()\n",
        "auto_cat = train_data.select_dtypes(include=['object','category','bool']).columns.tolist()\n",
        "\n",
        "TARGET_COLUMN_NAME   = \"income\"               # TODO\n",
        "TARGET_LABELS        = [\"<=50K\", \">50K\"]      # TODO (order = ids)\n",
        "SAMPLE_WEIGHT_COLUMN = None\n",
        "\n",
        "NUMERIC_FEATURE_NAMES     = [c for c in auto_num if c != TARGET_COLUMN_NAME]\n",
        "CATEGORICAL_FEATURE_NAMES = [c for c in auto_cat if c != TARGET_COLUMN_NAME]"
      ],
      "metadata": {
        "id": "cwWxnTk6SxgT"
      },
      "execution_count": 3,
      "outputs": []
    },
    {
      "cell_type": "markdown",
      "source": [
        "## Prepare DFs (map target, cast categoricals to str)"
      ],
      "metadata": {
        "id": "4hrRa4ofS7g1"
      }
    },
    {
      "cell_type": "code",
      "source": [
        "label2id = {lbl:i for i,lbl in enumerate(TARGET_LABELS)}\n",
        "id2label = {i:lbl for lbl,i in label2id.items()}\n",
        "\n",
        "def prep(df):\n",
        "    df = df.copy()\n",
        "    df[TARGET_COLUMN_NAME] = df[TARGET_COLUMN_NAME].map(label2id)\n",
        "    if df[TARGET_COLUMN_NAME].isna().any():\n",
        "        raise ValueError(\"Unmapped targets—check TARGET_LABELS.\")\n",
        "    for c in CATEGORICAL_FEATURE_NAMES:\n",
        "        if c in df.columns: df[c] = df[c].astype(str)\n",
        "    return df\n",
        "\n",
        "train_data, val_data = prep(train_data), prep(val_data)\n",
        "n_classes = train_data[TARGET_COLUMN_NAME].nunique()\n",
        "avg_mode = None if n_classes==2 else \"macro\""
      ],
      "metadata": {
        "id": "fMD6TC8OS5vQ"
      },
      "execution_count": 4,
      "outputs": []
    },
    {
      "cell_type": "markdown",
      "source": [
        "## Pipeline: impute + ordinal-encode cats"
      ],
      "metadata": {
        "id": "LmG4jTT9TD43"
      }
    },
    {
      "cell_type": "code",
      "source": [
        "numeric = Pipeline([(\"imputer\", SimpleImputer(strategy=\"median\"))])\n",
        "categorical = Pipeline([\n",
        "    (\"imputer\", SimpleImputer(strategy=\"most_frequent\")),\n",
        "    (\"enc\", OrdinalEncoder(handle_unknown=\"use_encoded_value\", unknown_value=-1))\n",
        "])\n",
        "pre = ColumnTransformer([\n",
        "    (\"num\", numeric, NUMERIC_FEATURE_NAMES),\n",
        "    (\"cat\", categorical, CATEGORICAL_FEATURE_NAMES),\n",
        "])\n",
        "\n",
        "dt = DecisionTreeClassifier(\n",
        "    criterion=\"gini\",      # or \"entropy\", \"log_loss\"\n",
        "    max_depth=None,        # try e.g. 6-12 to curb overfitting\n",
        "    min_samples_leaf=2,\n",
        "    random_state=RANDOM_STATE\n",
        ")\n",
        "\n",
        "clf_dt = Pipeline([(\"preprocessor\", pre), (\"clf\", dt)])"
      ],
      "metadata": {
        "id": "qb0rEMyCTBkn"
      },
      "execution_count": 5,
      "outputs": []
    },
    {
      "cell_type": "markdown",
      "source": [
        "## Train & Evaluate"
      ],
      "metadata": {
        "id": "yQ4CfLUyTNkT"
      }
    },
    {
      "cell_type": "code",
      "source": [
        "# If you still have `grid` in scope, use its best params; otherwise fall back to the values you printed.\n",
        "try:\n",
        "    BEST_PARAMS = grid.best_params_\n",
        "except NameError:\n",
        "    BEST_PARAMS = {\n",
        "        \"clf__class_weight\": None,\n",
        "        \"clf__criterion\": \"gini\",\n",
        "        \"clf__max_depth\": 8,\n",
        "        \"clf__min_samples_leaf\": 1,\n",
        "    }\n",
        "\n",
        "clf_dt.set_params(**BEST_PARAMS)\n",
        "print(\"Using params:\", BEST_PARAMS)\n",
        "\n",
        "def split_xy(df):\n",
        "    X = df.drop(columns=[TARGET_COLUMN_NAME]); y = df[TARGET_COLUMN_NAME].values\n",
        "    sw = df[SAMPLE_WEIGHT_COLUMN].values if SAMPLE_WEIGHT_COLUMN else None\n",
        "    return X, y, sw\n",
        "\n",
        "Xtr, ytr, sw_tr = split_xy(train_data)\n",
        "Xva, yva, sw_va = split_xy(val_data)\n",
        "\n",
        "t0 = time.time()\n",
        "clf_dt.fit(Xtr, ytr, **({\"clf__sample_weight\": sw_tr} if sw_tr is not None else {}))\n",
        "print(f\"Training time: {time.time()-t0:.2f}s\")\n",
        "\n",
        "# Predictions (default 0.5 threshold)\n",
        "yp = clf_dt.predict(Xva)\n",
        "\n",
        "# Probabilities (for ROC/AUC and threshold tuning)\n",
        "pre = clf_dt.named_steps[\"preprocessor\"]\n",
        "clf = clf_dt.named_steps[\"clf\"]\n",
        "yp_prob = clf.predict_proba(pre.transform(Xva)) if hasattr(clf, \"predict_proba\") else None\n",
        "\n",
        "# AUC (binary only)\n",
        "if yp_prob is not None and yp_prob.ndim > 1 and yp_prob.shape[1] == 2:\n",
        "    auc = roc_auc_score(yva, yp_prob[:, 1])\n",
        "    print(\"Val AUC (0.5 thr):\", round(auc, 4))\n",
        "\n",
        "# Choose averaging mode for metrics\n",
        "avg = \"binary\" if n_classes == 2 else \"macro\"\n",
        "\n",
        "print(\n",
        "    \"Val metrics @0.5:\",\n",
        "    dict(\n",
        "        accuracy=round(accuracy_score(yva, yp), 4),\n",
        "        precision=round(precision_score(yva, yp, average=avg, zero_division=0), 4),\n",
        "        recall=round(recall_score(yva, yp, average=avg, zero_division=0), 4),\n",
        "        f1=round(f1_score(yva, yp, average=avg, zero_division=0), 4),\n",
        "    ),\n",
        ")\n",
        "\n",
        "print(\n",
        "    \"\\nReport @0.5:\\n\",\n",
        "    classification_report(\n",
        "        yva, yp, target_names=[id2label[i] for i in range(n_classes)], zero_division=0\n",
        "    ),\n",
        ")\n",
        "print(\"Confusion @0.5:\\n\", confusion_matrix(yva, yp))\n",
        "\n",
        "# --- OPTIONAL: simple threshold sweep to maximize accuracy on validation (binary only) ---\n",
        "if yp_prob is not None and yp_prob.shape[1] == 2:\n",
        "    scores = yp_prob[:, 1]\n",
        "    # search a narrow band around 0.5; widen if you want\n",
        "    thrs = np.linspace(0.3, 0.7, 81)\n",
        "    accs = []\n",
        "    for thr in thrs:\n",
        "        yp_thr = (scores >= thr).astype(int)\n",
        "        accs.append((thr, accuracy_score(yva, yp_thr)))\n",
        "    best_thr, best_acc = max(accs, key=lambda x: x[1])\n",
        "\n",
        "    yp_best = (scores >= best_thr).astype(int)\n",
        "    print(f\"\\nBest threshold on val: {best_thr:.3f} | Accuracy: {best_acc:.4f}\")\n",
        "    print(\n",
        "        \"Val metrics @best-thr:\",\n",
        "        dict(\n",
        "            accuracy=round(best_acc, 4),\n",
        "            precision=round(precision_score(yva, yp_best, average=\"binary\", zero_division=0), 4),\n",
        "            recall=round(recall_score(yva, yp_best, average=\"binary\", zero_division=0), 4),\n",
        "            f1=round(f1_score(yva, yp_best, average=\"binary\", zero_division=0), 4),\n",
        "        ),\n",
        "    )"
      ],
      "metadata": {
        "colab": {
          "base_uri": "https://localhost:8080/"
        },
        "id": "cN3tyWBGTLqE",
        "outputId": "d28ca007-7f02-4204-a5ad-9221f30ec841"
      },
      "execution_count": 10,
      "outputs": [
        {
          "output_type": "stream",
          "name": "stdout",
          "text": [
            "Using params: {'clf__class_weight': None, 'clf__criterion': 'gini', 'clf__max_depth': 8, 'clf__min_samples_leaf': 1}\n",
            "Training time: 0.06s\n",
            "Val AUC (0.5 thr): 0.8981\n",
            "Val metrics @0.5: {'accuracy': 0.8263, 'precision': 0.8068, 'recall': 0.8579, 'f1': 0.8315}\n",
            "\n",
            "Report @0.5:\n",
            "               precision    recall  f1-score   support\n",
            "\n",
            "       <=50K       0.85      0.79      0.82      1169\n",
            "        >50K       0.81      0.86      0.83      1168\n",
            "\n",
            "    accuracy                           0.83      2337\n",
            "   macro avg       0.83      0.83      0.83      2337\n",
            "weighted avg       0.83      0.83      0.83      2337\n",
            "\n",
            "Confusion @0.5:\n",
            " [[ 929  240]\n",
            " [ 166 1002]]\n",
            "\n",
            "Best threshold on val: 0.480 | Accuracy: 0.8276\n",
            "Val metrics @best-thr: {'accuracy': 0.8276, 'precision': 0.8053, 'recall': 0.8639, 'f1': 0.8335}\n"
          ]
        }
      ]
    },
    {
      "cell_type": "code",
      "source": [
        "from sklearn.model_selection import GridSearchCV\n",
        "\n",
        "param_grid = {\n",
        "    \"clf__criterion\": [\"gini\", \"entropy\", \"log_loss\"],\n",
        "    \"clf__max_depth\": [5, 8, 12, None],\n",
        "    \"clf__min_samples_leaf\": [1, 5, 10, 20],\n",
        "    \"clf__class_weight\": [None, \"balanced\"],\n",
        "}\n",
        "\n",
        "grid = GridSearchCV(\n",
        "    estimator=clf_dt,\n",
        "    param_grid=param_grid,\n",
        "    scoring=\"accuracy\",\n",
        "    cv=5,\n",
        "    n_jobs=-1,\n",
        "    verbose=2\n",
        ")\n",
        "\n",
        "Xtr, ytr, _ = split_xy(train_data)\n",
        "grid.fit(Xtr, ytr)\n",
        "\n",
        "print(\"Best params:\", grid.best_params_)\n",
        "print(\"Best CV accuracy:\", grid.best_score_)"
      ],
      "metadata": {
        "colab": {
          "base_uri": "https://localhost:8080/"
        },
        "id": "BpRzytWKX7VI",
        "outputId": "4b276d7d-f0d5-4d10-8af3-b74e4a371c64"
      },
      "execution_count": 9,
      "outputs": [
        {
          "output_type": "stream",
          "name": "stdout",
          "text": [
            "Fitting 5 folds for each of 96 candidates, totalling 480 fits\n",
            "Best params: {'clf__class_weight': None, 'clf__criterion': 'gini', 'clf__max_depth': 8, 'clf__min_samples_leaf': 1}\n",
            "Best CV accuracy: 0.8197138091321483\n"
          ]
        }
      ]
    },
    {
      "cell_type": "markdown",
      "source": [
        "## ROC"
      ],
      "metadata": {
        "id": "IWuxEanKTT7N"
      }
    },
    {
      "cell_type": "code",
      "source": [
        "if yp_prob is not None and yp_prob.ndim>1 and yp_prob.shape[1]==2:\n",
        "    fpr,tpr,_=roc_curve(yva, yp_prob[:,1]); auc=roc_auc_score(yva, yp_prob[:,1])\n",
        "    plt.figure(figsize=(7,5)); plt.plot(fpr,tpr,label=f\"AUC={auc:.4f}\")\n",
        "    plt.plot([0,1],[0,1],'--'); plt.xlabel(\"FPR\"); plt.ylabel(\"TPR\")\n",
        "    plt.title(\"ROC — Decision Tree (Validation)\"); plt.legend(); plt.grid(True); plt.tight_layout(); plt.show()"
      ],
      "metadata": {
        "colab": {
          "base_uri": "https://localhost:8080/",
          "height": 507
        },
        "id": "LwLawhMeTSUL",
        "outputId": "0817ccad-4e43-4e39-fdb9-dbfc81f4dbd6"
      },
      "execution_count": 11,
      "outputs": [
        {
          "output_type": "display_data",
          "data": {
            "text/plain": [
              "<Figure size 700x500 with 1 Axes>"
            ],
            "image/png": "[encoded data removed]"
          },
          "metadata": {}
        }
      ]
    },
    {
      "cell_type": "markdown",
      "source": [
        "## Save Model"
      ],
      "metadata": {
        "id": "mVVeB67RTcrP"
      }
    },
    {
      "cell_type": "code",
      "source": [
        "#%% Save model\n",
        "import joblib\n",
        "safe_repo_id = re.sub(r'[^A-Za-z0-9_.-]+', '_', repo_id)\n",
        "path = f\"models/Decision_Tree_{safe_repo_id}.joblib\"\n",
        "os.makedirs(\"models\", exist_ok=True); joblib.dump(clf_dt, path)\n",
        "print(\"Saved:\", os.path.abspath(path))"
      ],
      "metadata": {
        "id": "6Ew2e1yATWo-"
      },
      "execution_count": null,
      "outputs": []
    }
  ]
}