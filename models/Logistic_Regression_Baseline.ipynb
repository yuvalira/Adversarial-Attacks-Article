{
 "nbformat": 4,
 "nbformat_minor": 0,
 "metadata": {
  "colab": {
   "provenance": [],
   "gpuType": "T4",
   "authorship_tag": "ABX9TyPHassKAVMT1cEsLx2NNmbm",
   "include_colab_link": true
  },
  "kernelspec": {
   "name": "python3",
   "display_name": "Python 3 (ipykernel)",
   "language": "python"
  },
  "language_info": {
   "name": "python"
  },
  "accelerator": "GPU",
  "widgets": {
   "application/vnd.jupyter.widget-state+json": {
    "c20f88647e3d40bb936ec95209705e8d": {
     "model_module": "@jupyter-widgets/controls",
     "model_name": "VBoxModel",
     "model_module_version": "1.5.0",
     "state": {
      "_dom_classes": [],
      "_model_module": "@jupyter-widgets/controls",
      "_model_module_version": "1.5.0",
      "_model_name": "VBoxModel",
      "_view_count": null,
      "_view_module": "@jupyter-widgets/controls",
      "_view_module_version": "1.5.0",
      "_view_name": "VBoxView",
      "box_style": "",
      "children": [],
      "layout": "IPY_MODEL_403aa04bbc904e9499dd58ec6bf9db3e"
     }
    },
    "6991db53e2f145e48e2a369da5b0257c": {
     "model_module": "@jupyter-widgets/controls",
     "model_name": "HTMLModel",
     "model_module_version": "1.5.0",
     "state": {
      "_dom_classes": [],
      "_model_module": "@jupyter-widgets/controls",
      "_model_module_version": "1.5.0",
      "_model_name": "HTMLModel",
      "_view_count": null,
      "_view_module": "@jupyter-widgets/controls",
      "_view_module_version": "1.5.0",
      "_view_name": "HTMLView",
      "description": "",
      "description_tooltip": null,
      "layout": "IPY_MODEL_3b402f3436764cccac15d92ea58b15c3",
      "placeholder": "​",
      "style": "IPY_MODEL_a278a14956744cc6bf6f5c9e672a33a5",
      "value": "<center> <img\nsrc=https://huggingface.co/front/assets/huggingface_logo-noborder.svg\nalt='Hugging Face'> <br> Copy a token from <a\nhref=\"https://huggingface.co/settings/tokens\" target=\"_blank\">your Hugging Face\ntokens page</a> and paste it below. <br> Immediately click login after copying\nyour token or it might be stored in plain text in this notebook file. </center>"
     }
    },
    "0b8b5e07346f4a05813f426659cfd631": {
     "model_module": "@jupyter-widgets/controls",
     "model_name": "PasswordModel",
     "model_module_version": "1.5.0",
     "state": {
      "_dom_classes": [],
      "_model_module": "@jupyter-widgets/controls",
      "_model_module_version": "1.5.0",
      "_model_name": "PasswordModel",
      "_view_count": null,
      "_view_module": "@jupyter-widgets/controls",
      "_view_module_version": "1.5.0",
      "_view_name": "PasswordView",
      "continuous_update": true,
      "description": "Token:",
      "description_tooltip": null,
      "disabled": false,
      "layout": "IPY_MODEL_08fd8406f3884b95b0498eae4f560b8e",
      "placeholder": "​",
      "style": "IPY_MODEL_6d038bcfdfd64833a0c3c8a079e8ab69",
      "value": ""
     }
    },
    "bfe76bbd9b994ad295ad188ac9491d15": {
     "model_module": "@jupyter-widgets/controls",
     "model_name": "CheckboxModel",
     "model_module_version": "1.5.0",
     "state": {
      "_dom_classes": [],
      "_model_module": "@jupyter-widgets/controls",
      "_model_module_version": "1.5.0",
      "_model_name": "CheckboxModel",
      "_view_count": null,
      "_view_module": "@jupyter-widgets/controls",
      "_view_module_version": "1.5.0",
      "_view_name": "CheckboxView",
      "description": "Add token as git credential?",
      "description_tooltip": null,
      "disabled": false,
      "indent": true,
      "layout": "IPY_MODEL_44772c1fdfdd41758d872bd55a6dc3a9",
      "style": "IPY_MODEL_2adf673745f24d32bc58578d5a35f2a5",
      "value": true
     }
    },
    "c263db4b5dbf4bbfb848edada66bd5ad": {
     "model_module": "@jupyter-widgets/controls",
     "model_name": "ButtonModel",
     "model_module_version": "1.5.0",
     "state": {
      "_dom_classes": [],
      "_model_module": "@jupyter-widgets/controls",
      "_model_module_version": "1.5.0",
      "_model_name": "ButtonModel",
      "_view_count": null,
      "_view_module": "@jupyter-widgets/controls",
      "_view_module_version": "1.5.0",
      "_view_name": "ButtonView",
      "button_style": "",
      "description": "Login",
      "disabled": false,
      "icon": "",
      "layout": "IPY_MODEL_44a9f3c3a79e4e0f8cfd47855a330dfb",
      "style": "IPY_MODEL_929c5f7aaf1e40e2b65b5b0faef1d778",
      "tooltip": ""
     }
    },
    "88999ec880e44ea7a37c20de0c41bdbf": {
     "model_module": "@jupyter-widgets/controls",
     "model_name": "HTMLModel",
     "model_module_version": "1.5.0",
     "state": {
      "_dom_classes": [],
      "_model_module": "@jupyter-widgets/controls",
      "_model_module_version": "1.5.0",
      "_model_name": "HTMLModel",
      "_view_count": null,
      "_view_module": "@jupyter-widgets/controls",
      "_view_module_version": "1.5.0",
      "_view_name": "HTMLView",
      "description": "",
      "description_tooltip": null,
      "layout": "IPY_MODEL_e3680fd96bc34158a3aa5e15eb2c3b61",
      "placeholder": "​",
      "style": "IPY_MODEL_ee055fede5ac48baa0cd394ac2a37c2a",
      "value": "\n<b>Pro Tip:</b> If you don't already have one, you can create a dedicated\n'notebooks' token with 'write' access, that you can then easily reuse for all\nnotebooks. </center>"
     }
    },
    "403aa04bbc904e9499dd58ec6bf9db3e": {
     "model_module": "@jupyter-widgets/base",
     "model_name": "LayoutModel",
     "model_module_version": "1.2.0",
     "state": {
      "_model_module": "@jupyter-widgets/base",
      "_model_module_version": "1.2.0",
      "_model_name": "LayoutModel",
      "_view_count": null,
      "_view_module": "@jupyter-widgets/base",
      "_view_module_version": "1.2.0",
      "_view_name": "LayoutView",
      "align_content": null,
      "align_items": "center",
      "align_self": null,
      "border": null,
      "bottom": null,
      "display": "flex",
      "flex": null,
      "flex_flow": "column",
      "grid_area": null,
      "grid_auto_columns": null,
      "grid_auto_flow": null,
      "grid_auto_rows": null,
      "grid_column": null,
      "grid_gap": null,
      "grid_row": null,
      "grid_template_areas": null,
      "grid_template_columns": null,
      "grid_template_rows": null,
      "height": null,
      "justify_content": null,
      "justify_items": null,
      "left": null,
      "margin": null,
      "max_height": null,
      "max_width": null,
      "min_height": null,
      "min_width": null,
      "object_fit": null,
      "object_position": null,
      "order": null,
      "overflow": null,
      "overflow_x": null,
      "overflow_y": null,
      "padding": null,
      "right": null,
      "top": null,
      "visibility": null,
      "width": "50%"
     }
    },
    "3b402f3436764cccac15d92ea58b15c3": {
     "model_module": "@jupyter-widgets/base",
     "model_name": "LayoutModel",
     "model_module_version": "1.2.0",
     "state": {
      "_model_module": "@jupyter-widgets/base",
      "_model_module_version": "1.2.0",
      "_model_name": "LayoutModel",
      "_view_count": null,
      "_view_module": "@jupyter-widgets/base",
      "_view_module_version": "1.2.0",
      "_view_name": "LayoutView",
      "align_content": null,
      "align_items": null,
      "align_self": null,
      "border": null,
      "bottom": null,
      "display": null,
      "flex": null,
      "flex_flow": null,
      "grid_area": null,
      "grid_auto_columns": null,
      "grid_auto_flow": null,
      "grid_auto_rows": null,
      "grid_column": null,
      "grid_gap": null,
      "grid_row": null,
      "grid_template_areas": null,
      "grid_template_columns": null,
      "grid_template_rows": null,
      "height": null,
      "justify_content": null,
      "justify_items": null,
      "left": null,
      "margin": null,
      "max_height": null,
      "max_width": null,
      "min_height": null,
      "min_width": null,
      "object_fit": null,
      "object_position": null,
      "order": null,
      "overflow": null,
      "overflow_x": null,
      "overflow_y": null,
      "padding": null,
      "right": null,
      "top": null,
      "visibility": null,
      "width": null
     }
    },
    "a278a14956744cc6bf6f5c9e672a33a5": {
     "model_module": "@jupyter-widgets/controls",
     "model_name": "DescriptionStyleModel",
     "model_module_version": "1.5.0",
     "state": {
      "_model_module": "@jupyter-widgets/controls",
      "_model_module_version": "1.5.0",
      "_model_name": "DescriptionStyleModel",
      "_view_count": null,
      "_view_module": "@jupyter-widgets/base",
      "_view_module_version": "1.2.0",
      "_view_name": "StyleView",
      "description_width": ""
     }
    },
    "08fd8406f3884b95b0498eae4f560b8e": {
     "model_module": "@jupyter-widgets/base",
     "model_name": "LayoutModel",
     "model_module_version": "1.2.0",
     "state": {
      "_model_module": "@jupyter-widgets/base",
      "_model_module_version": "1.2.0",
      "_model_name": "LayoutModel",
      "_view_count": null,
      "_view_module": "@jupyter-widgets/base",
      "_view_module_version": "1.2.0",
      "_view_name": "LayoutView",
      "align_content": null,
      "align_items": null,
      "align_self": null,
      "border": null,
      "bottom": null,
      "display": null,
      "flex": null,
      "flex_flow": null,
      "grid_area": null,
      "grid_auto_columns": null,
      "grid_auto_flow": null,
      "grid_auto_rows": null,
      "grid_column": null,
      "grid_gap": null,
      "grid_row": null,
      "grid_template_areas": null,
      "grid_template_columns": null,
      "grid_template_rows": null,
      "height": null,
      "justify_content": null,
      "justify_items": null,
      "left": null,
      "margin": null,
      "max_height": null,
      "max_width": null,
      "min_height": null,
      "min_width": null,
      "object_fit": null,
      "object_position": null,
      "order": null,
      "overflow": null,
      "overflow_x": null,
      "overflow_y": null,
      "padding": null,
      "right": null,
      "top": null,
      "visibility": null,
      "width": null
     }
    },
    "6d038bcfdfd64833a0c3c8a079e8ab69": {
     "model_module": "@jupyter-widgets/controls",
     "model_name": "DescriptionStyleModel",
     "model_module_version": "1.5.0",
     "state": {
      "_model_module": "@jupyter-widgets/controls",
      "_model_module_version": "1.5.0",
      "_model_name": "DescriptionStyleModel",
      "_view_count": null,
      "_view_module": "@jupyter-widgets/base",
      "_view_module_version": "1.2.0",
      "_view_name": "StyleView",
      "description_width": ""
     }
    },
    "44772c1fdfdd41758d872bd55a6dc3a9": {
     "model_module": "@jupyter-widgets/base",
     "model_name": "LayoutModel",
     "model_module_version": "1.2.0",
     "state": {
      "_model_module": "@jupyter-widgets/base",
      "_model_module_version": "1.2.0",
      "_model_name": "LayoutModel",
      "_view_count": null,
      "_view_module": "@jupyter-widgets/base",
      "_view_module_version": "1.2.0",
      "_view_name": "LayoutView",
      "align_content": null,
      "align_items": null,
      "align_self": null,
      "border": null,
      "bottom": null,
      "display": null,
      "flex": null,
      "flex_flow": null,
      "grid_area": null,
      "grid_auto_columns": null,
      "grid_auto_flow": null,
      "grid_auto_rows": null,
      "grid_column": null,
      "grid_gap": null,
      "grid_row": null,
      "grid_template_areas": null,
      "grid_template_columns": null,
      "grid_template_rows": null,
      "height": null,
      "justify_content": null,
      "justify_items": null,
      "left": null,
      "margin": null,
      "max_height": null,
      "max_width": null,
      "min_height": null,
      "min_width": null,
      "object_fit": null,
      "object_position": null,
      "order": null,
      "overflow": null,
      "overflow_x": null,
      "overflow_y": null,
      "padding": null,
      "right": null,
      "top": null,
      "visibility": null,
      "width": null
     }
    },
    "2adf673745f24d32bc58578d5a35f2a5": {
     "model_module": "@jupyter-widgets/controls",
     "model_name": "DescriptionStyleModel",
     "model_module_version": "1.5.0",
     "state": {
      "_model_module": "@jupyter-widgets/controls",
      "_model_module_version": "1.5.0",
      "_model_name": "DescriptionStyleModel",
      "_view_count": null,
      "_view_module": "@jupyter-widgets/base",
      "_view_module_version": "1.2.0",
      "_view_name": "StyleView",
      "description_width": ""
     }
    },
    "44a9f3c3a79e4e0f8cfd47855a330dfb": {
     "model_module": "@jupyter-widgets/base",
     "model_name": "LayoutModel",
     "model_module_version": "1.2.0",
     "state": {
      "_model_module": "@jupyter-widgets/base",
      "_model_module_version": "1.2.0",
      "_model_name": "LayoutModel",
      "_view_count": null,
      "_view_module": "@jupyter-widgets/base",
      "_view_module_version": "1.2.0",
      "_view_name": "LayoutView",
      "align_content": null,
      "align_items": null,
      "align_self": null,
      "border": null,
      "bottom": null,
      "display": null,
      "flex": null,
      "flex_flow": null,
      "grid_area": null,
      "grid_auto_columns": null,
      "grid_auto_flow": null,
      "grid_auto_rows": null,
      "grid_column": null,
      "grid_gap": null,
      "grid_row": null,
      "grid_template_areas": null,
      "grid_template_columns": null,
      "grid_template_rows": null,
      "height": null,
      "justify_content": null,
      "justify_items": null,
      "left": null,
      "margin": null,
      "max_height": null,
      "max_width": null,
      "min_height": null,
      "min_width": null,
      "object_fit": null,
      "object_position": null,
      "order": null,
      "overflow": null,
      "overflow_x": null,
      "overflow_y": null,
      "padding": null,
      "right": null,
      "top": null,
      "visibility": null,
      "width": null
     }
    },
    "929c5f7aaf1e40e2b65b5b0faef1d778": {
     "model_module": "@jupyter-widgets/controls",
     "model_name": "ButtonStyleModel",
     "model_module_version": "1.5.0",
     "state": {
      "_model_module": "@jupyter-widgets/controls",
      "_model_module_version": "1.5.0",
      "_model_name": "ButtonStyleModel",
      "_view_count": null,
      "_view_module": "@jupyter-widgets/base",
      "_view_module_version": "1.2.0",
      "_view_name": "StyleView",
      "button_color": null,
      "font_weight": ""
     }
    },
    "e3680fd96bc34158a3aa5e15eb2c3b61": {
     "model_module": "@jupyter-widgets/base",
     "model_name": "LayoutModel",
     "model_module_version": "1.2.0",
     "state": {
      "_model_module": "@jupyter-widgets/base",
      "_model_module_version": "1.2.0",
      "_model_name": "LayoutModel",
      "_view_count": null,
      "_view_module": "@jupyter-widgets/base",
      "_view_module_version": "1.2.0",
      "_view_name": "LayoutView",
      "align_content": null,
      "align_items": null,
      "align_self": null,
      "border": null,
      "bottom": null,
      "display": null,
      "flex": null,
      "flex_flow": null,
      "grid_area": null,
      "grid_auto_columns": null,
      "grid_auto_flow": null,
      "grid_auto_rows": null,
      "grid_column": null,
      "grid_gap": null,
      "grid_row": null,
      "grid_template_areas": null,
      "grid_template_columns": null,
      "grid_template_rows": null,
      "height": null,
      "justify_content": null,
      "justify_items": null,
      "left": null,
      "margin": null,
      "max_height": null,
      "max_width": null,
      "min_height": null,
      "min_width": null,
      "object_fit": null,
      "object_position": null,
      "order": null,
      "overflow": null,
      "overflow_x": null,
      "overflow_y": null,
      "padding": null,
      "right": null,
      "top": null,
      "visibility": null,
      "width": null
     }
    },
    "ee055fede5ac48baa0cd394ac2a37c2a": {
     "model_module": "@jupyter-widgets/controls",
     "model_name": "DescriptionStyleModel",
     "model_module_version": "1.5.0",
     "state": {
      "_model_module": "@jupyter-widgets/controls",
      "_model_module_version": "1.5.0",
      "_model_name": "DescriptionStyleModel",
      "_view_count": null,
      "_view_module": "@jupyter-widgets/base",
      "_view_module_version": "1.2.0",
      "_view_name": "StyleView",
      "description_width": ""
     }
    },
    "5e290a1cd11d44b287b862cba1da1604": {
     "model_module": "@jupyter-widgets/controls",
     "model_name": "LabelModel",
     "model_module_version": "1.5.0",
     "state": {
      "_dom_classes": [],
      "_model_module": "@jupyter-widgets/controls",
      "_model_module_version": "1.5.0",
      "_model_name": "LabelModel",
      "_view_count": null,
      "_view_module": "@jupyter-widgets/controls",
      "_view_module_version": "1.5.0",
      "_view_name": "LabelView",
      "description": "",
      "description_tooltip": null,
      "layout": "IPY_MODEL_8c89083770e449769f231db360080b79",
      "placeholder": "​",
      "style": "IPY_MODEL_69e2c93ae5c147da87984c2806207301",
      "value": "Connecting..."
     }
    },
    "8c89083770e449769f231db360080b79": {
     "model_module": "@jupyter-widgets/base",
     "model_name": "LayoutModel",
     "model_module_version": "1.2.0",
     "state": {
      "_model_module": "@jupyter-widgets/base",
      "_model_module_version": "1.2.0",
      "_model_name": "LayoutModel",
      "_view_count": null,
      "_view_module": "@jupyter-widgets/base",
      "_view_module_version": "1.2.0",
      "_view_name": "LayoutView",
      "align_content": null,
      "align_items": null,
      "align_self": null,
      "border": null,
      "bottom": null,
      "display": null,
      "flex": null,
      "flex_flow": null,
      "grid_area": null,
      "grid_auto_columns": null,
      "grid_auto_flow": null,
      "grid_auto_rows": null,
      "grid_column": null,
      "grid_gap": null,
      "grid_row": null,
      "grid_template_areas": null,
      "grid_template_columns": null,
      "grid_template_rows": null,
      "height": null,
      "justify_content": null,
      "justify_items": null,
      "left": null,
      "margin": null,
      "max_height": null,
      "max_width": null,
      "min_height": null,
      "min_width": null,
      "object_fit": null,
      "object_position": null,
      "order": null,
      "overflow": null,
      "overflow_x": null,
      "overflow_y": null,
      "padding": null,
      "right": null,
      "top": null,
      "visibility": null,
      "width": null
     }
    },
    "69e2c93ae5c147da87984c2806207301": {
     "model_module": "@jupyter-widgets/controls",
     "model_name": "DescriptionStyleModel",
     "model_module_version": "1.5.0",
     "state": {
      "_model_module": "@jupyter-widgets/controls",
      "_model_module_version": "1.5.0",
      "_model_name": "DescriptionStyleModel",
      "_view_count": null,
      "_view_module": "@jupyter-widgets/base",
      "_view_module_version": "1.2.0",
      "_view_name": "StyleView",
      "description_width": ""
     }
    },
    "f09b0dc7b4914152b076b0ab60a57cb2": {
     "model_module": "@jupyter-widgets/controls",
     "model_name": "HBoxModel",
     "model_module_version": "1.5.0",
     "state": {
      "_dom_classes": [],
      "_model_module": "@jupyter-widgets/controls",
      "_model_module_version": "1.5.0",
      "_model_name": "HBoxModel",
      "_view_count": null,
      "_view_module": "@jupyter-widgets/controls",
      "_view_module_version": "1.5.0",
      "_view_name": "HBoxView",
      "box_style": "",
      "children": [
       "IPY_MODEL_8c9f9d378b9141a582cdf716612581da",
       "IPY_MODEL_6ae9315810ea435c829f54a385646175",
       "IPY_MODEL_10c5f6439ae74867879d2b46c372ce8d"
      ],
      "layout": "IPY_MODEL_8e914958504a465ab2a25f918ef26b91"
     }
    },
    "8c9f9d378b9141a582cdf716612581da": {
     "model_module": "@jupyter-widgets/controls",
     "model_name": "HTMLModel",
     "model_module_version": "1.5.0",
     "state": {
      "_dom_classes": [],
      "_model_module": "@jupyter-widgets/controls",
      "_model_module_version": "1.5.0",
      "_model_name": "HTMLModel",
      "_view_count": null,
      "_view_module": "@jupyter-widgets/controls",
      "_view_module_version": "1.5.0",
      "_view_name": "HTMLView",
      "description": "",
      "description_tooltip": null,
      "layout": "IPY_MODEL_3ac480bc89cc4840a9dfb32836e476ea",
      "placeholder": "​",
      "style": "IPY_MODEL_2561b0cba6e244de91fe59175a988c59",
      "value": "train.csv: "
     }
    },
    "6ae9315810ea435c829f54a385646175": {
     "model_module": "@jupyter-widgets/controls",
     "model_name": "FloatProgressModel",
     "model_module_version": "1.5.0",
     "state": {
      "_dom_classes": [],
      "_model_module": "@jupyter-widgets/controls",
      "_model_module_version": "1.5.0",
      "_model_name": "FloatProgressModel",
      "_view_count": null,
      "_view_module": "@jupyter-widgets/controls",
      "_view_module_version": "1.5.0",
      "_view_name": "ProgressView",
      "bar_style": "success",
      "description": "",
      "description_tooltip": null,
      "layout": "IPY_MODEL_87e8ba8866c146f2b5b08e05fd0559fd",
      "max": 1,
      "min": 0,
      "orientation": "horizontal",
      "style": "IPY_MODEL_682a7cd20b33420d8c2cc331fc015ba0",
      "value": 1
     }
    },
    "10c5f6439ae74867879d2b46c372ce8d": {
     "model_module": "@jupyter-widgets/controls",
     "model_name": "HTMLModel",
     "model_module_version": "1.5.0",
     "state": {
      "_dom_classes": [],
      "_model_module": "@jupyter-widgets/controls",
      "_model_module_version": "1.5.0",
      "_model_name": "HTMLModel",
      "_view_count": null,
      "_view_module": "@jupyter-widgets/controls",
      "_view_module_version": "1.5.0",
      "_view_name": "HTMLView",
      "description": "",
      "description_tooltip": null,
      "layout": "IPY_MODEL_5dc3837aa39e4161a5c3886a339397a0",
      "placeholder": "​",
      "style": "IPY_MODEL_39355bb9edfa4da2b1bed518af8be3ad",
      "value": " 1.20M/? [00:00&lt;00:00, 25.8MB/s]"
     }
    },
    "8e914958504a465ab2a25f918ef26b91": {
     "model_module": "@jupyter-widgets/base",
     "model_name": "LayoutModel",
     "model_module_version": "1.2.0",
     "state": {
      "_model_module": "@jupyter-widgets/base",
      "_model_module_version": "1.2.0",
      "_model_name": "LayoutModel",
      "_view_count": null,
      "_view_module": "@jupyter-widgets/base",
      "_view_module_version": "1.2.0",
      "_view_name": "LayoutView",
      "align_content": null,
      "align_items": null,
      "align_self": null,
      "border": null,
      "bottom": null,
      "display": null,
      "flex": null,
      "flex_flow": null,
      "grid_area": null,
      "grid_auto_columns": null,
      "grid_auto_flow": null,
      "grid_auto_rows": null,
      "grid_column": null,
      "grid_gap": null,
      "grid_row": null,
      "grid_template_areas": null,
      "grid_template_columns": null,
      "grid_template_rows": null,
      "height": null,
      "justify_content": null,
      "justify_items": null,
      "left": null,
      "margin": null,
      "max_height": null,
      "max_width": null,
      "min_height": null,
      "min_width": null,
      "object_fit": null,
      "object_position": null,
      "order": null,
      "overflow": null,
      "overflow_x": null,
      "overflow_y": null,
      "padding": null,
      "right": null,
      "top": null,
      "visibility": null,
      "width": null
     }
    },
    "3ac480bc89cc4840a9dfb32836e476ea": {
     "model_module": "@jupyter-widgets/base",
     "model_name": "LayoutModel",
     "model_module_version": "1.2.0",
     "state": {
      "_model_module": "@jupyter-widgets/base",
      "_model_module_version": "1.2.0",
      "_model_name": "LayoutModel",
      "_view_count": null,
      "_view_module": "@jupyter-widgets/base",
      "_view_module_version": "1.2.0",
      "_view_name": "LayoutView",
      "align_content": null,
      "align_items": null,
      "align_self": null,
      "border": null,
      "bottom": null,
      "display": null,
      "flex": null,
      "flex_flow": null,
      "grid_area": null,
      "grid_auto_columns": null,
      "grid_auto_flow": null,
      "grid_auto_rows": null,
      "grid_column": null,
      "grid_gap": null,
      "grid_row": null,
      "grid_template_areas": null,
      "grid_template_columns": null,
      "grid_template_rows": null,
      "height": null,
      "justify_content": null,
      "justify_items": null,
      "left": null,
      "margin": null,
      "max_height": null,
      "max_width": null,
      "min_height": null,
      "min_width": null,
      "object_fit": null,
      "object_position": null,
      "order": null,
      "overflow": null,
      "overflow_x": null,
      "overflow_y": null,
      "padding": null,
      "right": null,
      "top": null,
      "visibility": null,
      "width": null
     }
    },
    "2561b0cba6e244de91fe59175a988c59": {
     "model_module": "@jupyter-widgets/controls",
     "model_name": "DescriptionStyleModel",
     "model_module_version": "1.5.0",
     "state": {
      "_model_module": "@jupyter-widgets/controls",
      "_model_module_version": "1.5.0",
      "_model_name": "DescriptionStyleModel",
      "_view_count": null,
      "_view_module": "@jupyter-widgets/base",
      "_view_module_version": "1.2.0",
      "_view_name": "StyleView",
      "description_width": ""
     }
    },
    "87e8ba8866c146f2b5b08e05fd0559fd": {
     "model_module": "@jupyter-widgets/base",
     "model_name": "LayoutModel",
     "model_module_version": "1.2.0",
     "state": {
      "_model_module": "@jupyter-widgets/base",
      "_model_module_version": "1.2.0",
      "_model_name": "LayoutModel",
      "_view_count": null,
      "_view_module": "@jupyter-widgets/base",
      "_view_module_version": "1.2.0",
      "_view_name": "LayoutView",
      "align_content": null,
      "align_items": null,
      "align_self": null,
      "border": null,
      "bottom": null,
      "display": null,
      "flex": null,
      "flex_flow": null,
      "grid_area": null,
      "grid_auto_columns": null,
      "grid_auto_flow": null,
      "grid_auto_rows": null,
      "grid_column": null,
      "grid_gap": null,
      "grid_row": null,
      "grid_template_areas": null,
      "grid_template_columns": null,
      "grid_template_rows": null,
      "height": null,
      "justify_content": null,
      "justify_items": null,
      "left": null,
      "margin": null,
      "max_height": null,
      "max_width": null,
      "min_height": null,
      "min_width": null,
      "object_fit": null,
      "object_position": null,
      "order": null,
      "overflow": null,
      "overflow_x": null,
      "overflow_y": null,
      "padding": null,
      "right": null,
      "top": null,
      "visibility": null,
      "width": "20px"
     }
    },
    "682a7cd20b33420d8c2cc331fc015ba0": {
     "model_module": "@jupyter-widgets/controls",
     "model_name": "ProgressStyleModel",
     "model_module_version": "1.5.0",
     "state": {
      "_model_module": "@jupyter-widgets/controls",
      "_model_module_version": "1.5.0",
      "_model_name": "ProgressStyleModel",
      "_view_count": null,
      "_view_module": "@jupyter-widgets/base",
      "_view_module_version": "1.2.0",
      "_view_name": "StyleView",
      "bar_color": null,
      "description_width": ""
     }
    },
    "5dc3837aa39e4161a5c3886a339397a0": {
     "model_module": "@jupyter-widgets/base",
     "model_name": "LayoutModel",
     "model_module_version": "1.2.0",
     "state": {
      "_model_module": "@jupyter-widgets/base",
      "_model_module_version": "1.2.0",
      "_model_name": "LayoutModel",
      "_view_count": null,
      "_view_module": "@jupyter-widgets/base",
      "_view_module_version": "1.2.0",
      "_view_name": "LayoutView",
      "align_content": null,
      "align_items": null,
      "align_self": null,
      "border": null,
      "bottom": null,
      "display": null,
      "flex": null,
      "flex_flow": null,
      "grid_area": null,
      "grid_auto_columns": null,
      "grid_auto_flow": null,
      "grid_auto_rows": null,
      "grid_column": null,
      "grid_gap": null,
      "grid_row": null,
      "grid_template_areas": null,
      "grid_template_columns": null,
      "grid_template_rows": null,
      "height": null,
      "justify_content": null,
      "justify_items": null,
      "left": null,
      "margin": null,
      "max_height": null,
      "max_width": null,
      "min_height": null,
      "min_width": null,
      "object_fit": null,
      "object_position": null,
      "order": null,
      "overflow": null,
      "overflow_x": null,
      "overflow_y": null,
      "padding": null,
      "right": null,
      "top": null,
      "visibility": null,
      "width": null
     }
    },
    "39355bb9edfa4da2b1bed518af8be3ad": {
     "model_module": "@jupyter-widgets/controls",
     "model_name": "DescriptionStyleModel",
     "model_module_version": "1.5.0",
     "state": {
      "_model_module": "@jupyter-widgets/controls",
      "_model_module_version": "1.5.0",
      "_model_name": "DescriptionStyleModel",
      "_view_count": null,
      "_view_module": "@jupyter-widgets/base",
      "_view_module_version": "1.2.0",
      "_view_name": "StyleView",
      "description_width": ""
     }
    },
    "170e5c8e384b48818b5702a323e032c1": {
     "model_module": "@jupyter-widgets/controls",
     "model_name": "HBoxModel",
     "model_module_version": "1.5.0",
     "state": {
      "_dom_classes": [],
      "_model_module": "@jupyter-widgets/controls",
      "_model_module_version": "1.5.0",
      "_model_name": "HBoxModel",
      "_view_count": null,
      "_view_module": "@jupyter-widgets/controls",
      "_view_module_version": "1.5.0",
      "_view_name": "HBoxView",
      "box_style": "",
      "children": [
       "IPY_MODEL_36a6c67f691b42d4969b411b96802843",
       "IPY_MODEL_46d0c7771de948a3a2d3bde1922c3dcc",
       "IPY_MODEL_f0fbe8b0fe334069906836630714b92c"
      ],
      "layout": "IPY_MODEL_6df1c6ed99d543e38d5c0085854eaca5"
     }
    },
    "36a6c67f691b42d4969b411b96802843": {
     "model_module": "@jupyter-widgets/controls",
     "model_name": "HTMLModel",
     "model_module_version": "1.5.0",
     "state": {
      "_dom_classes": [],
      "_model_module": "@jupyter-widgets/controls",
      "_model_module_version": "1.5.0",
      "_model_name": "HTMLModel",
      "_view_count": null,
      "_view_module": "@jupyter-widgets/controls",
      "_view_module_version": "1.5.0",
      "_view_name": "HTMLView",
      "description": "",
      "description_tooltip": null,
      "layout": "IPY_MODEL_a19d01a8f3a94645ac9d93263a3382c3",
      "placeholder": "​",
      "style": "IPY_MODEL_4204455731df479eb6e11764e9e63a2e",
      "value": "val.csv: "
     }
    },
    "46d0c7771de948a3a2d3bde1922c3dcc": {
     "model_module": "@jupyter-widgets/controls",
     "model_name": "FloatProgressModel",
     "model_module_version": "1.5.0",
     "state": {
      "_dom_classes": [],
      "_model_module": "@jupyter-widgets/controls",
      "_model_module_version": "1.5.0",
      "_model_name": "FloatProgressModel",
      "_view_count": null,
      "_view_module": "@jupyter-widgets/controls",
      "_view_module_version": "1.5.0",
      "_view_name": "ProgressView",
      "bar_style": "success",
      "description": "",
      "description_tooltip": null,
      "layout": "IPY_MODEL_a87ab3f9227c4208bca718e90d705748",
      "max": 1,
      "min": 0,
      "orientation": "horizontal",
      "style": "IPY_MODEL_7164baef76f64f6ba294fb1d5cee2bc5",
      "value": 1
     }
    },
    "f0fbe8b0fe334069906836630714b92c": {
     "model_module": "@jupyter-widgets/controls",
     "model_name": "HTMLModel",
     "model_module_version": "1.5.0",
     "state": {
      "_dom_classes": [],
      "_model_module": "@jupyter-widgets/controls",
      "_model_module_version": "1.5.0",
      "_model_name": "HTMLModel",
      "_view_count": null,
      "_view_module": "@jupyter-widgets/controls",
      "_view_module_version": "1.5.0",
      "_view_name": "HTMLView",
      "description": "",
      "description_tooltip": null,
      "layout": "IPY_MODEL_c8120e89952440c5bea168f4a441f05a",
      "placeholder": "​",
      "style": "IPY_MODEL_d68dc58b54c64c94bbd5a60904546016",
      "value": " 241k/? [00:00&lt;00:00, 13.1MB/s]"
     }
    },
    "6df1c6ed99d543e38d5c0085854eaca5": {
     "model_module": "@jupyter-widgets/base",
     "model_name": "LayoutModel",
     "model_module_version": "1.2.0",
     "state": {
      "_model_module": "@jupyter-widgets/base",
      "_model_module_version": "1.2.0",
      "_model_name": "LayoutModel",
      "_view_count": null,
      "_view_module": "@jupyter-widgets/base",
      "_view_module_version": "1.2.0",
      "_view_name": "LayoutView",
      "align_content": null,
      "align_items": null,
      "align_self": null,
      "border": null,
      "bottom": null,
      "display": null,
      "flex": null,
      "flex_flow": null,
      "grid_area": null,
      "grid_auto_columns": null,
      "grid_auto_flow": null,
      "grid_auto_rows": null,
      "grid_column": null,
      "grid_gap": null,
      "grid_row": null,
      "grid_template_areas": null,
      "grid_template_columns": null,
      "grid_template_rows": null,
      "height": null,
      "justify_content": null,
      "justify_items": null,
      "left": null,
      "margin": null,
      "max_height": null,
      "max_width": null,
      "min_height": null,
      "min_width": null,
      "object_fit": null,
      "object_position": null,
      "order": null,
      "overflow": null,
      "overflow_x": null,
      "overflow_y": null,
      "padding": null,
      "right": null,
      "top": null,
      "visibility": null,
      "width": null
     }
    },
    "a19d01a8f3a94645ac9d93263a3382c3": {
     "model_module": "@jupyter-widgets/base",
     "model_name": "LayoutModel",
     "model_module_version": "1.2.0",
     "state": {
      "_model_module": "@jupyter-widgets/base",
      "_model_module_version": "1.2.0",
      "_model_name": "LayoutModel",
      "_view_count": null,
      "_view_module": "@jupyter-widgets/base",
      "_view_module_version": "1.2.0",
      "_view_name": "LayoutView",
      "align_content": null,
      "align_items": null,
      "align_self": null,
      "border": null,
      "bottom": null,
      "display": null,
      "flex": null,
      "flex_flow": null,
      "grid_area": null,
      "grid_auto_columns": null,
      "grid_auto_flow": null,
      "grid_auto_rows": null,
      "grid_column": null,
      "grid_gap": null,
      "grid_row": null,
      "grid_template_areas": null,
      "grid_template_columns": null,
      "grid_template_rows": null,
      "height": null,
      "justify_content": null,
      "justify_items": null,
      "left": null,
      "margin": null,
      "max_height": null,
      "max_width": null,
      "min_height": null,
      "min_width": null,
      "object_fit": null,
      "object_position": null,
      "order": null,
      "overflow": null,
      "overflow_x": null,
      "overflow_y": null,
      "padding": null,
      "right": null,
      "top": null,
      "visibility": null,
      "width": null
     }
    },
    "4204455731df479eb6e11764e9e63a2e": {
     "model_module": "@jupyter-widgets/controls",
     "model_name": "DescriptionStyleModel",
     "model_module_version": "1.5.0",
     "state": {
      "_model_module": "@jupyter-widgets/controls",
      "_model_module_version": "1.5.0",
      "_model_name": "DescriptionStyleModel",
      "_view_count": null,
      "_view_module": "@jupyter-widgets/base",
      "_view_module_version": "1.2.0",
      "_view_name": "StyleView",
      "description_width": ""
     }
    },
    "a87ab3f9227c4208bca718e90d705748": {
     "model_module": "@jupyter-widgets/base",
     "model_name": "LayoutModel",
     "model_module_version": "1.2.0",
     "state": {
      "_model_module": "@jupyter-widgets/base",
      "_model_module_version": "1.2.0",
      "_model_name": "LayoutModel",
      "_view_count": null,
      "_view_module": "@jupyter-widgets/base",
      "_view_module_version": "1.2.0",
      "_view_name": "LayoutView",
      "align_content": null,
      "align_items": null,
      "align_self": null,
      "border": null,
      "bottom": null,
      "display": null,
      "flex": null,
      "flex_flow": null,
      "grid_area": null,
      "grid_auto_columns": null,
      "grid_auto_flow": null,
      "grid_auto_rows": null,
      "grid_column": null,
      "grid_gap": null,
      "grid_row": null,
      "grid_template_areas": null,
      "grid_template_columns": null,
      "grid_template_rows": null,
      "height": null,
      "justify_content": null,
      "justify_items": null,
      "left": null,
      "margin": null,
      "max_height": null,
      "max_width": null,
      "min_height": null,
      "min_width": null,
      "object_fit": null,
      "object_position": null,
      "order": null,
      "overflow": null,
      "overflow_x": null,
      "overflow_y": null,
      "padding": null,
      "right": null,
      "top": null,
      "visibility": null,
      "width": "20px"
     }
    },
    "7164baef76f64f6ba294fb1d5cee2bc5": {
     "model_module": "@jupyter-widgets/controls",
     "model_name": "ProgressStyleModel",
     "model_module_version": "1.5.0",
     "state": {
      "_model_module": "@jupyter-widgets/controls",
      "_model_module_version": "1.5.0",
      "_model_name": "ProgressStyleModel",
      "_view_count": null,
      "_view_module": "@jupyter-widgets/base",
      "_view_module_version": "1.2.0",
      "_view_name": "StyleView",
      "bar_color": null,
      "description_width": ""
     }
    },
    "c8120e89952440c5bea168f4a441f05a": {
     "model_module": "@jupyter-widgets/base",
     "model_name": "LayoutModel",
     "model_module_version": "1.2.0",
     "state": {
      "_model_module": "@jupyter-widgets/base",
      "_model_module_version": "1.2.0",
      "_model_name": "LayoutModel",
      "_view_count": null,
      "_view_module": "@jupyter-widgets/base",
      "_view_module_version": "1.2.0",
      "_view_name": "LayoutView",
      "align_content": null,
      "align_items": null,
      "align_self": null,
      "border": null,
      "bottom": null,
      "display": null,
      "flex": null,
      "flex_flow": null,
      "grid_area": null,
      "grid_auto_columns": null,
      "grid_auto_flow": null,
      "grid_auto_rows": null,
      "grid_column": null,
      "grid_gap": null,
      "grid_row": null,
      "grid_template_areas": null,
      "grid_template_columns": null,
      "grid_template_rows": null,
      "height": null,
      "justify_content": null,
      "justify_items": null,
      "left": null,
      "margin": null,
      "max_height": null,
      "max_width": null,
      "min_height": null,
      "min_width": null,
      "object_fit": null,
      "object_position": null,
      "order": null,
      "overflow": null,
      "overflow_x": null,
      "overflow_y": null,
      "padding": null,
      "right": null,
      "top": null,
      "visibility": null,
      "width": null
     }
    },
    "d68dc58b54c64c94bbd5a60904546016": {
     "model_module": "@jupyter-widgets/controls",
     "model_name": "DescriptionStyleModel",
     "model_module_version": "1.5.0",
     "state": {
      "_model_module": "@jupyter-widgets/controls",
      "_model_module_version": "1.5.0",
      "_model_name": "DescriptionStyleModel",
      "_view_count": null,
      "_view_module": "@jupyter-widgets/base",
      "_view_module_version": "1.2.0",
      "_view_name": "StyleView",
      "description_width": ""
     }
    }
   }
  }
 },
 "cells": [
  {
   "cell_type": "markdown",
   "metadata": {
    "id": "view-in-github",
    "colab_type": "text"
   },
   "source": [
    "<a href=\"https://colab.research.google.com/github/yuvalira/Adversarial-Attacks-Article/blob/main/models/Logistic_Regression_Baseline.ipynb\" target=\"_parent\"><img src=\"https://colab.research.google.com/assets/colab-badge.svg\" alt=\"Open In Colab\"/></a>"
   ]
  },
  {
   "cell_type": "markdown",
   "source": [
    "# **Classical Model — Logistic Regression**\n",
    "\n",
    "In this section, we implement **Logistic Regression (LR)** as a baseline model for tabular classification.  \n",
    "\n",
    "Logistic Regression is a **linear model for classification**:  \n",
    "- It learns a set of weights for each input feature and combines them in a linear function.  \n",
    "- This linear combination is passed through the **sigmoid function** (binary case) or **softmax** (multi-class case), producing probabilities for each class.  \n",
    "- The model predicts the class with the highest probability.  \n",
    "\n",
    "Key properties:  \n",
    "- **Interpretability**: the learned weights (coefficients) indicate how each feature influences the prediction.  \n",
    "- **Simplicity**: provides a fast, well-understood baseline for comparison against more complex models.  \n",
    "- **Linear decision boundary**: the model separates classes using a hyperplane in the feature space.  \n",
    "- **Limitations**: struggles when the true relationship between features and target is highly non-linear (where tree-based methods or neural networks may perform better).  \n",
    "\n",
    "References:  \n",
    "- [Scikit-learn Logistic Regression](https://scikit-learn.org/stable/modules/linear_model.html#logistic-regression)\n"
   ],
   "metadata": {
    "id": "NqjFh5rSIGDK"
   }
  },
  {
   "cell_type": "markdown",
   "source": [
    "## Install & Imports"
   ],
   "metadata": {
    "id": "1vt6o1IwEqUa"
   }
  },
  {
   "cell_type": "code",
   "metadata": {
    "colab": {
     "base_uri": "https://localhost:8080/",
     "height": 17,
     "referenced_widgets": [
      "c20f88647e3d40bb936ec95209705e8d",
      "6991db53e2f145e48e2a369da5b0257c",
      "0b8b5e07346f4a05813f426659cfd631",
      "bfe76bbd9b994ad295ad188ac9491d15",
      "c263db4b5dbf4bbfb848edada66bd5ad",
      "88999ec880e44ea7a37c20de0c41bdbf",
      "403aa04bbc904e9499dd58ec6bf9db3e",
      "3b402f3436764cccac15d92ea58b15c3",
      "a278a14956744cc6bf6f5c9e672a33a5",
      "08fd8406f3884b95b0498eae4f560b8e",
      "6d038bcfdfd64833a0c3c8a079e8ab69",
      "44772c1fdfdd41758d872bd55a6dc3a9",
      "2adf673745f24d32bc58578d5a35f2a5",
      "44a9f3c3a79e4e0f8cfd47855a330dfb",
      "929c5f7aaf1e40e2b65b5b0faef1d778",
      "e3680fd96bc34158a3aa5e15eb2c3b61",
      "ee055fede5ac48baa0cd394ac2a37c2a",
      "5e290a1cd11d44b287b862cba1da1604",
      "8c89083770e449769f231db360080b79",
      "69e2c93ae5c147da87984c2806207301"
     ]
    },
    "id": "J-JNJG-VDPgD",
    "outputId": "260aae30-eeba-43c0-8c99-d9d8f89e2501",
    "ExecuteTime": {
     "end_time": "2025-09-04T14:59:51.527086Z",
     "start_time": "2025-09-04T14:59:47.018425Z"
    }
   },
   "source": [
    "!pip -q install -U scikit-learn huggingface_hub\n",
    "\n",
    "import time\n",
    "import numpy as np\n",
    "import pandas as pd\n",
    "import matplotlib.pyplot as plt\n",
    "\n",
    "from huggingface_hub import hf_hub_download\n",
    "\n",
    "from sklearn.compose import ColumnTransformer\n",
    "from sklearn.pipeline import Pipeline\n",
    "from sklearn.preprocessing import OneHotEncoder, StandardScaler\n",
    "from sklearn.impute import SimpleImputer\n",
    "from sklearn.linear_model import LogisticRegression\n",
    "\n",
    "from sklearn.metrics import (\n",
    "    accuracy_score, precision_score, recall_score, f1_score,\n",
    "    roc_auc_score, roc_curve, classification_report, confusion_matrix\n",
    ")\n",
    "\n",
    "RANDOM_STATE = 42\n",
    "np.random.seed(RANDOM_STATE)"
   ],
   "outputs": [
    {
     "name": "stderr",
     "output_type": "stream",
     "text": [
      "\n",
      "[notice] A new release of pip is available: 25.1.1 -> 25.2\n",
      "[notice] To update, run: python.exe -m pip install --upgrade pip\n"
     ]
    }
   ],
   "execution_count": 3
  },
  {
   "cell_type": "markdown",
   "source": [
    "## Load Datasets from Hugging Face"
   ],
   "metadata": {
    "id": "AS9MThJ1E2UG"
   }
  },
  {
   "cell_type": "code",
   "source": [
    "# Force anonymous download\n",
    "from huggingface_hub import hf_hub_download\n",
    "import pandas as pd\n",
    "\n",
    "repo_id   = \"yuvalira/adult_income_balanced\"\n",
    "repo_type = \"dataset\"\n",
    "\n",
    "train_path = hf_hub_download(repo_id=repo_id, filename=\"train.csv\",\n",
    "                             repo_type=repo_type, token=False)\n",
    "val_path   = hf_hub_download(repo_id=repo_id, filename=\"val.csv\",\n",
    "                             repo_type=repo_type, token=False)\n",
    "\n",
    "train_data = pd.read_csv(train_path)\n",
    "val_data   = pd.read_csv(val_path)"
   ],
   "metadata": {
    "colab": {
     "base_uri": "https://localhost:8080/",
     "height": 351,
     "referenced_widgets": [
      "f09b0dc7b4914152b076b0ab60a57cb2",
      "8c9f9d378b9141a582cdf716612581da",
      "6ae9315810ea435c829f54a385646175",
      "10c5f6439ae74867879d2b46c372ce8d",
      "8e914958504a465ab2a25f918ef26b91",
      "3ac480bc89cc4840a9dfb32836e476ea",
      "2561b0cba6e244de91fe59175a988c59",
      "87e8ba8866c146f2b5b08e05fd0559fd",
      "682a7cd20b33420d8c2cc331fc015ba0",
      "5dc3837aa39e4161a5c3886a339397a0",
      "39355bb9edfa4da2b1bed518af8be3ad",
      "170e5c8e384b48818b5702a323e032c1",
      "36a6c67f691b42d4969b411b96802843",
      "46d0c7771de948a3a2d3bde1922c3dcc",
      "f0fbe8b0fe334069906836630714b92c",
      "6df1c6ed99d543e38d5c0085854eaca5",
      "a19d01a8f3a94645ac9d93263a3382c3",
      "4204455731df479eb6e11764e9e63a2e",
      "a87ab3f9227c4208bca718e90d705748",
      "7164baef76f64f6ba294fb1d5cee2bc5",
      "c8120e89952440c5bea168f4a441f05a",
      "d68dc58b54c64c94bbd5a60904546016"
     ]
    },
    "id": "rHSaNXc9E8CT",
    "outputId": "e87f9908-eece-4047-b4da-6b4413d0f786",
    "ExecuteTime": {
     "end_time": "2025-09-04T15:02:10.933153Z",
     "start_time": "2025-09-04T15:02:08.155963Z"
    }
   },
   "outputs": [
    {
     "name": "stderr",
     "output_type": "stream",
     "text": [
      "C:\\Users\\Owner\\PycharmProjects\\Adversarial-Attacks-Article\\.venv\\Lib\\site-packages\\huggingface_hub\\file_download.py:143: UserWarning: `huggingface_hub` cache-system uses symlinks by default to efficiently store duplicated files but your machine does not support them in C:\\Users\\Owner\\.cache\\huggingface\\hub\\datasets--yuvalira--adult_income_balanced. Caching files will still work but in a degraded version that might require more space on your disk. This warning can be disabled by setting the `HF_HUB_DISABLE_SYMLINKS_WARNING` environment variable. For more details, see https://huggingface.co/docs/huggingface_hub/how-to-cache#limitations.\n",
      "To support symlinks on Windows, you either need to activate Developer Mode or to run Python as an administrator. In order to activate developer mode, see this article: https://docs.microsoft.com/en-us/windows/apps/get-started/enable-your-device-for-development\n",
      "  warnings.warn(message)\n"
     ]
    }
   ],
   "execution_count": 6
  },
  {
   "cell_type": "markdown",
   "source": [
    "## Discover column types & configure target"
   ],
   "metadata": {
    "id": "8ezcJJZEFHc_"
   }
  },
  {
   "cell_type": "code",
   "source": [
    "auto_num = train_data.select_dtypes(include=['int64','float64','int32','float32']).columns.tolist()\n",
    "auto_cat = train_data.select_dtypes(include=['object','category','bool']).columns.tolist()\n",
    "\n",
    "print(\"Auto numeric:\", auto_num)\n",
    "print(\"Auto categorical:\", auto_cat)\n",
    "\n",
    "TARGET_COLUMN_NAME = \"income\"                 # TODO\n",
    "TARGET_LABELS = [\">50K\", \"<=50K\"]             # TODO (order defines 0/1/etc.)\n",
    "SAMPLE_WEIGHT_COLUMN = None                   # or e.g. \"weight\"\n",
    "\n",
    "NUMERIC_FEATURE_NAMES = [c for c in auto_num if c != TARGET_COLUMN_NAME]\n",
    "CATEGORICAL_FEATURE_NAMES = [c for c in auto_cat if c != TARGET_COLUMN_NAME]\n",
    "\n",
    "print(\"\\nUsing features:\")\n",
    "print(\"NUMERIC_FEATURE_NAMES:\", NUMERIC_FEATURE_NAMES)\n",
    "print(\"CATEGORICAL_FEATURE_NAMES:\", CATEGORICAL_FEATURE_NAMES)"
   ],
   "metadata": {
    "colab": {
     "base_uri": "https://localhost:8080/"
    },
    "id": "THuKaRx0FBk1",
    "outputId": "b93d2327-cb19-4261-fae1-a02fbde16849",
    "ExecuteTime": {
     "end_time": "2025-09-04T15:03:00.892669Z",
     "start_time": "2025-09-04T15:03:00.880192Z"
    }
   },
   "outputs": [
    {
     "name": "stdout",
     "output_type": "stream",
     "text": [
      "Auto numeric: ['age', 'educational-num', 'capital-gain', 'capital-loss', 'hours-per-week']\n",
      "Auto categorical: ['workclass', 'education', 'marital-status', 'occupation', 'relationship', 'race', 'gender', 'native-country', 'income']\n",
      "\n",
      "Using features:\n",
      "NUMERIC_FEATURE_NAMES: ['age', 'educational-num', 'capital-gain', 'capital-loss', 'hours-per-week']\n",
      "CATEGORICAL_FEATURE_NAMES: ['workclass', 'education', 'marital-status', 'occupation', 'relationship', 'race', 'gender', 'native-country']\n"
     ]
    }
   ],
   "execution_count": 7
  },
  {
   "cell_type": "markdown",
   "source": [
    "## Prepare dataframes (map target to ints, cast categoricals to str)"
   ],
   "metadata": {
    "id": "GTpjxrA8FVvy"
   }
  },
  {
   "cell_type": "code",
   "source": [
    "train_data = train_data.copy()\n",
    "val_data   = val_data.copy()\n",
    "\n",
    "label2id = {lbl: i for i, lbl in enumerate(TARGET_LABELS)}\n",
    "id2label = {i: lbl for lbl, i in label2id.items()}\n",
    "\n",
    "def map_target(df: pd.DataFrame):\n",
    "    if not np.issubdtype(df[TARGET_COLUMN_NAME].dtype, np.integer):\n",
    "        df[TARGET_COLUMN_NAME] = df[TARGET_COLUMN_NAME].map(label2id)\n",
    "    if df[TARGET_COLUMN_NAME].isna().any():\n",
    "        bad = df[df[TARGET_COLUMN_NAME].isna()][TARGET_COLUMN_NAME].shape[0]\n",
    "        raise ValueError(f\"{bad} unmapped target values. Check TARGET_LABELS.\")\n",
    "    return df\n",
    "\n",
    "for df in (train_data, val_data):\n",
    "    for c in CATEGORICAL_FEATURE_NAMES:\n",
    "        df[c] = df[c].astype(str)\n",
    "    map_target(df)\n",
    "\n",
    "n_classes = len(np.unique(train_data[TARGET_COLUMN_NAME]))\n",
    "print(\"Detected #classes:\", n_classes, \"->\", [id2label[i] for i in range(n_classes)])"
   ],
   "metadata": {
    "colab": {
     "base_uri": "https://localhost:8080/"
    },
    "id": "MhYzPR6jFamG",
    "outputId": "5f472cce-e8a4-4545-841b-b146e2943e86",
    "ExecuteTime": {
     "end_time": "2025-09-04T15:03:05.250246Z",
     "start_time": "2025-09-04T15:03:05.221061Z"
    }
   },
   "outputs": [
    {
     "name": "stdout",
     "output_type": "stream",
     "text": [
      "Detected #classes: 2 -> ['>50K', '<=50K']\n"
     ]
    }
   ],
   "execution_count": 8
  },
  {
   "cell_type": "markdown",
   "source": [
    "## Preprocess & Model pipeline"
   ],
   "metadata": {
    "id": "anWWYVTWFkcG"
   }
  },
  {
   "cell_type": "code",
   "source": [
    "numeric_pipe = Pipeline([\n",
    "    (\"imputer\", SimpleImputer(strategy=\"median\")),\n",
    "    (\"scaler\", StandardScaler()),\n",
    "])\n",
    "categorical_pipe = Pipeline([\n",
    "    (\"imputer\", SimpleImputer(strategy=\"most_frequent\")),\n",
    "    (\"ohe\", OneHotEncoder(handle_unknown=\"ignore\", sparse_output=False)),\n",
    "])\n",
    "\n",
    "preprocessor = ColumnTransformer(\n",
    "    transformers=[\n",
    "        (\"num\", numeric_pipe, NUMERIC_FEATURE_NAMES),\n",
    "        (\"cat\", categorical_pipe, CATEGORICAL_FEATURE_NAMES),\n",
    "    ],\n",
    "    remainder=\"drop\",\n",
    "    verbose_feature_names_out=True\n",
    ")\n",
    "\n",
    "log_reg = LogisticRegression(\n",
    "    penalty=\"l2\",\n",
    "    solver=\"lbfgs\",\n",
    "    multi_class=\"auto\",\n",
    "    max_iter=2000,\n",
    "    random_state=RANDOM_STATE\n",
    ")\n",
    "\n",
    "clf_lr = Pipeline([\n",
    "    (\"preprocessor\", preprocessor),\n",
    "    (\"clf\", log_reg),\n",
    "])\n",
    "\n",
    "print(\"Pipeline ready.\")"
   ],
   "metadata": {
    "colab": {
     "base_uri": "https://localhost:8080/"
    },
    "id": "U16KVdOLFhn_",
    "outputId": "0c8fe6f9-0378-4ada-f06d-740b8df664d3",
    "ExecuteTime": {
     "end_time": "2025-09-04T15:03:08.508886Z",
     "start_time": "2025-09-04T15:03:08.503072Z"
    }
   },
   "outputs": [
    {
     "name": "stdout",
     "output_type": "stream",
     "text": [
      "Pipeline ready.\n"
     ]
    }
   ],
   "execution_count": 9
  },
  {
   "cell_type": "markdown",
   "source": [
    "## Train & Evaluate"
   ],
   "metadata": {
    "id": "h2ZEwrRlFqct"
   }
  },
  {
   "cell_type": "code",
   "source": [
    "def split_Xy(df: pd.DataFrame):\n",
    "    X = df.drop(columns=[TARGET_COLUMN_NAME])\n",
    "    y = df[TARGET_COLUMN_NAME].values\n",
    "    sw = df[SAMPLE_WEIGHT_COLUMN].values if SAMPLE_WEIGHT_COLUMN else None\n",
    "    return X, y, sw\n",
    "\n",
    "def compute_metrics(y_true, y_pred, y_prob=None, average=None, sample_weight=None):\n",
    "    acc = accuracy_score(y_true, y_pred, sample_weight=sample_weight)\n",
    "    if average is None:\n",
    "        prec = precision_score(y_true, y_pred, sample_weight=sample_weight)\n",
    "        rec  = recall_score(y_true, y_pred, sample_weight=sample_weight)\n",
    "        f1   = f1_score(y_true, y_pred, sample_weight=sample_weight)\n",
    "    else:\n",
    "        prec = precision_score(y_true, y_pred, average=average, sample_weight=sample_weight, zero_division=0)\n",
    "        rec  = recall_score(y_true, y_pred, average=average, sample_weight=sample_weight, zero_division=0)\n",
    "        f1   = f1_score(y_true, y_pred, average=average, sample_weight=sample_weight, zero_division=0)\n",
    "\n",
    "    out = {\"accuracy\": acc, \"precision\": prec, \"recall\": rec, \"f1\": f1}\n",
    "\n",
    "    if y_prob is not None:\n",
    "        try:\n",
    "            if y_prob.ndim == 1 or (y_prob.shape[1] == 1):\n",
    "                auc = roc_auc_score(y_true, y_prob, sample_weight=sample_weight)\n",
    "            elif y_prob.shape[1] == 2:\n",
    "                auc = roc_auc_score(y_true, y_prob[:, 1], sample_weight=sample_weight)\n",
    "            else:\n",
    "                auc = roc_auc_score(y_true, y_prob, multi_class=\"ovr\", average=\"macro\", sample_weight=sample_weight)\n",
    "            out[\"roc_auc\"] = auc\n",
    "        except Exception:\n",
    "            pass\n",
    "    return out\n",
    "\n",
    "def run_experiment_lr_train_val(pipeline, train_df, val_df):\n",
    "    X_train, y_train, sw_train = split_Xy(train_df)\n",
    "    X_val,   y_val,   sw_val   = split_Xy(val_df)\n",
    "\n",
    "    t0 = time.time()\n",
    "    pipeline.fit(X_train, y_train, **({\"clf__sample_weight\": sw_train} if sw_train is not None else {}))\n",
    "    train_time = time.time() - t0\n",
    "    print(f\"Training time: {train_time:.2f}s\")\n",
    "\n",
    "    yv_pred = pipeline.predict(X_val)\n",
    "    yv_prob = pipeline.predict_proba(X_val) if hasattr(pipeline.named_steps[\"clf\"], \"predict_proba\") else None\n",
    "\n",
    "    avg = None if n_classes == 2 else \"macro\"\n",
    "    val_metrics = compute_metrics(y_val, yv_pred, yv_prob, average=avg, sample_weight=sw_val)\n",
    "    print(\"\\nValidation metrics:\", {k: round(v, 4) for k, v in val_metrics.items()})\n",
    "\n",
    "    print(\"\\nClassification report (val):\")\n",
    "    print(classification_report(y_val, yv_pred, target_names=[id2label[i] for i in range(n_classes)], zero_division=0))\n",
    "\n",
    "    print(\"Confusion matrix (val):\")\n",
    "    print(confusion_matrix(y_val, yv_pred))\n",
    "\n",
    "    return pipeline, (X_val, y_val, yv_prob)"
   ],
   "metadata": {
    "id": "49EKclpaGvXa",
    "ExecuteTime": {
     "end_time": "2025-09-04T15:03:12.807022Z",
     "start_time": "2025-09-04T15:03:12.794292Z"
    }
   },
   "outputs": [],
   "execution_count": 10
  },
  {
   "cell_type": "markdown",
   "source": [
    "## Fit & Evaluate"
   ],
   "metadata": {
    "id": "sDqSltszG5dG"
   }
  },
  {
   "cell_type": "code",
   "source": [
    "clf_lr, (X_val, y_val, y_prob_val) = run_experiment_lr_train_val(\n",
    "    clf_lr, train_data, val_data\n",
    ")"
   ],
   "metadata": {
    "colab": {
     "base_uri": "https://localhost:8080/"
    },
    "id": "Ast2pxTLG1qR",
    "outputId": "005ad788-4ed7-4495-f0a1-93ecbd77ce77",
    "ExecuteTime": {
     "end_time": "2025-09-04T15:03:16.847636Z",
     "start_time": "2025-09-04T15:03:16.527876Z"
    }
   },
   "outputs": [
    {
     "name": "stderr",
     "output_type": "stream",
     "text": [
      "C:\\Users\\Owner\\PycharmProjects\\Adversarial-Attacks-Article\\.venv\\Lib\\site-packages\\sklearn\\linear_model\\_logistic.py:1272: FutureWarning: 'multi_class' was deprecated in version 1.5 and will be removed in 1.7. From then on, it will always use 'multinomial'. Leave it to its default value to avoid this warning.\n",
      "  warnings.warn(\n"
     ]
    },
    {
     "name": "stdout",
     "output_type": "stream",
     "text": [
      "Training time: 0.26s\n",
      "\n",
      "Validation metrics: {'accuracy': 0.8284, 'precision': 0.851, 'recall': 0.7964, 'f1': 0.8228, 'roc_auc': 0.9109}\n",
      "\n",
      "Classification report (val):\n",
      "              precision    recall  f1-score   support\n",
      "\n",
      "        >50K       0.81      0.86      0.83      1168\n",
      "       <=50K       0.85      0.80      0.82      1169\n",
      "\n",
      "    accuracy                           0.83      2337\n",
      "   macro avg       0.83      0.83      0.83      2337\n",
      "weighted avg       0.83      0.83      0.83      2337\n",
      "\n",
      "Confusion matrix (val):\n",
      "[[1005  163]\n",
      " [ 238  931]]\n"
     ]
    }
   ],
   "execution_count": 11
  },
  {
   "cell_type": "markdown",
   "source": [
    "## Plot ROC"
   ],
   "metadata": {
    "id": "IaVSSNVwHD6e"
   }
  },
  {
   "cell_type": "code",
   "source": [
    "if y_prob_val is not None:\n",
    "    if n_classes == 2:\n",
    "        pos_scores = y_prob_val[:, 1] if y_prob_val.ndim > 1 else y_prob_val\n",
    "        fpr, tpr, _ = roc_curve(y_val, pos_scores)\n",
    "        auc = roc_auc_score(y_val, pos_scores)\n",
    "        plt.figure(figsize=(7,5))\n",
    "        plt.plot(fpr, tpr, label=f\"AUC = {auc:.4f}\", linewidth=2)\n",
    "        plt.plot([0,1],[0,1],'--', label=\"Random\")\n",
    "        plt.xlabel(\"False Positive Rate\"); plt.ylabel(\"True Positive Rate\")\n",
    "        plt.title(\"ROC Curve — Logistic Regression (Validation)\")\n",
    "        plt.legend(loc=\"lower right\"); plt.grid(True); plt.tight_layout(); plt.show()\n",
    "    else:\n",
    "        from sklearn.preprocessing import label_binarize\n",
    "        Y_true_bin = label_binarize(y_val, classes=list(range(n_classes)))\n",
    "        fpr, tpr, _ = roc_curve(Y_true_bin.ravel(), y_prob_val.ravel())\n",
    "        auc = roc_auc_score(Y_true_bin, y_prob_val, average=\"micro\", multi_class=\"ovr\")\n",
    "        plt.figure(figsize=(7,5))\n",
    "        plt.plot(fpr, tpr, label=f\"Micro-avg AUC = {auc:.4f}\", linewidth=2)\n",
    "        plt.plot([0,1],[0,1],'--', label=\"Random\")\n",
    "        plt.xlabel(\"False Positive Rate\"); plt.ylabel(\"True Positive Rate\")\n",
    "        plt.title(\"ROC Curve (Validation, micro-avg) — Logistic Regression\")\n",
    "        plt.legend(loc=\"lower right\"); plt.grid(True); plt.tight_layout(); plt.show()\n",
    "else:\n",
    "    print(\"No predict_proba available; ROC not plotted.\")"
   ],
   "metadata": {
    "colab": {
     "base_uri": "https://localhost:8080/",
     "height": 507
    },
    "id": "xlLquiGzG1pF",
    "outputId": "c1a32816-ebec-445a-b0c9-3214a1bd8b79",
    "ExecuteTime": {
     "end_time": "2025-09-04T15:03:31.468059Z",
     "start_time": "2025-09-04T15:03:31.222764Z"
    }
   },
   "outputs": [
    {
     "data": {
      "text/plain": [
       "<Figure size 700x500 with 1 Axes>"
      ],
      "image/png": "[encoded data removed]"
     },
     "metadata": {},
     "output_type": "display_data"
    }
   ],
   "execution_count": 12
  },
  {
   "cell_type": "markdown",
   "source": [
    "## Save the pipeline"
   ],
   "metadata": {
    "id": "OuwkOE5VHRjT"
   }
  },
  {
   "cell_type": "code",
   "source": [
    "import os\n",
    "print(\"Current working directory:\", os.getcwd())"
   ],
   "metadata": {
    "id": "f5b7Mqf7HS2o",
    "ExecuteTime": {
     "end_time": "2025-09-04T15:03:35.097643Z",
     "start_time": "2025-09-04T15:03:35.093481Z"
    }
   },
   "outputs": [
    {
     "name": "stdout",
     "output_type": "stream",
     "text": [
      "Current working directory: C:\\Users\\Owner\\PycharmProjects\\Adversarial-Attacks-Article\\models\n"
     ]
    }
   ],
   "execution_count": 13
  },
  {
   "cell_type": "code",
   "source": [
    "import joblib\n",
    "\n",
    "# Turn repo_id into a safe filename: remove slashes, spaces, etc.\n",
    "safe_repo_id = repo_id.replace(\"/\", \"_\").replace(\" \", \"_\")\n",
    "\n",
    "# Build model filename\n",
    "model_path = f\"logreg_pipeline_{safe_repo_id}.joblib\"\n",
    "\n",
    "# Save in the same folder as the notebook\n",
    "joblib.dump(clf_lr, model_path)\n",
    "\n",
    "print(f\"Model saved at: {os.path.abspath(model_path)}\")"
   ],
   "metadata": {
    "id": "RvO4Brj6Hxx-",
    "ExecuteTime": {
     "end_time": "2025-09-04T15:04:09.169105Z",
     "start_time": "2025-09-04T15:04:09.158285Z"
    }
   },
   "outputs": [
    {
     "name": "stdout",
     "output_type": "stream",
     "text": [
      "Model saved at: C:\\Users\\Owner\\PycharmProjects\\Adversarial-Attacks-Article\\models\\logreg_pipeline_yuvalira_adult_income_balanced.joblib\n"
     ]
    }
   ],
   "execution_count": 14
  }
 ]
}
