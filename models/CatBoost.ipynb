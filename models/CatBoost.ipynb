{
 "nbformat": 4,
 "nbformat_minor": 0,
 "metadata": {
  "colab": {
   "provenance": [],
   "gpuType": "T4",
   "authorship_tag": "ABX9TyOLF3xB/e1iHvBdpepmtoiG",
   "include_colab_link": true
  },
  "kernelspec": {
   "name": "python3",
   "display_name": "Python 3 (ipykernel)",
   "language": "python"
  },
  "language_info": {
   "name": "python"
  },
  "accelerator": "GPU",
  "widgets": {
   "application/vnd.jupyter.widget-state+json": {
    "a303564db2504e20ba98d6381e3c178e": {
     "model_module": "@jupyter-widgets/controls",
     "model_name": "HBoxModel",
     "model_module_version": "1.5.0",
     "state": {
      "_dom_classes": [],
      "_model_module": "@jupyter-widgets/controls",
      "_model_module_version": "1.5.0",
      "_model_name": "HBoxModel",
      "_view_count": null,
      "_view_module": "@jupyter-widgets/controls",
      "_view_module_version": "1.5.0",
      "_view_name": "HBoxView",
      "box_style": "",
      "children": [
       "IPY_MODEL_a07c996534e740369ce94243b4b244b4",
       "IPY_MODEL_8cf838c02c544e9c8dbcb218b84fb8f5",
       "IPY_MODEL_cce1c6964a3844dab30b5f0359e69205"
      ],
      "layout": "IPY_MODEL_406c971cdba34aa6b260f5d807bf0679"
     }
    },
    "a07c996534e740369ce94243b4b244b4": {
     "model_module": "@jupyter-widgets/controls",
     "model_name": "HTMLModel",
     "model_module_version": "1.5.0",
     "state": {
      "_dom_classes": [],
      "_model_module": "@jupyter-widgets/controls",
      "_model_module_version": "1.5.0",
      "_model_name": "HTMLModel",
      "_view_count": null,
      "_view_module": "@jupyter-widgets/controls",
      "_view_module_version": "1.5.0",
      "_view_name": "HTMLView",
      "description": "",
      "description_tooltip": null,
      "layout": "IPY_MODEL_df4be2dad02e4abaa0c6019c01046ad1",
      "placeholder": "​",
      "style": "IPY_MODEL_c3aa7f6b4765427ea7eee6a65ef43df3",
      "value": "train.csv: "
     }
    },
    "8cf838c02c544e9c8dbcb218b84fb8f5": {
     "model_module": "@jupyter-widgets/controls",
     "model_name": "FloatProgressModel",
     "model_module_version": "1.5.0",
     "state": {
      "_dom_classes": [],
      "_model_module": "@jupyter-widgets/controls",
      "_model_module_version": "1.5.0",
      "_model_name": "FloatProgressModel",
      "_view_count": null,
      "_view_module": "@jupyter-widgets/controls",
      "_view_module_version": "1.5.0",
      "_view_name": "ProgressView",
      "bar_style": "success",
      "description": "",
      "description_tooltip": null,
      "layout": "IPY_MODEL_bfb1ec2b189d40028d4610b668c4dd65",
      "max": 1,
      "min": 0,
      "orientation": "horizontal",
      "style": "IPY_MODEL_3c77692b98f94e0e833e563fc9b4385b",
      "value": 1
     }
    },
    "cce1c6964a3844dab30b5f0359e69205": {
     "model_module": "@jupyter-widgets/controls",
     "model_name": "HTMLModel",
     "model_module_version": "1.5.0",
     "state": {
      "_dom_classes": [],
      "_model_module": "@jupyter-widgets/controls",
      "_model_module_version": "1.5.0",
      "_model_name": "HTMLModel",
      "_view_count": null,
      "_view_module": "@jupyter-widgets/controls",
      "_view_module_version": "1.5.0",
      "_view_name": "HTMLView",
      "description": "",
      "description_tooltip": null,
      "layout": "IPY_MODEL_fe83a4f4891a483eac746ed551aad74b",
      "placeholder": "​",
      "style": "IPY_MODEL_f49439b80de64709a5968ef981bee67f",
      "value": " 1.20M/? [00:00&lt;00:00, 47.5MB/s]"
     }
    },
    "406c971cdba34aa6b260f5d807bf0679": {
     "model_module": "@jupyter-widgets/base",
     "model_name": "LayoutModel",
     "model_module_version": "1.2.0",
     "state": {
      "_model_module": "@jupyter-widgets/base",
      "_model_module_version": "1.2.0",
      "_model_name": "LayoutModel",
      "_view_count": null,
      "_view_module": "@jupyter-widgets/base",
      "_view_module_version": "1.2.0",
      "_view_name": "LayoutView",
      "align_content": null,
      "align_items": null,
      "align_self": null,
      "border": null,
      "bottom": null,
      "display": null,
      "flex": null,
      "flex_flow": null,
      "grid_area": null,
      "grid_auto_columns": null,
      "grid_auto_flow": null,
      "grid_auto_rows": null,
      "grid_column": null,
      "grid_gap": null,
      "grid_row": null,
      "grid_template_areas": null,
      "grid_template_columns": null,
      "grid_template_rows": null,
      "height": null,
      "justify_content": null,
      "justify_items": null,
      "left": null,
      "margin": null,
      "max_height": null,
      "max_width": null,
      "min_height": null,
      "min_width": null,
      "object_fit": null,
      "object_position": null,
      "order": null,
      "overflow": null,
      "overflow_x": null,
      "overflow_y": null,
      "padding": null,
      "right": null,
      "top": null,
      "visibility": null,
      "width": null
     }
    },
    "df4be2dad02e4abaa0c6019c01046ad1": {
     "model_module": "@jupyter-widgets/base",
     "model_name": "LayoutModel",
     "model_module_version": "1.2.0",
     "state": {
      "_model_module": "@jupyter-widgets/base",
      "_model_module_version": "1.2.0",
      "_model_name": "LayoutModel",
      "_view_count": null,
      "_view_module": "@jupyter-widgets/base",
      "_view_module_version": "1.2.0",
      "_view_name": "LayoutView",
      "align_content": null,
      "align_items": null,
      "align_self": null,
      "border": null,
      "bottom": null,
      "display": null,
      "flex": null,
      "flex_flow": null,
      "grid_area": null,
      "grid_auto_columns": null,
      "grid_auto_flow": null,
      "grid_auto_rows": null,
      "grid_column": null,
      "grid_gap": null,
      "grid_row": null,
      "grid_template_areas": null,
      "grid_template_columns": null,
      "grid_template_rows": null,
      "height": null,
      "justify_content": null,
      "justify_items": null,
      "left": null,
      "margin": null,
      "max_height": null,
      "max_width": null,
      "min_height": null,
      "min_width": null,
      "object_fit": null,
      "object_position": null,
      "order": null,
      "overflow": null,
      "overflow_x": null,
      "overflow_y": null,
      "padding": null,
      "right": null,
      "top": null,
      "visibility": null,
      "width": null
     }
    },
    "c3aa7f6b4765427ea7eee6a65ef43df3": {
     "model_module": "@jupyter-widgets/controls",
     "model_name": "DescriptionStyleModel",
     "model_module_version": "1.5.0",
     "state": {
      "_model_module": "@jupyter-widgets/controls",
      "_model_module_version": "1.5.0",
      "_model_name": "DescriptionStyleModel",
      "_view_count": null,
      "_view_module": "@jupyter-widgets/base",
      "_view_module_version": "1.2.0",
      "_view_name": "StyleView",
      "description_width": ""
     }
    },
    "bfb1ec2b189d40028d4610b668c4dd65": {
     "model_module": "@jupyter-widgets/base",
     "model_name": "LayoutModel",
     "model_module_version": "1.2.0",
     "state": {
      "_model_module": "@jupyter-widgets/base",
      "_model_module_version": "1.2.0",
      "_model_name": "LayoutModel",
      "_view_count": null,
      "_view_module": "@jupyter-widgets/base",
      "_view_module_version": "1.2.0",
      "_view_name": "LayoutView",
      "align_content": null,
      "align_items": null,
      "align_self": null,
      "border": null,
      "bottom": null,
      "display": null,
      "flex": null,
      "flex_flow": null,
      "grid_area": null,
      "grid_auto_columns": null,
      "grid_auto_flow": null,
      "grid_auto_rows": null,
      "grid_column": null,
      "grid_gap": null,
      "grid_row": null,
      "grid_template_areas": null,
      "grid_template_columns": null,
      "grid_template_rows": null,
      "height": null,
      "justify_content": null,
      "justify_items": null,
      "left": null,
      "margin": null,
      "max_height": null,
      "max_width": null,
      "min_height": null,
      "min_width": null,
      "object_fit": null,
      "object_position": null,
      "order": null,
      "overflow": null,
      "overflow_x": null,
      "overflow_y": null,
      "padding": null,
      "right": null,
      "top": null,
      "visibility": null,
      "width": "20px"
     }
    },
    "3c77692b98f94e0e833e563fc9b4385b": {
     "model_module": "@jupyter-widgets/controls",
     "model_name": "ProgressStyleModel",
     "model_module_version": "1.5.0",
     "state": {
      "_model_module": "@jupyter-widgets/controls",
      "_model_module_version": "1.5.0",
      "_model_name": "ProgressStyleModel",
      "_view_count": null,
      "_view_module": "@jupyter-widgets/base",
      "_view_module_version": "1.2.0",
      "_view_name": "StyleView",
      "bar_color": null,
      "description_width": ""
     }
    },
    "fe83a4f4891a483eac746ed551aad74b": {
     "model_module": "@jupyter-widgets/base",
     "model_name": "LayoutModel",
     "model_module_version": "1.2.0",
     "state": {
      "_model_module": "@jupyter-widgets/base",
      "_model_module_version": "1.2.0",
      "_model_name": "LayoutModel",
      "_view_count": null,
      "_view_module": "@jupyter-widgets/base",
      "_view_module_version": "1.2.0",
      "_view_name": "LayoutView",
      "align_content": null,
      "align_items": null,
      "align_self": null,
      "border": null,
      "bottom": null,
      "display": null,
      "flex": null,
      "flex_flow": null,
      "grid_area": null,
      "grid_auto_columns": null,
      "grid_auto_flow": null,
      "grid_auto_rows": null,
      "grid_column": null,
      "grid_gap": null,
      "grid_row": null,
      "grid_template_areas": null,
      "grid_template_columns": null,
      "grid_template_rows": null,
      "height": null,
      "justify_content": null,
      "justify_items": null,
      "left": null,
      "margin": null,
      "max_height": null,
      "max_width": null,
      "min_height": null,
      "min_width": null,
      "object_fit": null,
      "object_position": null,
      "order": null,
      "overflow": null,
      "overflow_x": null,
      "overflow_y": null,
      "padding": null,
      "right": null,
      "top": null,
      "visibility": null,
      "width": null
     }
    },
    "f49439b80de64709a5968ef981bee67f": {
     "model_module": "@jupyter-widgets/controls",
     "model_name": "DescriptionStyleModel",
     "model_module_version": "1.5.0",
     "state": {
      "_model_module": "@jupyter-widgets/controls",
      "_model_module_version": "1.5.0",
      "_model_name": "DescriptionStyleModel",
      "_view_count": null,
      "_view_module": "@jupyter-widgets/base",
      "_view_module_version": "1.2.0",
      "_view_name": "StyleView",
      "description_width": ""
     }
    },
    "3527310d40434b48b2ba790b84c49c6f": {
     "model_module": "@jupyter-widgets/controls",
     "model_name": "HBoxModel",
     "model_module_version": "1.5.0",
     "state": {
      "_dom_classes": [],
      "_model_module": "@jupyter-widgets/controls",
      "_model_module_version": "1.5.0",
      "_model_name": "HBoxModel",
      "_view_count": null,
      "_view_module": "@jupyter-widgets/controls",
      "_view_module_version": "1.5.0",
      "_view_name": "HBoxView",
      "box_style": "",
      "children": [
       "IPY_MODEL_d162613c0fea42b2914640e45e6c3c99",
       "IPY_MODEL_946b7931a88a473ba105aa32ed3d1055",
       "IPY_MODEL_d956f9a1dcce470dbc8aaace2a92d84c"
      ],
      "layout": "IPY_MODEL_80b935a105d0470abf32128d35d3063c"
     }
    },
    "d162613c0fea42b2914640e45e6c3c99": {
     "model_module": "@jupyter-widgets/controls",
     "model_name": "HTMLModel",
     "model_module_version": "1.5.0",
     "state": {
      "_dom_classes": [],
      "_model_module": "@jupyter-widgets/controls",
      "_model_module_version": "1.5.0",
      "_model_name": "HTMLModel",
      "_view_count": null,
      "_view_module": "@jupyter-widgets/controls",
      "_view_module_version": "1.5.0",
      "_view_name": "HTMLView",
      "description": "",
      "description_tooltip": null,
      "layout": "IPY_MODEL_447b035b04d7485bb79c9c7bde2705db",
      "placeholder": "​",
      "style": "IPY_MODEL_8dae673ebb8f4d83baf82e14e296e398",
      "value": "val.csv: "
     }
    },
    "946b7931a88a473ba105aa32ed3d1055": {
     "model_module": "@jupyter-widgets/controls",
     "model_name": "FloatProgressModel",
     "model_module_version": "1.5.0",
     "state": {
      "_dom_classes": [],
      "_model_module": "@jupyter-widgets/controls",
      "_model_module_version": "1.5.0",
      "_model_name": "FloatProgressModel",
      "_view_count": null,
      "_view_module": "@jupyter-widgets/controls",
      "_view_module_version": "1.5.0",
      "_view_name": "ProgressView",
      "bar_style": "success",
      "description": "",
      "description_tooltip": null,
      "layout": "IPY_MODEL_552488c99afa4d44b406f0c8f1bf9023",
      "max": 1,
      "min": 0,
      "orientation": "horizontal",
      "style": "IPY_MODEL_943b68cff46446069dbf82a95839f2c7",
      "value": 1
     }
    },
    "d956f9a1dcce470dbc8aaace2a92d84c": {
     "model_module": "@jupyter-widgets/controls",
     "model_name": "HTMLModel",
     "model_module_version": "1.5.0",
     "state": {
      "_dom_classes": [],
      "_model_module": "@jupyter-widgets/controls",
      "_model_module_version": "1.5.0",
      "_model_name": "HTMLModel",
      "_view_count": null,
      "_view_module": "@jupyter-widgets/controls",
      "_view_module_version": "1.5.0",
      "_view_name": "HTMLView",
      "description": "",
      "description_tooltip": null,
      "layout": "IPY_MODEL_c7d844995653421f838b418783794a60",
      "placeholder": "​",
      "style": "IPY_MODEL_50acbd6f12054bf18051e364282eb180",
      "value": " 241k/? [00:00&lt;00:00, 21.6MB/s]"
     }
    },
    "80b935a105d0470abf32128d35d3063c": {
     "model_module": "@jupyter-widgets/base",
     "model_name": "LayoutModel",
     "model_module_version": "1.2.0",
     "state": {
      "_model_module": "@jupyter-widgets/base",
      "_model_module_version": "1.2.0",
      "_model_name": "LayoutModel",
      "_view_count": null,
      "_view_module": "@jupyter-widgets/base",
      "_view_module_version": "1.2.0",
      "_view_name": "LayoutView",
      "align_content": null,
      "align_items": null,
      "align_self": null,
      "border": null,
      "bottom": null,
      "display": null,
      "flex": null,
      "flex_flow": null,
      "grid_area": null,
      "grid_auto_columns": null,
      "grid_auto_flow": null,
      "grid_auto_rows": null,
      "grid_column": null,
      "grid_gap": null,
      "grid_row": null,
      "grid_template_areas": null,
      "grid_template_columns": null,
      "grid_template_rows": null,
      "height": null,
      "justify_content": null,
      "justify_items": null,
      "left": null,
      "margin": null,
      "max_height": null,
      "max_width": null,
      "min_height": null,
      "min_width": null,
      "object_fit": null,
      "object_position": null,
      "order": null,
      "overflow": null,
      "overflow_x": null,
      "overflow_y": null,
      "padding": null,
      "right": null,
      "top": null,
      "visibility": null,
      "width": null
     }
    },
    "447b035b04d7485bb79c9c7bde2705db": {
     "model_module": "@jupyter-widgets/base",
     "model_name": "LayoutModel",
     "model_module_version": "1.2.0",
     "state": {
      "_model_module": "@jupyter-widgets/base",
      "_model_module_version": "1.2.0",
      "_model_name": "LayoutModel",
      "_view_count": null,
      "_view_module": "@jupyter-widgets/base",
      "_view_module_version": "1.2.0",
      "_view_name": "LayoutView",
      "align_content": null,
      "align_items": null,
      "align_self": null,
      "border": null,
      "bottom": null,
      "display": null,
      "flex": null,
      "flex_flow": null,
      "grid_area": null,
      "grid_auto_columns": null,
      "grid_auto_flow": null,
      "grid_auto_rows": null,
      "grid_column": null,
      "grid_gap": null,
      "grid_row": null,
      "grid_template_areas": null,
      "grid_template_columns": null,
      "grid_template_rows": null,
      "height": null,
      "justify_content": null,
      "justify_items": null,
      "left": null,
      "margin": null,
      "max_height": null,
      "max_width": null,
      "min_height": null,
      "min_width": null,
      "object_fit": null,
      "object_position": null,
      "order": null,
      "overflow": null,
      "overflow_x": null,
      "overflow_y": null,
      "padding": null,
      "right": null,
      "top": null,
      "visibility": null,
      "width": null
     }
    },
    "8dae673ebb8f4d83baf82e14e296e398": {
     "model_module": "@jupyter-widgets/controls",
     "model_name": "DescriptionStyleModel",
     "model_module_version": "1.5.0",
     "state": {
      "_model_module": "@jupyter-widgets/controls",
      "_model_module_version": "1.5.0",
      "_model_name": "DescriptionStyleModel",
      "_view_count": null,
      "_view_module": "@jupyter-widgets/base",
      "_view_module_version": "1.2.0",
      "_view_name": "StyleView",
      "description_width": ""
     }
    },
    "552488c99afa4d44b406f0c8f1bf9023": {
     "model_module": "@jupyter-widgets/base",
     "model_name": "LayoutModel",
     "model_module_version": "1.2.0",
     "state": {
      "_model_module": "@jupyter-widgets/base",
      "_model_module_version": "1.2.0",
      "_model_name": "LayoutModel",
      "_view_count": null,
      "_view_module": "@jupyter-widgets/base",
      "_view_module_version": "1.2.0",
      "_view_name": "LayoutView",
      "align_content": null,
      "align_items": null,
      "align_self": null,
      "border": null,
      "bottom": null,
      "display": null,
      "flex": null,
      "flex_flow": null,
      "grid_area": null,
      "grid_auto_columns": null,
      "grid_auto_flow": null,
      "grid_auto_rows": null,
      "grid_column": null,
      "grid_gap": null,
      "grid_row": null,
      "grid_template_areas": null,
      "grid_template_columns": null,
      "grid_template_rows": null,
      "height": null,
      "justify_content": null,
      "justify_items": null,
      "left": null,
      "margin": null,
      "max_height": null,
      "max_width": null,
      "min_height": null,
      "min_width": null,
      "object_fit": null,
      "object_position": null,
      "order": null,
      "overflow": null,
      "overflow_x": null,
      "overflow_y": null,
      "padding": null,
      "right": null,
      "top": null,
      "visibility": null,
      "width": "20px"
     }
    },
    "943b68cff46446069dbf82a95839f2c7": {
     "model_module": "@jupyter-widgets/controls",
     "model_name": "ProgressStyleModel",
     "model_module_version": "1.5.0",
     "state": {
      "_model_module": "@jupyter-widgets/controls",
      "_model_module_version": "1.5.0",
      "_model_name": "ProgressStyleModel",
      "_view_count": null,
      "_view_module": "@jupyter-widgets/base",
      "_view_module_version": "1.2.0",
      "_view_name": "StyleView",
      "bar_color": null,
      "description_width": ""
     }
    },
    "c7d844995653421f838b418783794a60": {
     "model_module": "@jupyter-widgets/base",
     "model_name": "LayoutModel",
     "model_module_version": "1.2.0",
     "state": {
      "_model_module": "@jupyter-widgets/base",
      "_model_module_version": "1.2.0",
      "_model_name": "LayoutModel",
      "_view_count": null,
      "_view_module": "@jupyter-widgets/base",
      "_view_module_version": "1.2.0",
      "_view_name": "LayoutView",
      "align_content": null,
      "align_items": null,
      "align_self": null,
      "border": null,
      "bottom": null,
      "display": null,
      "flex": null,
      "flex_flow": null,
      "grid_area": null,
      "grid_auto_columns": null,
      "grid_auto_flow": null,
      "grid_auto_rows": null,
      "grid_column": null,
      "grid_gap": null,
      "grid_row": null,
      "grid_template_areas": null,
      "grid_template_columns": null,
      "grid_template_rows": null,
      "height": null,
      "justify_content": null,
      "justify_items": null,
      "left": null,
      "margin": null,
      "max_height": null,
      "max_width": null,
      "min_height": null,
      "min_width": null,
      "object_fit": null,
      "object_position": null,
      "order": null,
      "overflow": null,
      "overflow_x": null,
      "overflow_y": null,
      "padding": null,
      "right": null,
      "top": null,
      "visibility": null,
      "width": null
     }
    },
    "50acbd6f12054bf18051e364282eb180": {
     "model_module": "@jupyter-widgets/controls",
     "model_name": "DescriptionStyleModel",
     "model_module_version": "1.5.0",
     "state": {
      "_model_module": "@jupyter-widgets/controls",
      "_model_module_version": "1.5.0",
      "_model_name": "DescriptionStyleModel",
      "_view_count": null,
      "_view_module": "@jupyter-widgets/base",
      "_view_module_version": "1.2.0",
      "_view_name": "StyleView",
      "description_width": ""
     }
    }
   }
  }
 },
 "cells": [
  {
   "cell_type": "markdown",
   "metadata": {
    "id": "view-in-github",
    "colab_type": "text"
   },
   "source": [
    "<a href=\"https://colab.research.google.com/github/yuvalira/Adversarial-Attacks-Article/blob/main/models/CatBoost.ipynb\" target=\"_parent\"><img src=\"https://colab.research.google.com/assets/colab-badge.svg\" alt=\"Open In Colab\"/></a>"
   ]
  },
  {
   "cell_type": "markdown",
   "source": [
    "# **Classical Model — CatBoost**\n",
    "CatBoost is a gradient-boosted decision tree library optimized for **tabular data** with strong support for **categorical features**.\n",
    "It uses *ordered boosting* to reduce overfitting, handles **categoricals natively** (no one-hot), and delivers excellent performance with minimal tuning.\n",
    "\n",
    "References:\n",
    "- [CatBoost docs](https://catboost.ai/)\n",
    "- [catboost.CatBoostClassifier](https://catboost.ai/en/docs/concepts/python-reference_catboostclassifier)"
   ],
   "metadata": {
    "id": "hkX6L4VamHtv"
   }
  },
  {
   "cell_type": "markdown",
   "source": [
    "## Imports & setup"
   ],
   "metadata": {
    "id": "SdeRa8yNmSea"
   }
  },
  {
   "cell_type": "code",
   "metadata": {
    "colab": {
     "base_uri": "https://localhost:8080/"
    },
    "id": "yZpsdPPck_Bs",
    "outputId": "d3ba9047-ab6a-412b-e396-5c7aba931a36",
    "ExecuteTime": {
     "end_time": "2025-09-08T10:54:46.103509Z",
     "start_time": "2025-09-08T10:54:25.182Z"
    }
   },
   "source": [
    "!pip -q install -U catboost scikit-learn huggingface_hub\n",
    "\n",
    "import os, time, re\n",
    "import numpy as np\n",
    "import pandas as pd\n",
    "import matplotlib.pyplot as plt\n",
    "\n",
    "from huggingface_hub import hf_hub_download\n",
    "from sklearn.metrics import (\n",
    "    accuracy_score, precision_score, recall_score, f1_score,\n",
    "    roc_auc_score, roc_curve, classification_report, confusion_matrix\n",
    ")\n",
    "\n",
    "from catboost import CatBoostClassifier, Pool\n",
    "\n",
    "RANDOM_STATE = 42\n",
    "np.random.seed(RANDOM_STATE)"
   ],
   "outputs": [
    {
     "name": "stderr",
     "output_type": "stream",
     "text": [
      "\n",
      "[notice] A new release of pip is available: 25.1.1 -> 25.2\n",
      "[notice] To update, run: python.exe -m pip install --upgrade pip\n"
     ]
    }
   ],
   "execution_count": 1
  },
  {
   "cell_type": "markdown",
   "source": [
    "## Load splits from HF"
   ],
   "metadata": {
    "id": "2mQf-qdfmYRx"
   }
  },
  {
   "cell_type": "code",
   "source": [
    "repo_id   = \"yuvalira/adult_income_balanced\"  # TODO\n",
    "repo_type = \"dataset\"\n",
    "\n",
    "def read_split_csv(repo_id, filename, repo_type=\"dataset\"):\n",
    "    p = hf_hub_download(repo_id=repo_id, filename=filename, repo_type=repo_type, token=False)\n",
    "    return pd.read_csv(p)\n",
    "\n",
    "train_data = read_split_csv(repo_id, \"train.csv\", repo_type)\n",
    "val_data   = read_split_csv(repo_id, \"val.csv\",   repo_type)\n",
    "\n",
    "print(\"Train:\", train_data.shape, \"| Val:\", val_data.shape)\n",
    "display(train_data.head(3))"
   ],
   "metadata": {
    "colab": {
     "base_uri": "https://localhost:8080/",
     "height": 225,
     "referenced_widgets": [
      "a303564db2504e20ba98d6381e3c178e",
      "a07c996534e740369ce94243b4b244b4",
      "8cf838c02c544e9c8dbcb218b84fb8f5",
      "cce1c6964a3844dab30b5f0359e69205",
      "406c971cdba34aa6b260f5d807bf0679",
      "df4be2dad02e4abaa0c6019c01046ad1",
      "c3aa7f6b4765427ea7eee6a65ef43df3",
      "bfb1ec2b189d40028d4610b668c4dd65",
      "3c77692b98f94e0e833e563fc9b4385b",
      "fe83a4f4891a483eac746ed551aad74b",
      "f49439b80de64709a5968ef981bee67f",
      "3527310d40434b48b2ba790b84c49c6f",
      "d162613c0fea42b2914640e45e6c3c99",
      "946b7931a88a473ba105aa32ed3d1055",
      "d956f9a1dcce470dbc8aaace2a92d84c",
      "80b935a105d0470abf32128d35d3063c",
      "447b035b04d7485bb79c9c7bde2705db",
      "8dae673ebb8f4d83baf82e14e296e398",
      "552488c99afa4d44b406f0c8f1bf9023",
      "943b68cff46446069dbf82a95839f2c7",
      "c7d844995653421f838b418783794a60",
      "50acbd6f12054bf18051e364282eb180"
     ]
    },
    "id": "po6ZKmJZmWjR",
    "outputId": "2403fda1-88d6-404a-cdc1-1e7a9dc3cd94",
    "ExecuteTime": {
     "end_time": "2025-09-08T10:54:46.871985Z",
     "start_time": "2025-09-08T10:54:46.113425Z"
    }
   },
   "outputs": [
    {
     "name": "stdout",
     "output_type": "stream",
     "text": [
      "Train: (11687, 14) | Val: (2337, 14)\n"
     ]
    },
    {
     "data": {
      "text/plain": [
       "   age         workclass  education  educational-num      marital-status  \\\n",
       "0   36  Self-emp-not-inc  Bachelors               13  Married-civ-spouse   \n",
       "1   37  Self-emp-not-inc  Assoc-voc               11  Married-civ-spouse   \n",
       "2   54           Private    HS-grad                9  Married-civ-spouse   \n",
       "\n",
       "     occupation relationship   race gender  capital-gain  capital-loss  \\\n",
       "0         Sales      Husband  White   Male             0             0   \n",
       "1  Craft-repair      Husband  White   Male             0             0   \n",
       "2         Sales      Husband  White   Male             0          1848   \n",
       "\n",
       "   hours-per-week native-country income  \n",
       "0              50  United-States   >50K  \n",
       "1              55  United-States  <=50K  \n",
       "2              40  United-States   >50K  "
      ],
      "text/html": [
       "<div>\n",
       "<style scoped>\n",
       "    .dataframe tbody tr th:only-of-type {\n",
       "        vertical-align: middle;\n",
       "    }\n",
       "\n",
       "    .dataframe tbody tr th {\n",
       "        vertical-align: top;\n",
       "    }\n",
       "\n",
       "    .dataframe thead th {\n",
       "        text-align: right;\n",
       "    }\n",
       "</style>\n",
       "<table border=\"1\" class=\"dataframe\">\n",
       "  <thead>\n",
       "    <tr style=\"text-align: right;\">\n",
       "      <th></th>\n",
       "      <th>age</th>\n",
       "      <th>workclass</th>\n",
       "      <th>education</th>\n",
       "      <th>educational-num</th>\n",
       "      <th>marital-status</th>\n",
       "      <th>occupation</th>\n",
       "      <th>relationship</th>\n",
       "      <th>race</th>\n",
       "      <th>gender</th>\n",
       "      <th>capital-gain</th>\n",
       "      <th>capital-loss</th>\n",
       "      <th>hours-per-week</th>\n",
       "      <th>native-country</th>\n",
       "      <th>income</th>\n",
       "    </tr>\n",
       "  </thead>\n",
       "  <tbody>\n",
       "    <tr>\n",
       "      <th>0</th>\n",
       "      <td>36</td>\n",
       "      <td>Self-emp-not-inc</td>\n",
       "      <td>Bachelors</td>\n",
       "      <td>13</td>\n",
       "      <td>Married-civ-spouse</td>\n",
       "      <td>Sales</td>\n",
       "      <td>Husband</td>\n",
       "      <td>White</td>\n",
       "      <td>Male</td>\n",
       "      <td>0</td>\n",
       "      <td>0</td>\n",
       "      <td>50</td>\n",
       "      <td>United-States</td>\n",
       "      <td>&gt;50K</td>\n",
       "    </tr>\n",
       "    <tr>\n",
       "      <th>1</th>\n",
       "      <td>37</td>\n",
       "      <td>Self-emp-not-inc</td>\n",
       "      <td>Assoc-voc</td>\n",
       "      <td>11</td>\n",
       "      <td>Married-civ-spouse</td>\n",
       "      <td>Craft-repair</td>\n",
       "      <td>Husband</td>\n",
       "      <td>White</td>\n",
       "      <td>Male</td>\n",
       "      <td>0</td>\n",
       "      <td>0</td>\n",
       "      <td>55</td>\n",
       "      <td>United-States</td>\n",
       "      <td>&lt;=50K</td>\n",
       "    </tr>\n",
       "    <tr>\n",
       "      <th>2</th>\n",
       "      <td>54</td>\n",
       "      <td>Private</td>\n",
       "      <td>HS-grad</td>\n",
       "      <td>9</td>\n",
       "      <td>Married-civ-spouse</td>\n",
       "      <td>Sales</td>\n",
       "      <td>Husband</td>\n",
       "      <td>White</td>\n",
       "      <td>Male</td>\n",
       "      <td>0</td>\n",
       "      <td>1848</td>\n",
       "      <td>40</td>\n",
       "      <td>United-States</td>\n",
       "      <td>&gt;50K</td>\n",
       "    </tr>\n",
       "  </tbody>\n",
       "</table>\n",
       "</div>"
      ]
     },
     "metadata": {},
     "output_type": "display_data"
    }
   ],
   "execution_count": 2
  },
  {
   "cell_type": "markdown",
   "source": [
    "## Column discovery & config"
   ],
   "metadata": {
    "id": "QFT44cRUmg_G"
   }
  },
  {
   "cell_type": "code",
   "source": [
    "auto_num = train_data.select_dtypes(include=['int16','int32','int64','float16','float32','float64']).columns.tolist()\n",
    "auto_cat = train_data.select_dtypes(include=['object','category','bool']).columns.tolist()\n",
    "\n",
    "TARGET_COLUMN_NAME   = \"income\"               # TODO\n",
    "TARGET_LABELS        = [\"<=50K\", \">50K\"]      # TODO (order defines ids)\n",
    "SAMPLE_WEIGHT_COLUMN = None                   # or \"weight\"\n",
    "\n",
    "FEATURE_COLUMNS = [c for c in train_data.columns if c != TARGET_COLUMN_NAME]  # keep original order\n",
    "CATEGORICAL_FEATURE_NAMES = [c for c in auto_cat if c != TARGET_COLUMN_NAME]\n",
    "NUMERIC_FEATURE_NAMES     = [c for c in auto_num if c != TARGET_COLUMN_NAME]\n",
    "\n",
    "print(\"Numeric:\", NUMERIC_FEATURE_NAMES)\n",
    "print(\"Categorical:\", CATEGORICAL_FEATURE_NAMES)"
   ],
   "metadata": {
    "colab": {
     "base_uri": "https://localhost:8080/"
    },
    "id": "89YhvJsMmeff",
    "outputId": "61da4ff7-e26f-4059-fd1c-17f3bea4c0aa",
    "ExecuteTime": {
     "end_time": "2025-09-08T10:54:46.951247Z",
     "start_time": "2025-09-08T10:54:46.941397Z"
    }
   },
   "outputs": [
    {
     "name": "stdout",
     "output_type": "stream",
     "text": [
      "Numeric: ['age', 'educational-num', 'capital-gain', 'capital-loss', 'hours-per-week']\n",
      "Categorical: ['workclass', 'education', 'marital-status', 'occupation', 'relationship', 'race', 'gender', 'native-country']\n"
     ]
    }
   ],
   "execution_count": 3
  },
  {
   "cell_type": "markdown",
   "source": [
    "## Prepare dataframes (map target, ensure categoricals are strings)"
   ],
   "metadata": {
    "id": "G6GYW94mmm4c"
   }
  },
  {
   "cell_type": "code",
   "source": [
    "train_data = train_data.copy()\n",
    "val_data   = val_data.copy()\n",
    "\n",
    "label2id = {lbl:i for i,lbl in enumerate(TARGET_LABELS)}\n",
    "id2label = {i:lbl for lbl,i in label2id.items()}\n",
    "\n",
    "def prepare_df(df):\n",
    "    assert TARGET_COLUMN_NAME in df.columns, f\"No target '{TARGET_COLUMN_NAME}'\"\n",
    "    df[TARGET_COLUMN_NAME] = df[TARGET_COLUMN_NAME].map(label2id)\n",
    "    if df[TARGET_COLUMN_NAME].isna().any():\n",
    "        bad = df.loc[df[TARGET_COLUMN_NAME].isna(), TARGET_COLUMN_NAME].unique().tolist()\n",
    "        raise ValueError(f\"Unmapped targets: {bad} vs {TARGET_LABELS}\")\n",
    "    # CatBoost expects categoricals as strings/object\n",
    "    for c in CATEGORICAL_FEATURE_NAMES:\n",
    "        if c in df.columns:\n",
    "            df[c] = df[c].astype(str)\n",
    "    return df\n",
    "\n",
    "prepare_df(train_data); prepare_df(val_data)\n",
    "\n",
    "n_classes = int(train_data[TARGET_COLUMN_NAME].nunique())\n",
    "avg_mode = None if n_classes==2 else \"macro\"\n",
    "print(\"Classes:\", [id2label[i] for i in sorted(train_data[TARGET_COLUMN_NAME].unique())])"
   ],
   "metadata": {
    "colab": {
     "base_uri": "https://localhost:8080/"
    },
    "id": "DTv76uqAmlIM",
    "outputId": "f2fa4f08-686a-492b-b469-2ec64b589ff7",
    "ExecuteTime": {
     "end_time": "2025-09-08T10:54:47.516494Z",
     "start_time": "2025-09-08T10:54:47.489472Z"
    }
   },
   "outputs": [
    {
     "name": "stdout",
     "output_type": "stream",
     "text": [
      "Classes: ['<=50K', '>50K']\n"
     ]
    }
   ],
   "execution_count": 4
  },
  {
   "cell_type": "markdown",
   "source": [
    "## Build CatBoost Pools (native categorical handling)"
   ],
   "metadata": {
    "id": "3kgWwSCUmukC"
   }
  },
  {
   "cell_type": "code",
   "source": [
    "X_train = train_data[FEATURE_COLUMNS]\n",
    "y_train = train_data[TARGET_COLUMN_NAME].values\n",
    "\n",
    "X_val   = val_data[FEATURE_COLUMNS]\n",
    "y_val   = val_data[TARGET_COLUMN_NAME].values\n",
    "\n",
    "# CatBoost needs cat feature indices (0-based positions) in the **feature matrix**\n",
    "cat_features_idx = [X_train.columns.get_loc(c) for c in CATEGORICAL_FEATURE_NAMES]\n",
    "\n",
    "sample_weight_train = train_data[SAMPLE_WEIGHT_COLUMN].values if SAMPLE_WEIGHT_COLUMN else None\n",
    "sample_weight_val   = val_data[SAMPLE_WEIGHT_COLUMN].values   if SAMPLE_WEIGHT_COLUMN else None\n",
    "\n",
    "pool_train = Pool(\n",
    "    data=X_train,\n",
    "    label=y_train,\n",
    "    cat_features=cat_features_idx,\n",
    "    weight=sample_weight_train\n",
    ")\n",
    "pool_val = Pool(\n",
    "    data=X_val,\n",
    "    label=y_val,\n",
    "    cat_features=cat_features_idx,\n",
    "    weight=sample_weight_val\n",
    ")\n",
    "\n",
    "print(\"Cat features indices:\", cat_features_idx)"
   ],
   "metadata": {
    "colab": {
     "base_uri": "https://localhost:8080/"
    },
    "id": "1fAjDXuimrn9",
    "outputId": "df340527-02ce-4118-f735-125fb96a0d41",
    "ExecuteTime": {
     "end_time": "2025-09-08T10:54:47.697407Z",
     "start_time": "2025-09-08T10:54:47.602887Z"
    }
   },
   "outputs": [
    {
     "name": "stdout",
     "output_type": "stream",
     "text": [
      "Cat features indices: [1, 2, 4, 5, 6, 7, 8, 12]\n"
     ]
    }
   ],
   "execution_count": 5
  },
  {
   "cell_type": "markdown",
   "source": [
    "## Define model (reasonable defaults) + train with early stopping"
   ],
   "metadata": {
    "id": "4H8dQEI9m5Mh"
   }
  },
  {
   "cell_type": "code",
   "source": [
    "# For GPU (optional): add task_type=\"GPU\", devices=\"0\"\n",
    "params = dict(\n",
    "    loss_function = \"Logloss\" if n_classes==2 else \"MultiClass\",\n",
    "    eval_metric   = \"AUC\" if n_classes==2 else \"MultiClass\",\n",
    "    learning_rate = 0.05,\n",
    "    depth         = 8,\n",
    "    l2_leaf_reg   = 3.0,\n",
    "    iterations    = 2000,           # with early stopping\n",
    "    random_seed   = RANDOM_STATE,\n",
    "    verbose       = 200,\n",
    "    allow_writing_files = False,     # keep workspace clean\n",
    ")\n",
    "\n",
    "model_cb = CatBoostClassifier(**params)\n",
    "\n",
    "t0 = time.time()\n",
    "model_cb.fit(\n",
    "    pool_train,\n",
    "    eval_set=pool_val,\n",
    "    use_best_model=True,\n",
    "    early_stopping_rounds=100\n",
    ")\n",
    "print(f\"Training time: {time.time()-t0:.2f}s\")\n",
    "print(\"Best iteration:\", model_cb.best_iteration_)"
   ],
   "metadata": {
    "colab": {
     "base_uri": "https://localhost:8080/"
    },
    "id": "flbZJrknm10d",
    "outputId": "0603dd10-c86b-4a40-b5b8-2716bee71efc",
    "ExecuteTime": {
     "end_time": "2025-09-08T10:56:09.203533Z",
     "start_time": "2025-09-08T10:55:18.916977Z"
    }
   },
   "outputs": [
    {
     "name": "stdout",
     "output_type": "stream",
     "text": [
      "0:\ttest: 0.8819471\tbest: 0.8819471 (0)\ttotal: 205ms\tremaining: 6m 50s\n",
      "200:\ttest: 0.9237131\tbest: 0.9237746 (195)\ttotal: 11.8s\tremaining: 1m 45s\n",
      "400:\ttest: 0.9261531\tbest: 0.9262131 (384)\ttotal: 23.5s\tremaining: 1m 33s\n",
      "600:\ttest: 0.9270444\tbest: 0.9270444 (600)\ttotal: 35.3s\tremaining: 1m 22s\n",
      "800:\ttest: 0.9272795\tbest: 0.9276406 (702)\ttotal: 49.9s\tremaining: 1m 14s\n",
      "Stopped by overfitting detector  (100 iterations wait)\n",
      "\n",
      "bestTest = 0.9276405604\n",
      "bestIteration = 702\n",
      "\n",
      "Shrink model to first 703 iterations.\n",
      "Training time: 50.28s\n",
      "Best iteration: 702\n"
     ]
    }
   ],
   "execution_count": 7
  },
  {
   "cell_type": "markdown",
   "source": [
    "## Evaluate"
   ],
   "metadata": {
    "id": "8Tndm9JknThd"
   }
  },
  {
   "cell_type": "code",
   "source": [
    "y_pred = model_cb.predict(X_val)                 # class ids\n",
    "y_pred = y_pred.astype(int).ravel()              # ensure shape\n",
    "\n",
    "# Probabilities for ROC/AUC\n",
    "if n_classes == 2:\n",
    "    y_prob = model_cb.predict_proba(X_val)[:, 1]\n",
    "else:\n",
    "    y_prob = model_cb.predict_proba(X_val)       # shape (N, K)\n",
    "\n",
    "def metrics(y_true, y_pred, y_prob=None, average=None):\n",
    "    acc = accuracy_score(y_true, y_pred)\n",
    "    if average is None:\n",
    "        prec = precision_score(y_true, y_pred, zero_division=0)\n",
    "        rec  = recall_score(y_true, y_pred, zero_division=0)\n",
    "        f1   = f1_score(y_true, y_pred, zero_division=0)\n",
    "    else:\n",
    "        prec = precision_score(y_true, y_pred, average=average, zero_division=0)\n",
    "        rec  = recall_score(y_true, y_pred, average=average, zero_division=0)\n",
    "        f1   = f1_score(y_true, y_pred, average=average, zero_division=0)\n",
    "    out = {\"accuracy\":acc, \"precision\":prec, \"recall\":rec, \"f1\":f1}\n",
    "    if y_prob is not None:\n",
    "        try:\n",
    "            if n_classes==2:\n",
    "                out[\"roc_auc\"] = roc_auc_score(y_true, y_prob)\n",
    "            else:\n",
    "                out[\"roc_auc\"] = roc_auc_score(y_true, y_prob, multi_class=\"ovr\", average=\"macro\")\n",
    "        except Exception:\n",
    "            pass\n",
    "    return out\n",
    "\n",
    "res = metrics(y_val, y_pred, y_prob, average=avg_mode)\n",
    "print(\"Validation metrics:\", {k: round(v,4) for k,v in res.items()})\n",
    "\n",
    "print(\"\\nClassification report (val):\")\n",
    "print(classification_report(y_val, y_pred, target_names=[id2label[i] for i in range(n_classes)], zero_division=0))\n",
    "print(\"Confusion matrix (val):\")\n",
    "print(confusion_matrix(y_val, y_pred))"
   ],
   "metadata": {
    "colab": {
     "base_uri": "https://localhost:8080/"
    },
    "id": "gizP_pWNnRdC",
    "outputId": "b58dd559-1358-46a6-c733-911c4d0c1b44",
    "ExecuteTime": {
     "end_time": "2025-09-08T10:57:09.404218Z",
     "start_time": "2025-09-08T10:57:09.251992Z"
    }
   },
   "outputs": [
    {
     "name": "stdout",
     "output_type": "stream",
     "text": [
      "Validation metrics: {'accuracy': 0.8464, 'precision': 0.8228, 'recall': 0.8827, 'f1': 0.8517, 'roc_auc': 0.9276}\n",
      "\n",
      "Classification report (val):\n",
      "              precision    recall  f1-score   support\n",
      "\n",
      "       <=50K       0.87      0.81      0.84      1169\n",
      "        >50K       0.82      0.88      0.85      1168\n",
      "\n",
      "    accuracy                           0.85      2337\n",
      "   macro avg       0.85      0.85      0.85      2337\n",
      "weighted avg       0.85      0.85      0.85      2337\n",
      "\n",
      "Confusion matrix (val):\n",
      "[[ 947  222]\n",
      " [ 137 1031]]\n"
     ]
    }
   ],
   "execution_count": 8
  },
  {
   "cell_type": "markdown",
   "source": [
    "ROC Curve"
   ],
   "metadata": {
    "id": "Au6cnjN2newZ"
   }
  },
  {
   "cell_type": "code",
   "source": [
    "if n_classes == 2:\n",
    "    fpr, tpr, _ = roc_curve(y_val, y_prob)\n",
    "    auc = roc_auc_score(y_val, y_prob)\n",
    "    plt.figure(figsize=(7,5))\n",
    "    plt.plot(fpr, tpr, label=f\"AUC = {auc:.4f}\", linewidth=2)\n",
    "    plt.plot([0,1],[0,1],'--', label=\"Random\")\n",
    "    plt.xlabel(\"False Positive Rate\"); plt.ylabel(\"True Positive Rate\")\n",
    "    plt.title(\"ROC — CatBoost (Validation)\")\n",
    "    plt.legend(); plt.grid(True); plt.tight_layout(); plt.show()\n",
    "else:\n",
    "    print(\"Multiclass ROC: compute micro/macro as needed.\")"
   ],
   "metadata": {
    "colab": {
     "base_uri": "https://localhost:8080/",
     "height": 507
    },
    "id": "MPrimCrFnbSi",
    "outputId": "95e9364e-04f8-4a03-b0f0-417804d06ee5",
    "ExecuteTime": {
     "end_time": "2025-09-08T10:57:14.882980Z",
     "start_time": "2025-09-08T10:57:14.670035Z"
    }
   },
   "outputs": [
    {
     "data": {
      "text/plain": [
       "<Figure size 700x500 with 1 Axes>"
      ],
      "image/png": "[encoded data removed]"
     },
     "metadata": {},
     "output_type": "display_data"
    }
   ],
   "execution_count": 9
  },
  {
   "cell_type": "markdown",
   "source": [
    "## Save model + metadata (both native .cbm and a joblib bundle)"
   ],
   "metadata": {
    "id": "4Ddzb-FsnrLB"
   }
  },
  {
   "cell_type": "code",
   "source": [
    "import joblib\n",
    "\n",
    "os.makedirs(\"models\", exist_ok=True)\n",
    "safe_repo_id = re.sub(r'[^A-Za-z0-9_.-]+', '_', repo_id)\n",
    "\n",
    "# Native CatBoost binary (recommended if you’ll load with CatBoost)\n",
    "cbm_path = f\"models/CatBoost_model_{safe_repo_id}.cbm\"\n",
    "model_cb.save_model(cbm_path)\n",
    "print(\"Saved CatBoost binary:\", os.path.abspath(cbm_path))\n",
    "\n",
    "# Also save a small bundle with metadata you might need later\n",
    "bundle = {\n",
    "    \"model_path_cbm\": cbm_path,\n",
    "    \"target_name\": TARGET_COLUMN_NAME,\n",
    "    \"label2id\": label2id,\n",
    "    \"id2label\": id2label,\n",
    "    \"feature_order\": FEATURE_COLUMNS,\n",
    "    \"categorical_features\": CATEGORICAL_FEATURE_NAMES,\n",
    "    \"cat_feature_indices\": cat_features_idx\n",
    "}\n",
    "joblib_path = f\"models/CatBoost_bundle_{safe_repo_id}.joblib\"\n",
    "joblib.dump(bundle, joblib_path)\n",
    "print(\"Saved bundle:\", os.path.abspath(joblib_path))"
   ],
   "metadata": {
    "colab": {
     "base_uri": "https://localhost:8080/"
    },
    "id": "n2xq8v7TnbQt",
    "outputId": "36c34267-4dff-418f-dbbc-1b6e91b83416",
    "ExecuteTime": {
     "end_time": "2025-09-08T11:09:21.139826Z",
     "start_time": "2025-09-08T11:09:21.108393Z"
    }
   },
   "outputs": [
    {
     "name": "stdout",
     "output_type": "stream",
     "text": [
      "Saved CatBoost binary: C:\\Users\\Owner\\PycharmProjects\\Adversarial-Attacks-Article\\models\\models\\CatBoost_model_yuvalira_adult_income_balanced.cbm\n",
      "Saved bundle: C:\\Users\\Owner\\PycharmProjects\\Adversarial-Attacks-Article\\models\\models\\CatBoost_bundle_yuvalira_adult_income_balanced.joblib\n"
     ]
    }
   ],
   "execution_count": 12
  }
 ]
}
