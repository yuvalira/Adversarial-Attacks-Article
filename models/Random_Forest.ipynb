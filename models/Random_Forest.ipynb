{
  "nbformat": 4,
  "nbformat_minor": 0,
  "metadata": {
    "colab": {
      "provenance": [],
      "gpuType": "T4",
      "authorship_tag": "ABX9TyPjbduLMll4xvEKmmgPBSHJ",
      "include_colab_link": true
    },
    "kernelspec": {
      "name": "python3",
      "display_name": "Python 3"
    },
    "language_info": {
      "name": "python"
    },
    "accelerator": "GPU",
    "widgets": {
      "application/vnd.jupyter.widget-state+json": {
        "9e2428c31a9949468c6f023186f9685c": {
          "model_module": "@jupyter-widgets/controls",
          "model_name": "HBoxModel",
          "model_module_version": "1.5.0",
          "state": {
            "_dom_classes": [],
            "_model_module": "@jupyter-widgets/controls",
            "_model_module_version": "1.5.0",
            "_model_name": "HBoxModel",
            "_view_count": null,
            "_view_module": "@jupyter-widgets/controls",
            "_view_module_version": "1.5.0",
            "_view_name": "HBoxView",
            "box_style": "",
            "children": [
              "IPY_MODEL_d5ac8bfcc938400c93c4912b027cdc33",
              "IPY_MODEL_0379586d43bd4051b4668662807af402",
              "IPY_MODEL_ae6ee1bfc3f045b5a87d601f489defc9"
            ],
            "layout": "IPY_MODEL_d8a42fb4f7a94a4c9c0aa02b1ce0d54b"
          }
        },
        "d5ac8bfcc938400c93c4912b027cdc33": {
          "model_module": "@jupyter-widgets/controls",
          "model_name": "HTMLModel",
          "model_module_version": "1.5.0",
          "state": {
            "_dom_classes": [],
            "_model_module": "@jupyter-widgets/controls",
            "_model_module_version": "1.5.0",
            "_model_name": "HTMLModel",
            "_view_count": null,
            "_view_module": "@jupyter-widgets/controls",
            "_view_module_version": "1.5.0",
            "_view_name": "HTMLView",
            "description": "",
            "description_tooltip": null,
            "layout": "IPY_MODEL_f5fe8595fef343cfa1f81bf543083d97",
            "placeholder": "​",
            "style": "IPY_MODEL_229aa289c7c943ee9405634a0af2efb7",
            "value": "train.csv: "
          }
        },
        "0379586d43bd4051b4668662807af402": {
          "model_module": "@jupyter-widgets/controls",
          "model_name": "FloatProgressModel",
          "model_module_version": "1.5.0",
          "state": {
            "_dom_classes": [],
            "_model_module": "@jupyter-widgets/controls",
            "_model_module_version": "1.5.0",
            "_model_name": "FloatProgressModel",
            "_view_count": null,
            "_view_module": "@jupyter-widgets/controls",
            "_view_module_version": "1.5.0",
            "_view_name": "ProgressView",
            "bar_style": "success",
            "description": "",
            "description_tooltip": null,
            "layout": "IPY_MODEL_aa680524b9924665a99c91db3ecd961b",
            "max": 1,
            "min": 0,
            "orientation": "horizontal",
            "style": "IPY_MODEL_f32f02324db94150a63d00516d3423fe",
            "value": 1
          }
        },
        "ae6ee1bfc3f045b5a87d601f489defc9": {
          "model_module": "@jupyter-widgets/controls",
          "model_name": "HTMLModel",
          "model_module_version": "1.5.0",
          "state": {
            "_dom_classes": [],
            "_model_module": "@jupyter-widgets/controls",
            "_model_module_version": "1.5.0",
            "_model_name": "HTMLModel",
            "_view_count": null,
            "_view_module": "@jupyter-widgets/controls",
            "_view_module_version": "1.5.0",
            "_view_name": "HTMLView",
            "description": "",
            "description_tooltip": null,
            "layout": "IPY_MODEL_b7921f5e021747899b19e557bcfcfb69",
            "placeholder": "​",
            "style": "IPY_MODEL_76c6ce7403b74f3fb295d7499120ac10",
            "value": " 1.20M/? [00:00&lt;00:00, 12.5MB/s]"
          }
        },
        "d8a42fb4f7a94a4c9c0aa02b1ce0d54b": {
          "model_module": "@jupyter-widgets/base",
          "model_name": "LayoutModel",
          "model_module_version": "1.2.0",
          "state": {
            "_model_module": "@jupyter-widgets/base",
            "_model_module_version": "1.2.0",
            "_model_name": "LayoutModel",
            "_view_count": null,
            "_view_module": "@jupyter-widgets/base",
            "_view_module_version": "1.2.0",
            "_view_name": "LayoutView",
            "align_content": null,
            "align_items": null,
            "align_self": null,
            "border": null,
            "bottom": null,
            "display": null,
            "flex": null,
            "flex_flow": null,
            "grid_area": null,
            "grid_auto_columns": null,
            "grid_auto_flow": null,
            "grid_auto_rows": null,
            "grid_column": null,
            "grid_gap": null,
            "grid_row": null,
            "grid_template_areas": null,
            "grid_template_columns": null,
            "grid_template_rows": null,
            "height": null,
            "justify_content": null,
            "justify_items": null,
            "left": null,
            "margin": null,
            "max_height": null,
            "max_width": null,
            "min_height": null,
            "min_width": null,
            "object_fit": null,
            "object_position": null,
            "order": null,
            "overflow": null,
            "overflow_x": null,
            "overflow_y": null,
            "padding": null,
            "right": null,
            "top": null,
            "visibility": null,
            "width": null
          }
        },
        "f5fe8595fef343cfa1f81bf543083d97": {
          "model_module": "@jupyter-widgets/base",
          "model_name": "LayoutModel",
          "model_module_version": "1.2.0",
          "state": {
            "_model_module": "@jupyter-widgets/base",
            "_model_module_version": "1.2.0",
            "_model_name": "LayoutModel",
            "_view_count": null,
            "_view_module": "@jupyter-widgets/base",
            "_view_module_version": "1.2.0",
            "_view_name": "LayoutView",
            "align_content": null,
            "align_items": null,
            "align_self": null,
            "border": null,
            "bottom": null,
            "display": null,
            "flex": null,
            "flex_flow": null,
            "grid_area": null,
            "grid_auto_columns": null,
            "grid_auto_flow": null,
            "grid_auto_rows": null,
            "grid_column": null,
            "grid_gap": null,
            "grid_row": null,
            "grid_template_areas": null,
            "grid_template_columns": null,
            "grid_template_rows": null,
            "height": null,
            "justify_content": null,
            "justify_items": null,
            "left": null,
            "margin": null,
            "max_height": null,
            "max_width": null,
            "min_height": null,
            "min_width": null,
            "object_fit": null,
            "object_position": null,
            "order": null,
            "overflow": null,
            "overflow_x": null,
            "overflow_y": null,
            "padding": null,
            "right": null,
            "top": null,
            "visibility": null,
            "width": null
          }
        },
        "229aa289c7c943ee9405634a0af2efb7": {
          "model_module": "@jupyter-widgets/controls",
          "model_name": "DescriptionStyleModel",
          "model_module_version": "1.5.0",
          "state": {
            "_model_module": "@jupyter-widgets/controls",
            "_model_module_version": "1.5.0",
            "_model_name": "DescriptionStyleModel",
            "_view_count": null,
            "_view_module": "@jupyter-widgets/base",
            "_view_module_version": "1.2.0",
            "_view_name": "StyleView",
            "description_width": ""
          }
        },
        "aa680524b9924665a99c91db3ecd961b": {
          "model_module": "@jupyter-widgets/base",
          "model_name": "LayoutModel",
          "model_module_version": "1.2.0",
          "state": {
            "_model_module": "@jupyter-widgets/base",
            "_model_module_version": "1.2.0",
            "_model_name": "LayoutModel",
            "_view_count": null,
            "_view_module": "@jupyter-widgets/base",
            "_view_module_version": "1.2.0",
            "_view_name": "LayoutView",
            "align_content": null,
            "align_items": null,
            "align_self": null,
            "border": null,
            "bottom": null,
            "display": null,
            "flex": null,
            "flex_flow": null,
            "grid_area": null,
            "grid_auto_columns": null,
            "grid_auto_flow": null,
            "grid_auto_rows": null,
            "grid_column": null,
            "grid_gap": null,
            "grid_row": null,
            "grid_template_areas": null,
            "grid_template_columns": null,
            "grid_template_rows": null,
            "height": null,
            "justify_content": null,
            "justify_items": null,
            "left": null,
            "margin": null,
            "max_height": null,
            "max_width": null,
            "min_height": null,
            "min_width": null,
            "object_fit": null,
            "object_position": null,
            "order": null,
            "overflow": null,
            "overflow_x": null,
            "overflow_y": null,
            "padding": null,
            "right": null,
            "top": null,
            "visibility": null,
            "width": "20px"
          }
        },
        "f32f02324db94150a63d00516d3423fe": {
          "model_module": "@jupyter-widgets/controls",
          "model_name": "ProgressStyleModel",
          "model_module_version": "1.5.0",
          "state": {
            "_model_module": "@jupyter-widgets/controls",
            "_model_module_version": "1.5.0",
            "_model_name": "ProgressStyleModel",
            "_view_count": null,
            "_view_module": "@jupyter-widgets/base",
            "_view_module_version": "1.2.0",
            "_view_name": "StyleView",
            "bar_color": null,
            "description_width": ""
          }
        },
        "b7921f5e021747899b19e557bcfcfb69": {
          "model_module": "@jupyter-widgets/base",
          "model_name": "LayoutModel",
          "model_module_version": "1.2.0",
          "state": {
            "_model_module": "@jupyter-widgets/base",
            "_model_module_version": "1.2.0",
            "_model_name": "LayoutModel",
            "_view_count": null,
            "_view_module": "@jupyter-widgets/base",
            "_view_module_version": "1.2.0",
            "_view_name": "LayoutView",
            "align_content": null,
            "align_items": null,
            "align_self": null,
            "border": null,
            "bottom": null,
            "display": null,
            "flex": null,
            "flex_flow": null,
            "grid_area": null,
            "grid_auto_columns": null,
            "grid_auto_flow": null,
            "grid_auto_rows": null,
            "grid_column": null,
            "grid_gap": null,
            "grid_row": null,
            "grid_template_areas": null,
            "grid_template_columns": null,
            "grid_template_rows": null,
            "height": null,
            "justify_content": null,
            "justify_items": null,
            "left": null,
            "margin": null,
            "max_height": null,
            "max_width": null,
            "min_height": null,
            "min_width": null,
            "object_fit": null,
            "object_position": null,
            "order": null,
            "overflow": null,
            "overflow_x": null,
            "overflow_y": null,
            "padding": null,
            "right": null,
            "top": null,
            "visibility": null,
            "width": null
          }
        },
        "76c6ce7403b74f3fb295d7499120ac10": {
          "model_module": "@jupyter-widgets/controls",
          "model_name": "DescriptionStyleModel",
          "model_module_version": "1.5.0",
          "state": {
            "_model_module": "@jupyter-widgets/controls",
            "_model_module_version": "1.5.0",
            "_model_name": "DescriptionStyleModel",
            "_view_count": null,
            "_view_module": "@jupyter-widgets/base",
            "_view_module_version": "1.2.0",
            "_view_name": "StyleView",
            "description_width": ""
          }
        },
        "a35ce251205e4470bf45415a14290589": {
          "model_module": "@jupyter-widgets/controls",
          "model_name": "HBoxModel",
          "model_module_version": "1.5.0",
          "state": {
            "_dom_classes": [],
            "_model_module": "@jupyter-widgets/controls",
            "_model_module_version": "1.5.0",
            "_model_name": "HBoxModel",
            "_view_count": null,
            "_view_module": "@jupyter-widgets/controls",
            "_view_module_version": "1.5.0",
            "_view_name": "HBoxView",
            "box_style": "",
            "children": [
              "IPY_MODEL_f695f20ee4bb4e5d9084914e727200f9",
              "IPY_MODEL_d4a551e479444e599ed6d81dab0b8b89",
              "IPY_MODEL_2e21cb312a674924a096684a3b8ef43c"
            ],
            "layout": "IPY_MODEL_d0020a606052428f833dc36ef14492b2"
          }
        },
        "f695f20ee4bb4e5d9084914e727200f9": {
          "model_module": "@jupyter-widgets/controls",
          "model_name": "HTMLModel",
          "model_module_version": "1.5.0",
          "state": {
            "_dom_classes": [],
            "_model_module": "@jupyter-widgets/controls",
            "_model_module_version": "1.5.0",
            "_model_name": "HTMLModel",
            "_view_count": null,
            "_view_module": "@jupyter-widgets/controls",
            "_view_module_version": "1.5.0",
            "_view_name": "HTMLView",
            "description": "",
            "description_tooltip": null,
            "layout": "IPY_MODEL_98ffab71ff0042f5b3063762e11b4d8b",
            "placeholder": "​",
            "style": "IPY_MODEL_bf8389bdbe8546e6b42d55f75ec0b69b",
            "value": "val.csv: "
          }
        },
        "d4a551e479444e599ed6d81dab0b8b89": {
          "model_module": "@jupyter-widgets/controls",
          "model_name": "FloatProgressModel",
          "model_module_version": "1.5.0",
          "state": {
            "_dom_classes": [],
            "_model_module": "@jupyter-widgets/controls",
            "_model_module_version": "1.5.0",
            "_model_name": "FloatProgressModel",
            "_view_count": null,
            "_view_module": "@jupyter-widgets/controls",
            "_view_module_version": "1.5.0",
            "_view_name": "ProgressView",
            "bar_style": "success",
            "description": "",
            "description_tooltip": null,
            "layout": "IPY_MODEL_1296d633b79140ddba46f405084a6b7a",
            "max": 1,
            "min": 0,
            "orientation": "horizontal",
            "style": "IPY_MODEL_4844015ca9d54ea0b46390e9b2784f1c",
            "value": 1
          }
        },
        "2e21cb312a674924a096684a3b8ef43c": {
          "model_module": "@jupyter-widgets/controls",
          "model_name": "HTMLModel",
          "model_module_version": "1.5.0",
          "state": {
            "_dom_classes": [],
            "_model_module": "@jupyter-widgets/controls",
            "_model_module_version": "1.5.0",
            "_model_name": "HTMLModel",
            "_view_count": null,
            "_view_module": "@jupyter-widgets/controls",
            "_view_module_version": "1.5.0",
            "_view_name": "HTMLView",
            "description": "",
            "description_tooltip": null,
            "layout": "IPY_MODEL_3a242c3ef05f473bac9874f5be42b360",
            "placeholder": "​",
            "style": "IPY_MODEL_13e564d509804d6fa0b7c0baf3494bba",
            "value": " 241k/? [00:00&lt;00:00, 19.3MB/s]"
          }
        },
        "d0020a606052428f833dc36ef14492b2": {
          "model_module": "@jupyter-widgets/base",
          "model_name": "LayoutModel",
          "model_module_version": "1.2.0",
          "state": {
            "_model_module": "@jupyter-widgets/base",
            "_model_module_version": "1.2.0",
            "_model_name": "LayoutModel",
            "_view_count": null,
            "_view_module": "@jupyter-widgets/base",
            "_view_module_version": "1.2.0",
            "_view_name": "LayoutView",
            "align_content": null,
            "align_items": null,
            "align_self": null,
            "border": null,
            "bottom": null,
            "display": null,
            "flex": null,
            "flex_flow": null,
            "grid_area": null,
            "grid_auto_columns": null,
            "grid_auto_flow": null,
            "grid_auto_rows": null,
            "grid_column": null,
            "grid_gap": null,
            "grid_row": null,
            "grid_template_areas": null,
            "grid_template_columns": null,
            "grid_template_rows": null,
            "height": null,
            "justify_content": null,
            "justify_items": null,
            "left": null,
            "margin": null,
            "max_height": null,
            "max_width": null,
            "min_height": null,
            "min_width": null,
            "object_fit": null,
            "object_position": null,
            "order": null,
            "overflow": null,
            "overflow_x": null,
            "overflow_y": null,
            "padding": null,
            "right": null,
            "top": null,
            "visibility": null,
            "width": null
          }
        },
        "98ffab71ff0042f5b3063762e11b4d8b": {
          "model_module": "@jupyter-widgets/base",
          "model_name": "LayoutModel",
          "model_module_version": "1.2.0",
          "state": {
            "_model_module": "@jupyter-widgets/base",
            "_model_module_version": "1.2.0",
            "_model_name": "LayoutModel",
            "_view_count": null,
            "_view_module": "@jupyter-widgets/base",
            "_view_module_version": "1.2.0",
            "_view_name": "LayoutView",
            "align_content": null,
            "align_items": null,
            "align_self": null,
            "border": null,
            "bottom": null,
            "display": null,
            "flex": null,
            "flex_flow": null,
            "grid_area": null,
            "grid_auto_columns": null,
            "grid_auto_flow": null,
            "grid_auto_rows": null,
            "grid_column": null,
            "grid_gap": null,
            "grid_row": null,
            "grid_template_areas": null,
            "grid_template_columns": null,
            "grid_template_rows": null,
            "height": null,
            "justify_content": null,
            "justify_items": null,
            "left": null,
            "margin": null,
            "max_height": null,
            "max_width": null,
            "min_height": null,
            "min_width": null,
            "object_fit": null,
            "object_position": null,
            "order": null,
            "overflow": null,
            "overflow_x": null,
            "overflow_y": null,
            "padding": null,
            "right": null,
            "top": null,
            "visibility": null,
            "width": null
          }
        },
        "bf8389bdbe8546e6b42d55f75ec0b69b": {
          "model_module": "@jupyter-widgets/controls",
          "model_name": "DescriptionStyleModel",
          "model_module_version": "1.5.0",
          "state": {
            "_model_module": "@jupyter-widgets/controls",
            "_model_module_version": "1.5.0",
            "_model_name": "DescriptionStyleModel",
            "_view_count": null,
            "_view_module": "@jupyter-widgets/base",
            "_view_module_version": "1.2.0",
            "_view_name": "StyleView",
            "description_width": ""
          }
        },
        "1296d633b79140ddba46f405084a6b7a": {
          "model_module": "@jupyter-widgets/base",
          "model_name": "LayoutModel",
          "model_module_version": "1.2.0",
          "state": {
            "_model_module": "@jupyter-widgets/base",
            "_model_module_version": "1.2.0",
            "_model_name": "LayoutModel",
            "_view_count": null,
            "_view_module": "@jupyter-widgets/base",
            "_view_module_version": "1.2.0",
            "_view_name": "LayoutView",
            "align_content": null,
            "align_items": null,
            "align_self": null,
            "border": null,
            "bottom": null,
            "display": null,
            "flex": null,
            "flex_flow": null,
            "grid_area": null,
            "grid_auto_columns": null,
            "grid_auto_flow": null,
            "grid_auto_rows": null,
            "grid_column": null,
            "grid_gap": null,
            "grid_row": null,
            "grid_template_areas": null,
            "grid_template_columns": null,
            "grid_template_rows": null,
            "height": null,
            "justify_content": null,
            "justify_items": null,
            "left": null,
            "margin": null,
            "max_height": null,
            "max_width": null,
            "min_height": null,
            "min_width": null,
            "object_fit": null,
            "object_position": null,
            "order": null,
            "overflow": null,
            "overflow_x": null,
            "overflow_y": null,
            "padding": null,
            "right": null,
            "top": null,
            "visibility": null,
            "width": "20px"
          }
        },
        "4844015ca9d54ea0b46390e9b2784f1c": {
          "model_module": "@jupyter-widgets/controls",
          "model_name": "ProgressStyleModel",
          "model_module_version": "1.5.0",
          "state": {
            "_model_module": "@jupyter-widgets/controls",
            "_model_module_version": "1.5.0",
            "_model_name": "ProgressStyleModel",
            "_view_count": null,
            "_view_module": "@jupyter-widgets/base",
            "_view_module_version": "1.2.0",
            "_view_name": "StyleView",
            "bar_color": null,
            "description_width": ""
          }
        },
        "3a242c3ef05f473bac9874f5be42b360": {
          "model_module": "@jupyter-widgets/base",
          "model_name": "LayoutModel",
          "model_module_version": "1.2.0",
          "state": {
            "_model_module": "@jupyter-widgets/base",
            "_model_module_version": "1.2.0",
            "_model_name": "LayoutModel",
            "_view_count": null,
            "_view_module": "@jupyter-widgets/base",
            "_view_module_version": "1.2.0",
            "_view_name": "LayoutView",
            "align_content": null,
            "align_items": null,
            "align_self": null,
            "border": null,
            "bottom": null,
            "display": null,
            "flex": null,
            "flex_flow": null,
            "grid_area": null,
            "grid_auto_columns": null,
            "grid_auto_flow": null,
            "grid_auto_rows": null,
            "grid_column": null,
            "grid_gap": null,
            "grid_row": null,
            "grid_template_areas": null,
            "grid_template_columns": null,
            "grid_template_rows": null,
            "height": null,
            "justify_content": null,
            "justify_items": null,
            "left": null,
            "margin": null,
            "max_height": null,
            "max_width": null,
            "min_height": null,
            "min_width": null,
            "object_fit": null,
            "object_position": null,
            "order": null,
            "overflow": null,
            "overflow_x": null,
            "overflow_y": null,
            "padding": null,
            "right": null,
            "top": null,
            "visibility": null,
            "width": null
          }
        },
        "13e564d509804d6fa0b7c0baf3494bba": {
          "model_module": "@jupyter-widgets/controls",
          "model_name": "DescriptionStyleModel",
          "model_module_version": "1.5.0",
          "state": {
            "_model_module": "@jupyter-widgets/controls",
            "_model_module_version": "1.5.0",
            "_model_name": "DescriptionStyleModel",
            "_view_count": null,
            "_view_module": "@jupyter-widgets/base",
            "_view_module_version": "1.2.0",
            "_view_name": "StyleView",
            "description_width": ""
          }
        }
      }
    }
  },
  "cells": [
    {
      "cell_type": "markdown",
      "metadata": {
        "id": "view-in-github",
        "colab_type": "text"
      },
      "source": [
        "<a href=\"https://colab.research.google.com/github/yuvalira/Adversarial-Attacks-Article/blob/main/models/Random_Forest.ipynb\" target=\"_parent\"><img src=\"https://colab.research.google.com/assets/colab-badge.svg\" alt=\"Open In Colab\"/></a>"
      ]
    },
    {
      "cell_type": "markdown",
      "source": [
        "# **Classical Model — Random Forest (RF)**\n",
        "Random Forests are an ensemble of decision trees trained on bootstrapped samples with feature subsampling.\n",
        "They capture **non-linear** relationships, are fairly robust to hyperparameters, and provide **feature importances**.\n",
        "Unlike linear models, RF does **not** require scaling.\n",
        "\n",
        "References:\n",
        "- [scikit-learn RandomForestClassifier](https://scikit-learn.org/stable/modules/generated/sklearn.ensemble.RandomForestClassifier.html)\n"
      ],
      "metadata": {
        "id": "TXcifF0LWFlc"
      }
    },
    {
      "cell_type": "markdown",
      "source": [
        "## Imports & setup"
      ],
      "metadata": {
        "id": "2IcoUShQWTO7"
      }
    },
    {
      "cell_type": "code",
      "execution_count": 1,
      "metadata": {
        "colab": {
          "base_uri": "https://localhost:8080/"
        },
        "id": "XJqzBzMKZgvs",
        "outputId": "fe450a43-0cef-4710-d209-2b84fc8216c2"
      },
      "outputs": [
        {
          "output_type": "stream",
          "name": "stdout",
          "text": [
            "\u001b[?25l   \u001b[90m━━━━━━━━━━━━━━━━━━━━━━━━━━━━━━━━━━━━━━━━\u001b[0m \u001b[32m0.0/9.5 MB\u001b[0m \u001b[31m?\u001b[0m eta \u001b[36m-:--:--\u001b[0m\r\u001b[2K   \u001b[91m━━━━━━━━━━━━━━━━━━━━━━━\u001b[0m\u001b[90m╺\u001b[0m\u001b[90m━━━━━━━━━━━━━━━━\u001b[0m \u001b[32m5.6/9.5 MB\u001b[0m \u001b[31m167.4 MB/s\u001b[0m eta \u001b[36m0:00:01\u001b[0m\r\u001b[2K   \u001b[91m━━━━━━━━━━━━━━━━━━━━━━━━━━━━━━━━━━━━━━━\u001b[0m\u001b[91m╸\u001b[0m \u001b[32m9.5/9.5 MB\u001b[0m \u001b[31m142.1 MB/s\u001b[0m eta \u001b[36m0:00:01\u001b[0m\r\u001b[2K   \u001b[90m━━━━━━━━━━━━━━━━━━━━━━━━━━━━━━━━━━━━━━━━\u001b[0m \u001b[32m9.5/9.5 MB\u001b[0m \u001b[31m95.9 MB/s\u001b[0m eta \u001b[36m0:00:00\u001b[0m\n",
            "\u001b[?25h"
          ]
        }
      ],
      "source": [
        "!pip -q install -U scikit-learn huggingface_hub\n",
        "\n",
        "import os, time, numpy as np, pandas as pd, matplotlib.pyplot as plt\n",
        "from huggingface_hub import hf_hub_download\n",
        "\n",
        "from sklearn.compose import ColumnTransformer\n",
        "from sklearn.pipeline import Pipeline\n",
        "from sklearn.preprocessing import OrdinalEncoder\n",
        "from sklearn.impute import SimpleImputer\n",
        "from sklearn.ensemble import RandomForestClassifier\n",
        "\n",
        "from sklearn.metrics import (\n",
        "    accuracy_score, precision_score, recall_score, f1_score,\n",
        "    roc_auc_score, roc_curve, classification_report, confusion_matrix\n",
        ")\n",
        "\n",
        "RANDOM_STATE = 42\n",
        "np.random.seed(RANDOM_STATE)"
      ]
    },
    {
      "cell_type": "markdown",
      "source": [
        "## Load splits from HF"
      ],
      "metadata": {
        "id": "_ziIESqeXij1"
      }
    },
    {
      "cell_type": "code",
      "source": [
        "repo_id   = \"yuvalira/adult_income_balanced\"  # TODO\n",
        "repo_type = \"dataset\"\n",
        "\n",
        "def read_split_csv(repo_id, filename, repo_type=\"dataset\"):\n",
        "    p = hf_hub_download(repo_id=repo_id, filename=filename, repo_type=repo_type, token=False)\n",
        "    return pd.read_csv(p)\n",
        "\n",
        "train_data = read_split_csv(repo_id, \"train.csv\", repo_type)\n",
        "val_data   = read_split_csv(repo_id, \"val.csv\",   repo_type)\n",
        "\n",
        "print(\"Train:\", train_data.shape, \"| Val:\", val_data.shape)"
      ],
      "metadata": {
        "colab": {
          "base_uri": "https://localhost:8080/",
          "height": 98,
          "referenced_widgets": [
            "9e2428c31a9949468c6f023186f9685c",
            "d5ac8bfcc938400c93c4912b027cdc33",
            "0379586d43bd4051b4668662807af402",
            "ae6ee1bfc3f045b5a87d601f489defc9",
            "d8a42fb4f7a94a4c9c0aa02b1ce0d54b",
            "f5fe8595fef343cfa1f81bf543083d97",
            "229aa289c7c943ee9405634a0af2efb7",
            "aa680524b9924665a99c91db3ecd961b",
            "f32f02324db94150a63d00516d3423fe",
            "b7921f5e021747899b19e557bcfcfb69",
            "76c6ce7403b74f3fb295d7499120ac10",
            "a35ce251205e4470bf45415a14290589",
            "f695f20ee4bb4e5d9084914e727200f9",
            "d4a551e479444e599ed6d81dab0b8b89",
            "2e21cb312a674924a096684a3b8ef43c",
            "d0020a606052428f833dc36ef14492b2",
            "98ffab71ff0042f5b3063762e11b4d8b",
            "bf8389bdbe8546e6b42d55f75ec0b69b",
            "1296d633b79140ddba46f405084a6b7a",
            "4844015ca9d54ea0b46390e9b2784f1c",
            "3a242c3ef05f473bac9874f5be42b360",
            "13e564d509804d6fa0b7c0baf3494bba"
          ]
        },
        "id": "qH_wpl1jXgbp",
        "outputId": "1997a86a-ad7c-4031-db20-f0e8d5ccb1e4"
      },
      "execution_count": 2,
      "outputs": [
        {
          "output_type": "display_data",
          "data": {
            "text/plain": [
              "train.csv: 0.00B [00:00, ?B/s]"
            ],
            "application/vnd.jupyter.widget-view+json": {
              "version_major": 2,
              "version_minor": 0,
              "model_id": "9e2428c31a9949468c6f023186f9685c"
            }
          },
          "metadata": {}
        },
        {
          "output_type": "display_data",
          "data": {
            "text/plain": [
              "val.csv: 0.00B [00:00, ?B/s]"
            ],
            "application/vnd.jupyter.widget-view+json": {
              "version_major": 2,
              "version_minor": 0,
              "model_id": "a35ce251205e4470bf45415a14290589"
            }
          },
          "metadata": {}
        },
        {
          "output_type": "stream",
          "name": "stdout",
          "text": [
            "Train: (11687, 14) | Val: (2337, 14)\n"
          ]
        }
      ]
    },
    {
      "cell_type": "markdown",
      "source": [
        "## Discover column types & configure target"
      ],
      "metadata": {
        "id": "TZQEIF2jX3A4"
      }
    },
    {
      "cell_type": "code",
      "source": [
        "auto_num = train_data.select_dtypes(include=['int16','int32','int64','float16','float32','float64']).columns.tolist()\n",
        "auto_cat = train_data.select_dtypes(include=['object','category','bool']).columns.tolist()\n",
        "\n",
        "TARGET_COLUMN_NAME = \"income\"              # TODO\n",
        "TARGET_LABELS = [\"<=50K\", \">50K\"]          # TODO (order defines ids)\n",
        "SAMPLE_WEIGHT_COLUMN = None                # or \"weight\"\n",
        "\n",
        "NUMERIC_FEATURE_NAMES = [c for c in auto_num if c != TARGET_COLUMN_NAME]\n",
        "CATEGORICAL_FEATURE_NAMES = [c for c in auto_cat if c != TARGET_COLUMN_NAME]\n",
        "\n",
        "print(\"Numeric features:\", NUMERIC_FEATURE_NAMES)\n",
        "print(\"Categorical features:\", CATEGORICAL_FEATURE_NAMES)"
      ],
      "metadata": {
        "colab": {
          "base_uri": "https://localhost:8080/"
        },
        "id": "DARVrCKmXqMt",
        "outputId": "859c1404-1710-45b3-c184-924964a6dc1e"
      },
      "execution_count": 3,
      "outputs": [
        {
          "output_type": "stream",
          "name": "stdout",
          "text": [
            "Numeric features: ['age', 'educational-num', 'capital-gain', 'capital-loss', 'hours-per-week']\n",
            "Categorical features: ['workclass', 'education', 'marital-status', 'occupation', 'relationship', 'race', 'gender', 'native-country']\n"
          ]
        }
      ]
    },
    {
      "cell_type": "markdown",
      "source": [
        "## Prepare dataframes"
      ],
      "metadata": {
        "id": "63mkZdUYYCeM"
      }
    },
    {
      "cell_type": "code",
      "source": [
        "train_data = train_data.copy()\n",
        "val_data   = val_data.copy()\n",
        "\n",
        "label2id = {lbl:i for i,lbl in enumerate(TARGET_LABELS)}\n",
        "id2label = {i:lbl for lbl,i in label2id.items()}\n",
        "\n",
        "def prepare_df(df):\n",
        "    assert TARGET_COLUMN_NAME in df.columns, f\"No target '{TARGET_COLUMN_NAME}'\"\n",
        "    df[TARGET_COLUMN_NAME] = df[TARGET_COLUMN_NAME].map(label2id)\n",
        "    if df[TARGET_COLUMN_NAME].isna().any():\n",
        "        bad = df.loc[df[TARGET_COLUMN_NAME].isna(), TARGET_COLUMN_NAME].unique().tolist()\n",
        "        raise ValueError(f\"Unmapped targets: {bad} vs {TARGET_LABELS}\")\n",
        "    for c in CATEGORICAL_FEATURE_NAMES:\n",
        "        if c in df.columns:\n",
        "            df[c] = df[c].astype(str)\n",
        "    return df\n",
        "\n",
        "prepare_df(train_data); prepare_df(val_data)\n",
        "n_classes = int(train_data[TARGET_COLUMN_NAME].nunique())\n",
        "avg_mode = None if n_classes==2 else \"macro\"\n",
        "print(\"Classes:\", [id2label[i] for i in sorted(train_data[TARGET_COLUMN_NAME].unique())])"
      ],
      "metadata": {
        "colab": {
          "base_uri": "https://localhost:8080/"
        },
        "id": "5lBjct0OX0mO",
        "outputId": "1388bf34-5470-415d-f5f0-f9172ea19fdd"
      },
      "execution_count": 4,
      "outputs": [
        {
          "output_type": "stream",
          "name": "stdout",
          "text": [
            "Classes: ['<=50K', '>50K']\n"
          ]
        }
      ]
    },
    {
      "cell_type": "markdown",
      "source": [
        "## Pipeline: impute numerics; ordinal-encode categoricals (no scaling); RF model"
      ],
      "metadata": {
        "id": "PfOZh6HzYMGE"
      }
    },
    {
      "cell_type": "code",
      "source": [
        "numeric_pipe = Pipeline([\n",
        "    (\"imputer\", SimpleImputer(strategy=\"median\"))\n",
        "])\n",
        "categorical_pipe = Pipeline([\n",
        "    (\"imputer\", SimpleImputer(strategy=\"most_frequent\")),\n",
        "    (\"ord\", OrdinalEncoder(handle_unknown=\"use_encoded_value\", unknown_value=-1))\n",
        "])\n",
        "\n",
        "preprocessor = ColumnTransformer(\n",
        "    transformers=[\n",
        "        (\"num\", numeric_pipe, NUMERIC_FEATURE_NAMES),\n",
        "        (\"cat\", categorical_pipe, CATEGORICAL_FEATURE_NAMES),\n",
        "    ],\n",
        "    remainder=\"drop\",\n",
        "    verbose_feature_names_out=True\n",
        ")\n",
        "\n",
        "rf = RandomForestClassifier(\n",
        "    n_estimators=400,\n",
        "    max_depth=None,           # let trees grow; adjust if overfitting\n",
        "    min_samples_leaf=2,\n",
        "    max_features=\"sqrt\",\n",
        "    bootstrap=True,\n",
        "    n_jobs=-1,\n",
        "    random_state=RANDOM_STATE,\n",
        ")\n",
        "\n",
        "clf_rf = Pipeline([\n",
        "    (\"preprocessor\", preprocessor),\n",
        "    (\"clf\", rf),\n",
        "])\n",
        "\n",
        "print(\"RF pipeline ready.\")"
      ],
      "metadata": {
        "colab": {
          "base_uri": "https://localhost:8080/"
        },
        "id": "aoTvWP7JYJYC",
        "outputId": "ad4b0df4-d0ca-478a-bac2-00f7056c6995"
      },
      "execution_count": 5,
      "outputs": [
        {
          "output_type": "stream",
          "name": "stdout",
          "text": [
            "RF pipeline ready.\n"
          ]
        }
      ]
    },
    {
      "cell_type": "markdown",
      "source": [
        "## Train & Evaluate"
      ],
      "metadata": {
        "id": "jScA4JJoYXvP"
      }
    },
    {
      "cell_type": "code",
      "source": [
        "def split_Xy(df):\n",
        "    X = df.drop(columns=[TARGET_COLUMN_NAME])\n",
        "    y = df[TARGET_COLUMN_NAME].values\n",
        "    sw = df[SAMPLE_WEIGHT_COLUMN].values if SAMPLE_WEIGHT_COLUMN else None\n",
        "    return X, y, sw\n",
        "\n",
        "def metrics(y_true, y_pred, y_prob=None, average=None, sample_weight=None):\n",
        "    acc = accuracy_score(y_true, y_pred, sample_weight=sample_weight)\n",
        "    if average is None:\n",
        "        prec = precision_score(y_true, y_pred, sample_weight=sample_weight, zero_division=0)\n",
        "        rec  = recall_score(y_true, y_pred, sample_weight=sample_weight, zero_division=0)\n",
        "        f1   = f1_score(y_true, y_pred, sample_weight=sample_weight, zero_division=0)\n",
        "    else:\n",
        "        prec = precision_score(y_true, y_pred, average=average, sample_weight=sample_weight, zero_division=0)\n",
        "        rec  = recall_score(y_true, y_pred, average=average, sample_weight=sample_weight, zero_division=0)\n",
        "        f1   = f1_score(y_true, y_pred, average=average, sample_weight=sample_weight, zero_division=0)\n",
        "    out = {\"accuracy\":acc, \"precision\":prec, \"recall\":rec, \"f1\":f1}\n",
        "    if y_prob is not None:\n",
        "        try:\n",
        "            if y_prob.ndim==1 or y_prob.shape[1]==1:\n",
        "                auc = roc_auc_score(y_true, y_prob, sample_weight=sample_weight)\n",
        "            elif y_prob.shape[1]==2:\n",
        "                auc = roc_auc_score(y_true, y_prob[:,1], sample_weight=sample_weight)\n",
        "            else:\n",
        "                auc = roc_auc_score(y_true, y_prob, multi_class=\"ovr\", average=\"macro\", sample_weight=sample_weight)\n",
        "            out[\"roc_auc\"] = auc\n",
        "        except Exception:\n",
        "            pass\n",
        "    return out\n",
        "\n",
        "def run_rf_train_val(pipeline, train_df, val_df):\n",
        "    Xtr, ytr, sw_tr = split_Xy(train_df)\n",
        "    Xva, yva, sw_va = split_Xy(val_df)\n",
        "\n",
        "    t0 = time.time()\n",
        "    fit_kwargs = {\"clf__sample_weight\": sw_tr} if sw_tr is not None else {}\n",
        "    pipeline.fit(Xtr, ytr, **fit_kwargs)\n",
        "    print(f\"Training time: {time.time()-t0:.2f}s\")\n",
        "\n",
        "    y_pred = pipeline.predict(Xva)\n",
        "    y_prob = pipeline.predict_proba(Xva) if hasattr(pipeline.named_steps[\"clf\"], \"predict_proba\") else None\n",
        "\n",
        "    res = metrics(yva, y_pred, y_prob, average=avg_mode, sample_weight=sw_va)\n",
        "    print(\"Validation metrics:\", {k: round(v,4) for k,v in res.items()})\n",
        "\n",
        "    print(\"\\nClassification report (val):\")\n",
        "    print(classification_report(yva, y_pred, target_names=[id2label[i] for i in range(n_classes)], zero_division=0))\n",
        "    print(\"Confusion matrix (val):\")\n",
        "    print(confusion_matrix(yva, y_pred))\n",
        "    return pipeline, (Xva, yva, y_prob)"
      ],
      "metadata": {
        "id": "XrrzDoYsYVP4"
      },
      "execution_count": 6,
      "outputs": []
    },
    {
      "cell_type": "code",
      "source": [
        "clf_rf, (X_val, y_val, y_prob_val) = run_rf_train_val(clf_rf, train_data, val_data)"
      ],
      "metadata": {
        "colab": {
          "base_uri": "https://localhost:8080/"
        },
        "id": "y6kIfVfcYch7",
        "outputId": "678f48c2-f55b-45a1-8ba1-1af3c5ec8898"
      },
      "execution_count": 7,
      "outputs": [
        {
          "output_type": "stream",
          "name": "stdout",
          "text": [
            "Training time: 5.99s\n",
            "Validation metrics: {'accuracy': 0.8288, 'precision': 0.8057, 'recall': 0.8664, 'f1': 0.835, 'roc_auc': 0.9158}\n",
            "\n",
            "Classification report (val):\n",
            "              precision    recall  f1-score   support\n",
            "\n",
            "       <=50K       0.86      0.79      0.82      1169\n",
            "        >50K       0.81      0.87      0.83      1168\n",
            "\n",
            "    accuracy                           0.83      2337\n",
            "   macro avg       0.83      0.83      0.83      2337\n",
            "weighted avg       0.83      0.83      0.83      2337\n",
            "\n",
            "Confusion matrix (val):\n",
            "[[ 925  244]\n",
            " [ 156 1012]]\n"
          ]
        }
      ]
    },
    {
      "cell_type": "markdown",
      "source": [
        "## ROC Curve"
      ],
      "metadata": {
        "id": "ewq6THA7Yn_o"
      }
    },
    {
      "cell_type": "code",
      "source": [
        "if y_prob_val is not None:\n",
        "    if n_classes==2:\n",
        "        scores = y_prob_val[:,1] if y_prob_val.ndim>1 else y_prob_val\n",
        "        fpr, tpr, _ = roc_curve(y_val, scores)\n",
        "        auc = roc_auc_score(y_val, scores)\n",
        "        plt.figure(figsize=(7,5))\n",
        "        plt.plot(fpr, tpr, label=f\"AUC = {auc:.4f}\", linewidth=2)\n",
        "        plt.plot([0,1],[0,1],'--', label=\"Random\")\n",
        "        plt.xlabel(\"FPR\"); plt.ylabel(\"TPR\"); plt.title(\"ROC — RF (Validation)\")\n",
        "        plt.legend(); plt.grid(True); plt.tight_layout(); plt.show()\n",
        "    else:\n",
        "        print(\"Multiclass ROC: compute macro/micro as needed.\")"
      ],
      "metadata": {
        "colab": {
          "base_uri": "https://localhost:8080/",
          "height": 507
        },
        "id": "LPCsRxX7YmEs",
        "outputId": "dac9e70a-302a-4fd5-e44e-5cef711a5650"
      },
      "execution_count": 8,
      "outputs": [
        {
          "output_type": "display_data",
          "data": {
            "text/plain": [
              "<Figure size 700x500 with 1 Axes>"
            ],
            "image/png": "[encoded data removed]"
          },
          "metadata": {}
        }
      ]
    },
    {
      "cell_type": "markdown",
      "source": [
        "## Save Model"
      ],
      "metadata": {
        "id": "C0CB_Ip7Y3yX"
      }
    },
    {
      "cell_type": "code",
      "source": [
        "import re, joblib\n",
        "safe_repo_id = re.sub(r'[^A-Za-z0-9_.-]+', '_', repo_id)\n",
        "model_path = f\"rf_pipeline_{safe_repo_id}.joblib\"\n",
        "joblib.dump(clf_rf, model_path)\n",
        "print(\"Saved:\", os.path.abspath(model_path))"
      ],
      "metadata": {
        "id": "DCZ03ewxY4-g"
      },
      "execution_count": null,
      "outputs": []
    }
  ]
}