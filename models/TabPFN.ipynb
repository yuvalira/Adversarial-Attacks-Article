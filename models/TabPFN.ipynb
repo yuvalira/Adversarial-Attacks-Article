{
  "nbformat": 4,
  "nbformat_minor": 0,
  "metadata": {
    "colab": {
      "provenance": [],
      "gpuType": "T4",
      "authorship_tag": "ABX9TyNDRcMHKrrBrBtfo4JgNtja",
      "include_colab_link": true
    },
    "kernelspec": {
      "name": "python3",
      "display_name": "Python 3"
    },
    "language_info": {
      "name": "python"
    },
    "accelerator": "GPU",
    "widgets": {
      "application/vnd.jupyter.widget-state+json": {
        "69cbe3bd41434bb9b78f995cc5310c50": {
          "model_module": "@jupyter-widgets/controls",
          "model_name": "HBoxModel",
          "model_module_version": "1.5.0",
          "state": {
            "_dom_classes": [],
            "_model_module": "@jupyter-widgets/controls",
            "_model_module_version": "1.5.0",
            "_model_name": "HBoxModel",
            "_view_count": null,
            "_view_module": "@jupyter-widgets/controls",
            "_view_module_version": "1.5.0",
            "_view_name": "HBoxView",
            "box_style": "",
            "children": [
              "IPY_MODEL_2895a0b5c224481087ace071eaf7ac83",
              "IPY_MODEL_501a9a31d6ee4a919b8a21aa6abb5faa",
              "IPY_MODEL_a586cff8b1be46568da3f1b10341c197"
            ],
            "layout": "IPY_MODEL_ed55a4a8a05c436bab0e5e70f965eb4b"
          }
        },
        "2895a0b5c224481087ace071eaf7ac83": {
          "model_module": "@jupyter-widgets/controls",
          "model_name": "HTMLModel",
          "model_module_version": "1.5.0",
          "state": {
            "_dom_classes": [],
            "_model_module": "@jupyter-widgets/controls",
            "_model_module_version": "1.5.0",
            "_model_name": "HTMLModel",
            "_view_count": null,
            "_view_module": "@jupyter-widgets/controls",
            "_view_module_version": "1.5.0",
            "_view_name": "HTMLView",
            "description": "",
            "description_tooltip": null,
            "layout": "IPY_MODEL_fbc07543c30a4820a54987558c37f285",
            "placeholder": "​",
            "style": "IPY_MODEL_6150a628a5854fa781f40d10472c5771",
            "value": "train.csv: "
          }
        },
        "501a9a31d6ee4a919b8a21aa6abb5faa": {
          "model_module": "@jupyter-widgets/controls",
          "model_name": "FloatProgressModel",
          "model_module_version": "1.5.0",
          "state": {
            "_dom_classes": [],
            "_model_module": "@jupyter-widgets/controls",
            "_model_module_version": "1.5.0",
            "_model_name": "FloatProgressModel",
            "_view_count": null,
            "_view_module": "@jupyter-widgets/controls",
            "_view_module_version": "1.5.0",
            "_view_name": "ProgressView",
            "bar_style": "success",
            "description": "",
            "description_tooltip": null,
            "layout": "IPY_MODEL_8180f53b321248d09ef6ff6a901dd44c",
            "max": 1,
            "min": 0,
            "orientation": "horizontal",
            "style": "IPY_MODEL_6a45c780369247c5891fb21310046390",
            "value": 1
          }
        },
        "a586cff8b1be46568da3f1b10341c197": {
          "model_module": "@jupyter-widgets/controls",
          "model_name": "HTMLModel",
          "model_module_version": "1.5.0",
          "state": {
            "_dom_classes": [],
            "_model_module": "@jupyter-widgets/controls",
            "_model_module_version": "1.5.0",
            "_model_name": "HTMLModel",
            "_view_count": null,
            "_view_module": "@jupyter-widgets/controls",
            "_view_module_version": "1.5.0",
            "_view_name": "HTMLView",
            "description": "",
            "description_tooltip": null,
            "layout": "IPY_MODEL_794cbad3a8e046b0acb84f018f9b0ab8",
            "placeholder": "​",
            "style": "IPY_MODEL_3dc5e5fe28454b09bb7dc2695ae02175",
            "value": " 1.20M/? [00:00&lt;00:00, 80.6MB/s]"
          }
        },
        "ed55a4a8a05c436bab0e5e70f965eb4b": {
          "model_module": "@jupyter-widgets/base",
          "model_name": "LayoutModel",
          "model_module_version": "1.2.0",
          "state": {
            "_model_module": "@jupyter-widgets/base",
            "_model_module_version": "1.2.0",
            "_model_name": "LayoutModel",
            "_view_count": null,
            "_view_module": "@jupyter-widgets/base",
            "_view_module_version": "1.2.0",
            "_view_name": "LayoutView",
            "align_content": null,
            "align_items": null,
            "align_self": null,
            "border": null,
            "bottom": null,
            "display": null,
            "flex": null,
            "flex_flow": null,
            "grid_area": null,
            "grid_auto_columns": null,
            "grid_auto_flow": null,
            "grid_auto_rows": null,
            "grid_column": null,
            "grid_gap": null,
            "grid_row": null,
            "grid_template_areas": null,
            "grid_template_columns": null,
            "grid_template_rows": null,
            "height": null,
            "justify_content": null,
            "justify_items": null,
            "left": null,
            "margin": null,
            "max_height": null,
            "max_width": null,
            "min_height": null,
            "min_width": null,
            "object_fit": null,
            "object_position": null,
            "order": null,
            "overflow": null,
            "overflow_x": null,
            "overflow_y": null,
            "padding": null,
            "right": null,
            "top": null,
            "visibility": null,
            "width": null
          }
        },
        "fbc07543c30a4820a54987558c37f285": {
          "model_module": "@jupyter-widgets/base",
          "model_name": "LayoutModel",
          "model_module_version": "1.2.0",
          "state": {
            "_model_module": "@jupyter-widgets/base",
            "_model_module_version": "1.2.0",
            "_model_name": "LayoutModel",
            "_view_count": null,
            "_view_module": "@jupyter-widgets/base",
            "_view_module_version": "1.2.0",
            "_view_name": "LayoutView",
            "align_content": null,
            "align_items": null,
            "align_self": null,
            "border": null,
            "bottom": null,
            "display": null,
            "flex": null,
            "flex_flow": null,
            "grid_area": null,
            "grid_auto_columns": null,
            "grid_auto_flow": null,
            "grid_auto_rows": null,
            "grid_column": null,
            "grid_gap": null,
            "grid_row": null,
            "grid_template_areas": null,
            "grid_template_columns": null,
            "grid_template_rows": null,
            "height": null,
            "justify_content": null,
            "justify_items": null,
            "left": null,
            "margin": null,
            "max_height": null,
            "max_width": null,
            "min_height": null,
            "min_width": null,
            "object_fit": null,
            "object_position": null,
            "order": null,
            "overflow": null,
            "overflow_x": null,
            "overflow_y": null,
            "padding": null,
            "right": null,
            "top": null,
            "visibility": null,
            "width": null
          }
        },
        "6150a628a5854fa781f40d10472c5771": {
          "model_module": "@jupyter-widgets/controls",
          "model_name": "DescriptionStyleModel",
          "model_module_version": "1.5.0",
          "state": {
            "_model_module": "@jupyter-widgets/controls",
            "_model_module_version": "1.5.0",
            "_model_name": "DescriptionStyleModel",
            "_view_count": null,
            "_view_module": "@jupyter-widgets/base",
            "_view_module_version": "1.2.0",
            "_view_name": "StyleView",
            "description_width": ""
          }
        },
        "8180f53b321248d09ef6ff6a901dd44c": {
          "model_module": "@jupyter-widgets/base",
          "model_name": "LayoutModel",
          "model_module_version": "1.2.0",
          "state": {
            "_model_module": "@jupyter-widgets/base",
            "_model_module_version": "1.2.0",
            "_model_name": "LayoutModel",
            "_view_count": null,
            "_view_module": "@jupyter-widgets/base",
            "_view_module_version": "1.2.0",
            "_view_name": "LayoutView",
            "align_content": null,
            "align_items": null,
            "align_self": null,
            "border": null,
            "bottom": null,
            "display": null,
            "flex": null,
            "flex_flow": null,
            "grid_area": null,
            "grid_auto_columns": null,
            "grid_auto_flow": null,
            "grid_auto_rows": null,
            "grid_column": null,
            "grid_gap": null,
            "grid_row": null,
            "grid_template_areas": null,
            "grid_template_columns": null,
            "grid_template_rows": null,
            "height": null,
            "justify_content": null,
            "justify_items": null,
            "left": null,
            "margin": null,
            "max_height": null,
            "max_width": null,
            "min_height": null,
            "min_width": null,
            "object_fit": null,
            "object_position": null,
            "order": null,
            "overflow": null,
            "overflow_x": null,
            "overflow_y": null,
            "padding": null,
            "right": null,
            "top": null,
            "visibility": null,
            "width": "20px"
          }
        },
        "6a45c780369247c5891fb21310046390": {
          "model_module": "@jupyter-widgets/controls",
          "model_name": "ProgressStyleModel",
          "model_module_version": "1.5.0",
          "state": {
            "_model_module": "@jupyter-widgets/controls",
            "_model_module_version": "1.5.0",
            "_model_name": "ProgressStyleModel",
            "_view_count": null,
            "_view_module": "@jupyter-widgets/base",
            "_view_module_version": "1.2.0",
            "_view_name": "StyleView",
            "bar_color": null,
            "description_width": ""
          }
        },
        "794cbad3a8e046b0acb84f018f9b0ab8": {
          "model_module": "@jupyter-widgets/base",
          "model_name": "LayoutModel",
          "model_module_version": "1.2.0",
          "state": {
            "_model_module": "@jupyter-widgets/base",
            "_model_module_version": "1.2.0",
            "_model_name": "LayoutModel",
            "_view_count": null,
            "_view_module": "@jupyter-widgets/base",
            "_view_module_version": "1.2.0",
            "_view_name": "LayoutView",
            "align_content": null,
            "align_items": null,
            "align_self": null,
            "border": null,
            "bottom": null,
            "display": null,
            "flex": null,
            "flex_flow": null,
            "grid_area": null,
            "grid_auto_columns": null,
            "grid_auto_flow": null,
            "grid_auto_rows": null,
            "grid_column": null,
            "grid_gap": null,
            "grid_row": null,
            "grid_template_areas": null,
            "grid_template_columns": null,
            "grid_template_rows": null,
            "height": null,
            "justify_content": null,
            "justify_items": null,
            "left": null,
            "margin": null,
            "max_height": null,
            "max_width": null,
            "min_height": null,
            "min_width": null,
            "object_fit": null,
            "object_position": null,
            "order": null,
            "overflow": null,
            "overflow_x": null,
            "overflow_y": null,
            "padding": null,
            "right": null,
            "top": null,
            "visibility": null,
            "width": null
          }
        },
        "3dc5e5fe28454b09bb7dc2695ae02175": {
          "model_module": "@jupyter-widgets/controls",
          "model_name": "DescriptionStyleModel",
          "model_module_version": "1.5.0",
          "state": {
            "_model_module": "@jupyter-widgets/controls",
            "_model_module_version": "1.5.0",
            "_model_name": "DescriptionStyleModel",
            "_view_count": null,
            "_view_module": "@jupyter-widgets/base",
            "_view_module_version": "1.2.0",
            "_view_name": "StyleView",
            "description_width": ""
          }
        },
        "d0486fa1c37b4418b84cb717b6d41b3a": {
          "model_module": "@jupyter-widgets/controls",
          "model_name": "HBoxModel",
          "model_module_version": "1.5.0",
          "state": {
            "_dom_classes": [],
            "_model_module": "@jupyter-widgets/controls",
            "_model_module_version": "1.5.0",
            "_model_name": "HBoxModel",
            "_view_count": null,
            "_view_module": "@jupyter-widgets/controls",
            "_view_module_version": "1.5.0",
            "_view_name": "HBoxView",
            "box_style": "",
            "children": [
              "IPY_MODEL_e89cea96d35e4dc9b4cb6ca3fb7b9b82",
              "IPY_MODEL_21a655bef4e84236a04e9966854a63b3",
              "IPY_MODEL_c79a67d3b0904a6c827373c1f03b6d8e"
            ],
            "layout": "IPY_MODEL_5c4a0cf471c94b2b912ebc6ad53f952c"
          }
        },
        "e89cea96d35e4dc9b4cb6ca3fb7b9b82": {
          "model_module": "@jupyter-widgets/controls",
          "model_name": "HTMLModel",
          "model_module_version": "1.5.0",
          "state": {
            "_dom_classes": [],
            "_model_module": "@jupyter-widgets/controls",
            "_model_module_version": "1.5.0",
            "_model_name": "HTMLModel",
            "_view_count": null,
            "_view_module": "@jupyter-widgets/controls",
            "_view_module_version": "1.5.0",
            "_view_name": "HTMLView",
            "description": "",
            "description_tooltip": null,
            "layout": "IPY_MODEL_3b6e557b34444dda936bb0f8d41c968c",
            "placeholder": "​",
            "style": "IPY_MODEL_2205d5efdd1e4996b3ac9ed083f41472",
            "value": "val.csv: "
          }
        },
        "21a655bef4e84236a04e9966854a63b3": {
          "model_module": "@jupyter-widgets/controls",
          "model_name": "FloatProgressModel",
          "model_module_version": "1.5.0",
          "state": {
            "_dom_classes": [],
            "_model_module": "@jupyter-widgets/controls",
            "_model_module_version": "1.5.0",
            "_model_name": "FloatProgressModel",
            "_view_count": null,
            "_view_module": "@jupyter-widgets/controls",
            "_view_module_version": "1.5.0",
            "_view_name": "ProgressView",
            "bar_style": "success",
            "description": "",
            "description_tooltip": null,
            "layout": "IPY_MODEL_592e9f4941234006a5525975122d2dfc",
            "max": 1,
            "min": 0,
            "orientation": "horizontal",
            "style": "IPY_MODEL_6c804afda7cf4f309ed2c57c42c2a464",
            "value": 1
          }
        },
        "c79a67d3b0904a6c827373c1f03b6d8e": {
          "model_module": "@jupyter-widgets/controls",
          "model_name": "HTMLModel",
          "model_module_version": "1.5.0",
          "state": {
            "_dom_classes": [],
            "_model_module": "@jupyter-widgets/controls",
            "_model_module_version": "1.5.0",
            "_model_name": "HTMLModel",
            "_view_count": null,
            "_view_module": "@jupyter-widgets/controls",
            "_view_module_version": "1.5.0",
            "_view_name": "HTMLView",
            "description": "",
            "description_tooltip": null,
            "layout": "IPY_MODEL_09e9f8d447f4451a977424edc7576ad1",
            "placeholder": "​",
            "style": "IPY_MODEL_4154f128558a453d8151cb0fab48f3d6",
            "value": " 241k/? [00:00&lt;00:00, 11.3MB/s]"
          }
        },
        "5c4a0cf471c94b2b912ebc6ad53f952c": {
          "model_module": "@jupyter-widgets/base",
          "model_name": "LayoutModel",
          "model_module_version": "1.2.0",
          "state": {
            "_model_module": "@jupyter-widgets/base",
            "_model_module_version": "1.2.0",
            "_model_name": "LayoutModel",
            "_view_count": null,
            "_view_module": "@jupyter-widgets/base",
            "_view_module_version": "1.2.0",
            "_view_name": "LayoutView",
            "align_content": null,
            "align_items": null,
            "align_self": null,
            "border": null,
            "bottom": null,
            "display": null,
            "flex": null,
            "flex_flow": null,
            "grid_area": null,
            "grid_auto_columns": null,
            "grid_auto_flow": null,
            "grid_auto_rows": null,
            "grid_column": null,
            "grid_gap": null,
            "grid_row": null,
            "grid_template_areas": null,
            "grid_template_columns": null,
            "grid_template_rows": null,
            "height": null,
            "justify_content": null,
            "justify_items": null,
            "left": null,
            "margin": null,
            "max_height": null,
            "max_width": null,
            "min_height": null,
            "min_width": null,
            "object_fit": null,
            "object_position": null,
            "order": null,
            "overflow": null,
            "overflow_x": null,
            "overflow_y": null,
            "padding": null,
            "right": null,
            "top": null,
            "visibility": null,
            "width": null
          }
        },
        "3b6e557b34444dda936bb0f8d41c968c": {
          "model_module": "@jupyter-widgets/base",
          "model_name": "LayoutModel",
          "model_module_version": "1.2.0",
          "state": {
            "_model_module": "@jupyter-widgets/base",
            "_model_module_version": "1.2.0",
            "_model_name": "LayoutModel",
            "_view_count": null,
            "_view_module": "@jupyter-widgets/base",
            "_view_module_version": "1.2.0",
            "_view_name": "LayoutView",
            "align_content": null,
            "align_items": null,
            "align_self": null,
            "border": null,
            "bottom": null,
            "display": null,
            "flex": null,
            "flex_flow": null,
            "grid_area": null,
            "grid_auto_columns": null,
            "grid_auto_flow": null,
            "grid_auto_rows": null,
            "grid_column": null,
            "grid_gap": null,
            "grid_row": null,
            "grid_template_areas": null,
            "grid_template_columns": null,
            "grid_template_rows": null,
            "height": null,
            "justify_content": null,
            "justify_items": null,
            "left": null,
            "margin": null,
            "max_height": null,
            "max_width": null,
            "min_height": null,
            "min_width": null,
            "object_fit": null,
            "object_position": null,
            "order": null,
            "overflow": null,
            "overflow_x": null,
            "overflow_y": null,
            "padding": null,
            "right": null,
            "top": null,
            "visibility": null,
            "width": null
          }
        },
        "2205d5efdd1e4996b3ac9ed083f41472": {
          "model_module": "@jupyter-widgets/controls",
          "model_name": "DescriptionStyleModel",
          "model_module_version": "1.5.0",
          "state": {
            "_model_module": "@jupyter-widgets/controls",
            "_model_module_version": "1.5.0",
            "_model_name": "DescriptionStyleModel",
            "_view_count": null,
            "_view_module": "@jupyter-widgets/base",
            "_view_module_version": "1.2.0",
            "_view_name": "StyleView",
            "description_width": ""
          }
        },
        "592e9f4941234006a5525975122d2dfc": {
          "model_module": "@jupyter-widgets/base",
          "model_name": "LayoutModel",
          "model_module_version": "1.2.0",
          "state": {
            "_model_module": "@jupyter-widgets/base",
            "_model_module_version": "1.2.0",
            "_model_name": "LayoutModel",
            "_view_count": null,
            "_view_module": "@jupyter-widgets/base",
            "_view_module_version": "1.2.0",
            "_view_name": "LayoutView",
            "align_content": null,
            "align_items": null,
            "align_self": null,
            "border": null,
            "bottom": null,
            "display": null,
            "flex": null,
            "flex_flow": null,
            "grid_area": null,
            "grid_auto_columns": null,
            "grid_auto_flow": null,
            "grid_auto_rows": null,
            "grid_column": null,
            "grid_gap": null,
            "grid_row": null,
            "grid_template_areas": null,
            "grid_template_columns": null,
            "grid_template_rows": null,
            "height": null,
            "justify_content": null,
            "justify_items": null,
            "left": null,
            "margin": null,
            "max_height": null,
            "max_width": null,
            "min_height": null,
            "min_width": null,
            "object_fit": null,
            "object_position": null,
            "order": null,
            "overflow": null,
            "overflow_x": null,
            "overflow_y": null,
            "padding": null,
            "right": null,
            "top": null,
            "visibility": null,
            "width": "20px"
          }
        },
        "6c804afda7cf4f309ed2c57c42c2a464": {
          "model_module": "@jupyter-widgets/controls",
          "model_name": "ProgressStyleModel",
          "model_module_version": "1.5.0",
          "state": {
            "_model_module": "@jupyter-widgets/controls",
            "_model_module_version": "1.5.0",
            "_model_name": "ProgressStyleModel",
            "_view_count": null,
            "_view_module": "@jupyter-widgets/base",
            "_view_module_version": "1.2.0",
            "_view_name": "StyleView",
            "bar_color": null,
            "description_width": ""
          }
        },
        "09e9f8d447f4451a977424edc7576ad1": {
          "model_module": "@jupyter-widgets/base",
          "model_name": "LayoutModel",
          "model_module_version": "1.2.0",
          "state": {
            "_model_module": "@jupyter-widgets/base",
            "_model_module_version": "1.2.0",
            "_model_name": "LayoutModel",
            "_view_count": null,
            "_view_module": "@jupyter-widgets/base",
            "_view_module_version": "1.2.0",
            "_view_name": "LayoutView",
            "align_content": null,
            "align_items": null,
            "align_self": null,
            "border": null,
            "bottom": null,
            "display": null,
            "flex": null,
            "flex_flow": null,
            "grid_area": null,
            "grid_auto_columns": null,
            "grid_auto_flow": null,
            "grid_auto_rows": null,
            "grid_column": null,
            "grid_gap": null,
            "grid_row": null,
            "grid_template_areas": null,
            "grid_template_columns": null,
            "grid_template_rows": null,
            "height": null,
            "justify_content": null,
            "justify_items": null,
            "left": null,
            "margin": null,
            "max_height": null,
            "max_width": null,
            "min_height": null,
            "min_width": null,
            "object_fit": null,
            "object_position": null,
            "order": null,
            "overflow": null,
            "overflow_x": null,
            "overflow_y": null,
            "padding": null,
            "right": null,
            "top": null,
            "visibility": null,
            "width": null
          }
        },
        "4154f128558a453d8151cb0fab48f3d6": {
          "model_module": "@jupyter-widgets/controls",
          "model_name": "DescriptionStyleModel",
          "model_module_version": "1.5.0",
          "state": {
            "_model_module": "@jupyter-widgets/controls",
            "_model_module_version": "1.5.0",
            "_model_name": "DescriptionStyleModel",
            "_view_count": null,
            "_view_module": "@jupyter-widgets/base",
            "_view_module_version": "1.2.0",
            "_view_name": "StyleView",
            "description_width": ""
          }
        },
        "80a6dc3f83d0480cb5ee9fd1be5f2239": {
          "model_module": "@jupyter-widgets/controls",
          "model_name": "HBoxModel",
          "model_module_version": "1.5.0",
          "state": {
            "_dom_classes": [],
            "_model_module": "@jupyter-widgets/controls",
            "_model_module_version": "1.5.0",
            "_model_name": "HBoxModel",
            "_view_count": null,
            "_view_module": "@jupyter-widgets/controls",
            "_view_module_version": "1.5.0",
            "_view_name": "HBoxView",
            "box_style": "",
            "children": [
              "IPY_MODEL_8533ce82c933432cb0fa47271ec327d4",
              "IPY_MODEL_2f8701295c754aaa8534c1c45396ae32",
              "IPY_MODEL_d0f111c56c5a4d59811bfd0770c8b336"
            ],
            "layout": "IPY_MODEL_ee8a19243db64ec2958da66da1504b01"
          }
        },
        "8533ce82c933432cb0fa47271ec327d4": {
          "model_module": "@jupyter-widgets/controls",
          "model_name": "HTMLModel",
          "model_module_version": "1.5.0",
          "state": {
            "_dom_classes": [],
            "_model_module": "@jupyter-widgets/controls",
            "_model_module_version": "1.5.0",
            "_model_name": "HTMLModel",
            "_view_count": null,
            "_view_module": "@jupyter-widgets/controls",
            "_view_module_version": "1.5.0",
            "_view_name": "HTMLView",
            "description": "",
            "description_tooltip": null,
            "layout": "IPY_MODEL_c06d7beda80844148df620a79cb88abd",
            "placeholder": "​",
            "style": "IPY_MODEL_212f976df5494bdc8bbad072c6ac66c3",
            "value": "tabpfn-v2-classifier-finetuned-zk73skhh.(…): 100%"
          }
        },
        "2f8701295c754aaa8534c1c45396ae32": {
          "model_module": "@jupyter-widgets/controls",
          "model_name": "FloatProgressModel",
          "model_module_version": "1.5.0",
          "state": {
            "_dom_classes": [],
            "_model_module": "@jupyter-widgets/controls",
            "_model_module_version": "1.5.0",
            "_model_name": "FloatProgressModel",
            "_view_count": null,
            "_view_module": "@jupyter-widgets/controls",
            "_view_module_version": "1.5.0",
            "_view_name": "ProgressView",
            "bar_style": "success",
            "description": "",
            "description_tooltip": null,
            "layout": "IPY_MODEL_2730046173744cd38e04dac5781638d2",
            "max": 29009539,
            "min": 0,
            "orientation": "horizontal",
            "style": "IPY_MODEL_dd61df40e7d44310a0655d4a6e4a30b2",
            "value": 29009539
          }
        },
        "d0f111c56c5a4d59811bfd0770c8b336": {
          "model_module": "@jupyter-widgets/controls",
          "model_name": "HTMLModel",
          "model_module_version": "1.5.0",
          "state": {
            "_dom_classes": [],
            "_model_module": "@jupyter-widgets/controls",
            "_model_module_version": "1.5.0",
            "_model_name": "HTMLModel",
            "_view_count": null,
            "_view_module": "@jupyter-widgets/controls",
            "_view_module_version": "1.5.0",
            "_view_name": "HTMLView",
            "description": "",
            "description_tooltip": null,
            "layout": "IPY_MODEL_2a3a0a4793a44d5ca101421bc26eb4b9",
            "placeholder": "​",
            "style": "IPY_MODEL_80799523973c4f7e89f9cd64de02ddc0",
            "value": " 29.0M/29.0M [00:01&lt;00:00, 21.5MB/s]"
          }
        },
        "ee8a19243db64ec2958da66da1504b01": {
          "model_module": "@jupyter-widgets/base",
          "model_name": "LayoutModel",
          "model_module_version": "1.2.0",
          "state": {
            "_model_module": "@jupyter-widgets/base",
            "_model_module_version": "1.2.0",
            "_model_name": "LayoutModel",
            "_view_count": null,
            "_view_module": "@jupyter-widgets/base",
            "_view_module_version": "1.2.0",
            "_view_name": "LayoutView",
            "align_content": null,
            "align_items": null,
            "align_self": null,
            "border": null,
            "bottom": null,
            "display": null,
            "flex": null,
            "flex_flow": null,
            "grid_area": null,
            "grid_auto_columns": null,
            "grid_auto_flow": null,
            "grid_auto_rows": null,
            "grid_column": null,
            "grid_gap": null,
            "grid_row": null,
            "grid_template_areas": null,
            "grid_template_columns": null,
            "grid_template_rows": null,
            "height": null,
            "justify_content": null,
            "justify_items": null,
            "left": null,
            "margin": null,
            "max_height": null,
            "max_width": null,
            "min_height": null,
            "min_width": null,
            "object_fit": null,
            "object_position": null,
            "order": null,
            "overflow": null,
            "overflow_x": null,
            "overflow_y": null,
            "padding": null,
            "right": null,
            "top": null,
            "visibility": null,
            "width": null
          }
        },
        "c06d7beda80844148df620a79cb88abd": {
          "model_module": "@jupyter-widgets/base",
          "model_name": "LayoutModel",
          "model_module_version": "1.2.0",
          "state": {
            "_model_module": "@jupyter-widgets/base",
            "_model_module_version": "1.2.0",
            "_model_name": "LayoutModel",
            "_view_count": null,
            "_view_module": "@jupyter-widgets/base",
            "_view_module_version": "1.2.0",
            "_view_name": "LayoutView",
            "align_content": null,
            "align_items": null,
            "align_self": null,
            "border": null,
            "bottom": null,
            "display": null,
            "flex": null,
            "flex_flow": null,
            "grid_area": null,
            "grid_auto_columns": null,
            "grid_auto_flow": null,
            "grid_auto_rows": null,
            "grid_column": null,
            "grid_gap": null,
            "grid_row": null,
            "grid_template_areas": null,
            "grid_template_columns": null,
            "grid_template_rows": null,
            "height": null,
            "justify_content": null,
            "justify_items": null,
            "left": null,
            "margin": null,
            "max_height": null,
            "max_width": null,
            "min_height": null,
            "min_width": null,
            "object_fit": null,
            "object_position": null,
            "order": null,
            "overflow": null,
            "overflow_x": null,
            "overflow_y": null,
            "padding": null,
            "right": null,
            "top": null,
            "visibility": null,
            "width": null
          }
        },
        "212f976df5494bdc8bbad072c6ac66c3": {
          "model_module": "@jupyter-widgets/controls",
          "model_name": "DescriptionStyleModel",
          "model_module_version": "1.5.0",
          "state": {
            "_model_module": "@jupyter-widgets/controls",
            "_model_module_version": "1.5.0",
            "_model_name": "DescriptionStyleModel",
            "_view_count": null,
            "_view_module": "@jupyter-widgets/base",
            "_view_module_version": "1.2.0",
            "_view_name": "StyleView",
            "description_width": ""
          }
        },
        "2730046173744cd38e04dac5781638d2": {
          "model_module": "@jupyter-widgets/base",
          "model_name": "LayoutModel",
          "model_module_version": "1.2.0",
          "state": {
            "_model_module": "@jupyter-widgets/base",
            "_model_module_version": "1.2.0",
            "_model_name": "LayoutModel",
            "_view_count": null,
            "_view_module": "@jupyter-widgets/base",
            "_view_module_version": "1.2.0",
            "_view_name": "LayoutView",
            "align_content": null,
            "align_items": null,
            "align_self": null,
            "border": null,
            "bottom": null,
            "display": null,
            "flex": null,
            "flex_flow": null,
            "grid_area": null,
            "grid_auto_columns": null,
            "grid_auto_flow": null,
            "grid_auto_rows": null,
            "grid_column": null,
            "grid_gap": null,
            "grid_row": null,
            "grid_template_areas": null,
            "grid_template_columns": null,
            "grid_template_rows": null,
            "height": null,
            "justify_content": null,
            "justify_items": null,
            "left": null,
            "margin": null,
            "max_height": null,
            "max_width": null,
            "min_height": null,
            "min_width": null,
            "object_fit": null,
            "object_position": null,
            "order": null,
            "overflow": null,
            "overflow_x": null,
            "overflow_y": null,
            "padding": null,
            "right": null,
            "top": null,
            "visibility": null,
            "width": null
          }
        },
        "dd61df40e7d44310a0655d4a6e4a30b2": {
          "model_module": "@jupyter-widgets/controls",
          "model_name": "ProgressStyleModel",
          "model_module_version": "1.5.0",
          "state": {
            "_model_module": "@jupyter-widgets/controls",
            "_model_module_version": "1.5.0",
            "_model_name": "ProgressStyleModel",
            "_view_count": null,
            "_view_module": "@jupyter-widgets/base",
            "_view_module_version": "1.2.0",
            "_view_name": "StyleView",
            "bar_color": null,
            "description_width": ""
          }
        },
        "2a3a0a4793a44d5ca101421bc26eb4b9": {
          "model_module": "@jupyter-widgets/base",
          "model_name": "LayoutModel",
          "model_module_version": "1.2.0",
          "state": {
            "_model_module": "@jupyter-widgets/base",
            "_model_module_version": "1.2.0",
            "_model_name": "LayoutModel",
            "_view_count": null,
            "_view_module": "@jupyter-widgets/base",
            "_view_module_version": "1.2.0",
            "_view_name": "LayoutView",
            "align_content": null,
            "align_items": null,
            "align_self": null,
            "border": null,
            "bottom": null,
            "display": null,
            "flex": null,
            "flex_flow": null,
            "grid_area": null,
            "grid_auto_columns": null,
            "grid_auto_flow": null,
            "grid_auto_rows": null,
            "grid_column": null,
            "grid_gap": null,
            "grid_row": null,
            "grid_template_areas": null,
            "grid_template_columns": null,
            "grid_template_rows": null,
            "height": null,
            "justify_content": null,
            "justify_items": null,
            "left": null,
            "margin": null,
            "max_height": null,
            "max_width": null,
            "min_height": null,
            "min_width": null,
            "object_fit": null,
            "object_position": null,
            "order": null,
            "overflow": null,
            "overflow_x": null,
            "overflow_y": null,
            "padding": null,
            "right": null,
            "top": null,
            "visibility": null,
            "width": null
          }
        },
        "80799523973c4f7e89f9cd64de02ddc0": {
          "model_module": "@jupyter-widgets/controls",
          "model_name": "DescriptionStyleModel",
          "model_module_version": "1.5.0",
          "state": {
            "_model_module": "@jupyter-widgets/controls",
            "_model_module_version": "1.5.0",
            "_model_name": "DescriptionStyleModel",
            "_view_count": null,
            "_view_module": "@jupyter-widgets/base",
            "_view_module_version": "1.2.0",
            "_view_name": "StyleView",
            "description_width": ""
          }
        },
        "7dafaa93e32f484d93e4f6fec3a4a128": {
          "model_module": "@jupyter-widgets/controls",
          "model_name": "HBoxModel",
          "model_module_version": "1.5.0",
          "state": {
            "_dom_classes": [],
            "_model_module": "@jupyter-widgets/controls",
            "_model_module_version": "1.5.0",
            "_model_name": "HBoxModel",
            "_view_count": null,
            "_view_module": "@jupyter-widgets/controls",
            "_view_module_version": "1.5.0",
            "_view_name": "HBoxView",
            "box_style": "",
            "children": [
              "IPY_MODEL_6696ff1f89184e5d9c8a7b6cff8a4cbf",
              "IPY_MODEL_72f54125ca7840b6896991868329eed0",
              "IPY_MODEL_7ed6185663094876927b5f290ac75b66"
            ],
            "layout": "IPY_MODEL_f1a7072e726f4343945e8b9915e5d5d0"
          }
        },
        "6696ff1f89184e5d9c8a7b6cff8a4cbf": {
          "model_module": "@jupyter-widgets/controls",
          "model_name": "HTMLModel",
          "model_module_version": "1.5.0",
          "state": {
            "_dom_classes": [],
            "_model_module": "@jupyter-widgets/controls",
            "_model_module_version": "1.5.0",
            "_model_name": "HTMLModel",
            "_view_count": null,
            "_view_module": "@jupyter-widgets/controls",
            "_view_module_version": "1.5.0",
            "_view_name": "HTMLView",
            "description": "",
            "description_tooltip": null,
            "layout": "IPY_MODEL_462fc7f8db024e0bb5956ec25286d6a0",
            "placeholder": "​",
            "style": "IPY_MODEL_09a6999a9412442cadac88d7a48c8f58",
            "value": "config.json: 100%"
          }
        },
        "72f54125ca7840b6896991868329eed0": {
          "model_module": "@jupyter-widgets/controls",
          "model_name": "FloatProgressModel",
          "model_module_version": "1.5.0",
          "state": {
            "_dom_classes": [],
            "_model_module": "@jupyter-widgets/controls",
            "_model_module_version": "1.5.0",
            "_model_name": "FloatProgressModel",
            "_view_count": null,
            "_view_module": "@jupyter-widgets/controls",
            "_view_module_version": "1.5.0",
            "_view_name": "ProgressView",
            "bar_style": "success",
            "description": "",
            "description_tooltip": null,
            "layout": "IPY_MODEL_cbb08e28d9fc42e1b95085aa28f5bb60",
            "max": 37,
            "min": 0,
            "orientation": "horizontal",
            "style": "IPY_MODEL_ba7bd13c917e441197af4b26ecf57017",
            "value": 37
          }
        },
        "7ed6185663094876927b5f290ac75b66": {
          "model_module": "@jupyter-widgets/controls",
          "model_name": "HTMLModel",
          "model_module_version": "1.5.0",
          "state": {
            "_dom_classes": [],
            "_model_module": "@jupyter-widgets/controls",
            "_model_module_version": "1.5.0",
            "_model_name": "HTMLModel",
            "_view_count": null,
            "_view_module": "@jupyter-widgets/controls",
            "_view_module_version": "1.5.0",
            "_view_name": "HTMLView",
            "description": "",
            "description_tooltip": null,
            "layout": "IPY_MODEL_27b87b6f82d841bbb35002e42a660d45",
            "placeholder": "​",
            "style": "IPY_MODEL_e8262e29d8964886a555eb8dd4930789",
            "value": " 37.0/37.0 [00:00&lt;00:00, 4.68kB/s]"
          }
        },
        "f1a7072e726f4343945e8b9915e5d5d0": {
          "model_module": "@jupyter-widgets/base",
          "model_name": "LayoutModel",
          "model_module_version": "1.2.0",
          "state": {
            "_model_module": "@jupyter-widgets/base",
            "_model_module_version": "1.2.0",
            "_model_name": "LayoutModel",
            "_view_count": null,
            "_view_module": "@jupyter-widgets/base",
            "_view_module_version": "1.2.0",
            "_view_name": "LayoutView",
            "align_content": null,
            "align_items": null,
            "align_self": null,
            "border": null,
            "bottom": null,
            "display": null,
            "flex": null,
            "flex_flow": null,
            "grid_area": null,
            "grid_auto_columns": null,
            "grid_auto_flow": null,
            "grid_auto_rows": null,
            "grid_column": null,
            "grid_gap": null,
            "grid_row": null,
            "grid_template_areas": null,
            "grid_template_columns": null,
            "grid_template_rows": null,
            "height": null,
            "justify_content": null,
            "justify_items": null,
            "left": null,
            "margin": null,
            "max_height": null,
            "max_width": null,
            "min_height": null,
            "min_width": null,
            "object_fit": null,
            "object_position": null,
            "order": null,
            "overflow": null,
            "overflow_x": null,
            "overflow_y": null,
            "padding": null,
            "right": null,
            "top": null,
            "visibility": null,
            "width": null
          }
        },
        "462fc7f8db024e0bb5956ec25286d6a0": {
          "model_module": "@jupyter-widgets/base",
          "model_name": "LayoutModel",
          "model_module_version": "1.2.0",
          "state": {
            "_model_module": "@jupyter-widgets/base",
            "_model_module_version": "1.2.0",
            "_model_name": "LayoutModel",
            "_view_count": null,
            "_view_module": "@jupyter-widgets/base",
            "_view_module_version": "1.2.0",
            "_view_name": "LayoutView",
            "align_content": null,
            "align_items": null,
            "align_self": null,
            "border": null,
            "bottom": null,
            "display": null,
            "flex": null,
            "flex_flow": null,
            "grid_area": null,
            "grid_auto_columns": null,
            "grid_auto_flow": null,
            "grid_auto_rows": null,
            "grid_column": null,
            "grid_gap": null,
            "grid_row": null,
            "grid_template_areas": null,
            "grid_template_columns": null,
            "grid_template_rows": null,
            "height": null,
            "justify_content": null,
            "justify_items": null,
            "left": null,
            "margin": null,
            "max_height": null,
            "max_width": null,
            "min_height": null,
            "min_width": null,
            "object_fit": null,
            "object_position": null,
            "order": null,
            "overflow": null,
            "overflow_x": null,
            "overflow_y": null,
            "padding": null,
            "right": null,
            "top": null,
            "visibility": null,
            "width": null
          }
        },
        "09a6999a9412442cadac88d7a48c8f58": {
          "model_module": "@jupyter-widgets/controls",
          "model_name": "DescriptionStyleModel",
          "model_module_version": "1.5.0",
          "state": {
            "_model_module": "@jupyter-widgets/controls",
            "_model_module_version": "1.5.0",
            "_model_name": "DescriptionStyleModel",
            "_view_count": null,
            "_view_module": "@jupyter-widgets/base",
            "_view_module_version": "1.2.0",
            "_view_name": "StyleView",
            "description_width": ""
          }
        },
        "cbb08e28d9fc42e1b95085aa28f5bb60": {
          "model_module": "@jupyter-widgets/base",
          "model_name": "LayoutModel",
          "model_module_version": "1.2.0",
          "state": {
            "_model_module": "@jupyter-widgets/base",
            "_model_module_version": "1.2.0",
            "_model_name": "LayoutModel",
            "_view_count": null,
            "_view_module": "@jupyter-widgets/base",
            "_view_module_version": "1.2.0",
            "_view_name": "LayoutView",
            "align_content": null,
            "align_items": null,
            "align_self": null,
            "border": null,
            "bottom": null,
            "display": null,
            "flex": null,
            "flex_flow": null,
            "grid_area": null,
            "grid_auto_columns": null,
            "grid_auto_flow": null,
            "grid_auto_rows": null,
            "grid_column": null,
            "grid_gap": null,
            "grid_row": null,
            "grid_template_areas": null,
            "grid_template_columns": null,
            "grid_template_rows": null,
            "height": null,
            "justify_content": null,
            "justify_items": null,
            "left": null,
            "margin": null,
            "max_height": null,
            "max_width": null,
            "min_height": null,
            "min_width": null,
            "object_fit": null,
            "object_position": null,
            "order": null,
            "overflow": null,
            "overflow_x": null,
            "overflow_y": null,
            "padding": null,
            "right": null,
            "top": null,
            "visibility": null,
            "width": null
          }
        },
        "ba7bd13c917e441197af4b26ecf57017": {
          "model_module": "@jupyter-widgets/controls",
          "model_name": "ProgressStyleModel",
          "model_module_version": "1.5.0",
          "state": {
            "_model_module": "@jupyter-widgets/controls",
            "_model_module_version": "1.5.0",
            "_model_name": "ProgressStyleModel",
            "_view_count": null,
            "_view_module": "@jupyter-widgets/base",
            "_view_module_version": "1.2.0",
            "_view_name": "StyleView",
            "bar_color": null,
            "description_width": ""
          }
        },
        "27b87b6f82d841bbb35002e42a660d45": {
          "model_module": "@jupyter-widgets/base",
          "model_name": "LayoutModel",
          "model_module_version": "1.2.0",
          "state": {
            "_model_module": "@jupyter-widgets/base",
            "_model_module_version": "1.2.0",
            "_model_name": "LayoutModel",
            "_view_count": null,
            "_view_module": "@jupyter-widgets/base",
            "_view_module_version": "1.2.0",
            "_view_name": "LayoutView",
            "align_content": null,
            "align_items": null,
            "align_self": null,
            "border": null,
            "bottom": null,
            "display": null,
            "flex": null,
            "flex_flow": null,
            "grid_area": null,
            "grid_auto_columns": null,
            "grid_auto_flow": null,
            "grid_auto_rows": null,
            "grid_column": null,
            "grid_gap": null,
            "grid_row": null,
            "grid_template_areas": null,
            "grid_template_columns": null,
            "grid_template_rows": null,
            "height": null,
            "justify_content": null,
            "justify_items": null,
            "left": null,
            "margin": null,
            "max_height": null,
            "max_width": null,
            "min_height": null,
            "min_width": null,
            "object_fit": null,
            "object_position": null,
            "order": null,
            "overflow": null,
            "overflow_x": null,
            "overflow_y": null,
            "padding": null,
            "right": null,
            "top": null,
            "visibility": null,
            "width": null
          }
        },
        "e8262e29d8964886a555eb8dd4930789": {
          "model_module": "@jupyter-widgets/controls",
          "model_name": "DescriptionStyleModel",
          "model_module_version": "1.5.0",
          "state": {
            "_model_module": "@jupyter-widgets/controls",
            "_model_module_version": "1.5.0",
            "_model_name": "DescriptionStyleModel",
            "_view_count": null,
            "_view_module": "@jupyter-widgets/base",
            "_view_module_version": "1.2.0",
            "_view_name": "StyleView",
            "description_width": ""
          }
        }
      }
    }
  },
  "cells": [
    {
      "cell_type": "markdown",
      "metadata": {
        "id": "view-in-github",
        "colab_type": "text"
      },
      "source": [
        "<a href=\"https://colab.research.google.com/github/yuvalira/Adversarial-Attacks-Article/blob/main/models/TabPFN.ipynb\" target=\"_parent\"><img src=\"https://colab.research.google.com/assets/colab-badge.svg\" alt=\"Open In Colab\"/></a>"
      ]
    },
    {
      "cell_type": "markdown",
      "source": [
        "# **Foundation Model — TabPFN**\n",
        "TabPFN is a pretrained transformer for tabular data that approximates Bayesian inference in one forward pass.\n",
        "We’ll use the local Python package `tabpfn` and its scikit-learn-style `TabPFNClassifier`.\n",
        "\n",
        "References:\n",
        "- PyPI: `tabpfn`\n",
        "- GitHub: PriorLabs/TabPFN\n",
        "- Tutorial: PriorLabs (AutoTabPFNClassifier, ensembles)"
      ],
      "metadata": {
        "id": "sE43WjkVT-Ce"
      }
    },
    {
      "cell_type": "markdown",
      "source": [
        "## Install & imports"
      ],
      "metadata": {
        "id": "_-OG37B3UJny"
      }
    },
    {
      "cell_type": "code",
      "execution_count": 1,
      "metadata": {
        "id": "bW0M9UmxT3Ud",
        "colab": {
          "base_uri": "https://localhost:8080/"
        },
        "outputId": "93542392-d768-4229-e3d8-cbe0212b99ab"
      },
      "outputs": [
        {
          "output_type": "stream",
          "name": "stdout",
          "text": [
            "\u001b[?25l   \u001b[90m━━━━━━━━━━━━━━━━━━━━━━━━━━━━━━━━━━━━━━━━\u001b[0m \u001b[32m0.0/160.8 kB\u001b[0m \u001b[31m?\u001b[0m eta \u001b[36m-:--:--\u001b[0m\r\u001b[2K   \u001b[90m━━━━━━━━━━━━━━━━━━━━━━━━━━━━━━━━━━━━━━━━\u001b[0m \u001b[32m160.8/160.8 kB\u001b[0m \u001b[31m13.8 MB/s\u001b[0m eta \u001b[36m0:00:00\u001b[0m\n",
            "\u001b[?25h"
          ]
        }
      ],
      "source": [
        "!pip -q install -U tabpfn scikit-learn huggingface_hub\n",
        "\n",
        "import os, re, time\n",
        "import numpy as np, pandas as pd, matplotlib.pyplot as plt\n",
        "from huggingface_hub import hf_hub_download\n",
        "from sklearn.preprocessing import OrdinalEncoder\n",
        "from sklearn.impute import SimpleImputer\n",
        "from sklearn.pipeline import Pipeline\n",
        "from sklearn.compose import ColumnTransformer\n",
        "from sklearn.metrics import (accuracy_score, precision_score, recall_score, f1_score,\n",
        "                             roc_auc_score, roc_curve, classification_report, confusion_matrix)\n",
        "\n",
        "\n",
        "# TabPFN (local sklearn-like API)\n",
        "from tabpfn import TabPFNClassifier\n",
        "# If you later want ensembling: from tabpfn_extensions.post_hoc_ensembles.sklearn_interface import AutoTabPFNClassifier"
      ]
    },
    {
      "cell_type": "markdown",
      "source": [
        "## Load splits from HF"
      ],
      "metadata": {
        "id": "c75ElbzpUPdX"
      }
    },
    {
      "cell_type": "code",
      "source": [
        "repo_id, repo_type = \"yuvalira/adult_income_balanced\", \"dataset\"  # TODO\n",
        "def read_csv(repo_id, filename, repo_type=\"dataset\"):\n",
        "    p = hf_hub_download(repo_id=repo_id, filename=filename, repo_type=repo_type, token=False)\n",
        "    return pd.read_csv(p)\n",
        "\n",
        "train_data = read_csv(repo_id, \"train.csv\", repo_type)\n",
        "val_data   = read_csv(repo_id, \"val.csv\",   repo_type)\n",
        "print(\"Train:\", train_data.shape, \"| Val:\", val_data.shape)"
      ],
      "metadata": {
        "colab": {
          "base_uri": "https://localhost:8080/",
          "height": 98,
          "referenced_widgets": [
            "69cbe3bd41434bb9b78f995cc5310c50",
            "2895a0b5c224481087ace071eaf7ac83",
            "501a9a31d6ee4a919b8a21aa6abb5faa",
            "a586cff8b1be46568da3f1b10341c197",
            "ed55a4a8a05c436bab0e5e70f965eb4b",
            "fbc07543c30a4820a54987558c37f285",
            "6150a628a5854fa781f40d10472c5771",
            "8180f53b321248d09ef6ff6a901dd44c",
            "6a45c780369247c5891fb21310046390",
            "794cbad3a8e046b0acb84f018f9b0ab8",
            "3dc5e5fe28454b09bb7dc2695ae02175",
            "d0486fa1c37b4418b84cb717b6d41b3a",
            "e89cea96d35e4dc9b4cb6ca3fb7b9b82",
            "21a655bef4e84236a04e9966854a63b3",
            "c79a67d3b0904a6c827373c1f03b6d8e",
            "5c4a0cf471c94b2b912ebc6ad53f952c",
            "3b6e557b34444dda936bb0f8d41c968c",
            "2205d5efdd1e4996b3ac9ed083f41472",
            "592e9f4941234006a5525975122d2dfc",
            "6c804afda7cf4f309ed2c57c42c2a464",
            "09e9f8d447f4451a977424edc7576ad1",
            "4154f128558a453d8151cb0fab48f3d6"
          ]
        },
        "id": "uGfffN6_UNiU",
        "outputId": "afb58119-6231-4cc6-d339-9ee7599fb284"
      },
      "execution_count": 2,
      "outputs": [
        {
          "output_type": "display_data",
          "data": {
            "text/plain": [
              "train.csv: 0.00B [00:00, ?B/s]"
            ],
            "application/vnd.jupyter.widget-view+json": {
              "version_major": 2,
              "version_minor": 0,
              "model_id": "69cbe3bd41434bb9b78f995cc5310c50"
            }
          },
          "metadata": {}
        },
        {
          "output_type": "display_data",
          "data": {
            "text/plain": [
              "val.csv: 0.00B [00:00, ?B/s]"
            ],
            "application/vnd.jupyter.widget-view+json": {
              "version_major": 2,
              "version_minor": 0,
              "model_id": "d0486fa1c37b4418b84cb717b6d41b3a"
            }
          },
          "metadata": {}
        },
        {
          "output_type": "stream",
          "name": "stdout",
          "text": [
            "Train: (11687, 14) | Val: (2337, 14)\n"
          ]
        }
      ]
    },
    {
      "cell_type": "markdown",
      "source": [
        "## Columns & config"
      ],
      "metadata": {
        "id": "UT3znxMGUXxp"
      }
    },
    {
      "cell_type": "code",
      "source": [
        "auto_num = train_data.select_dtypes(include=['int16','int32','int64','float16','float32','float64']).columns.tolist()\n",
        "auto_cat = train_data.select_dtypes(include=['object','category','bool']).columns.tolist()\n",
        "\n",
        "TARGET_COLUMN_NAME   = \"income\"               # TODO\n",
        "TARGET_LABELS        = [\"<=50K\", \">50K\"]      # TODO\n",
        "SAMPLE_WEIGHT_COLUMN = None\n",
        "\n",
        "NUMERIC_FEATURE_NAMES     = [c for c in auto_num if c != TARGET_COLUMN_NAME]\n",
        "CATEGORICAL_FEATURE_NAMES = [c for c in auto_cat if c != TARGET_COLUMN_NAME]\n",
        "\n",
        "label2id = {lbl:i for i,lbl in enumerate(TARGET_LABELS)}\n",
        "id2label = {i:lbl for lbl,i in label2id.items()}"
      ],
      "metadata": {
        "id": "uEQEuZPxUWCx"
      },
      "execution_count": 3,
      "outputs": []
    },
    {
      "cell_type": "markdown",
      "source": [
        "## Prepare data (map target, encode missing/categorical)"
      ],
      "metadata": {
        "id": "HUCV0u2lUgDH"
      }
    },
    {
      "cell_type": "code",
      "source": [
        "def prepare_map_target(df):\n",
        "    df = df.copy()\n",
        "    df[TARGET_COLUMN_NAME] = df[TARGET_COLUMN_NAME].map(label2id)\n",
        "    if df[TARGET_COLUMN_NAME].isna().any():\n",
        "        raise ValueError(\"Unmapped targets—check TARGET_LABELS.\")\n",
        "    # Cast cats to str so encoder sees all categories\n",
        "    for c in CATEGORICAL_FEATURE_NAMES:\n",
        "        if c in df.columns: df[c] = df[c].astype(str)\n",
        "    return df\n",
        "\n",
        "train_data = prepare_map_target(train_data)\n",
        "val_data   = prepare_map_target(val_data)\n",
        "n_classes  = train_data[TARGET_COLUMN_NAME].nunique()\n",
        "avg_mode   = None if n_classes==2 else \"macro\"\n",
        "\n",
        "# TabPFN expects numeric features; we’ll impute numerics and ordinal-encode categoricals (no target leakage).\n",
        "numeric = Pipeline([(\"imputer\", SimpleImputer(strategy=\"median\"))])\n",
        "categorical = Pipeline([\n",
        "    (\"imputer\", SimpleImputer(strategy=\"most_frequent\")),\n",
        "    (\"enc\", OrdinalEncoder(handle_unknown=\"use_encoded_value\", unknown_value=-1))\n",
        "])\n",
        "pre = ColumnTransformer([\n",
        "    (\"num\", numeric, NUMERIC_FEATURE_NAMES),\n",
        "    (\"cat\", categorical, CATEGORICAL_FEATURE_NAMES),\n",
        "])\n",
        "\n",
        "Xtr_raw = train_data.drop(columns=[TARGET_COLUMN_NAME])\n",
        "ytr     = train_data[TARGET_COLUMN_NAME].values\n",
        "Xva_raw = val_data.drop(columns=[TARGET_COLUMN_NAME])\n",
        "yva     = val_data[TARGET_COLUMN_NAME].values\n",
        "\n",
        "Xtr = pre.fit_transform(Xtr_raw)   # fit on train\n",
        "Xva = pre.transform(Xva_raw)       # transform val"
      ],
      "metadata": {
        "id": "sR84yGn6UeML"
      },
      "execution_count": 4,
      "outputs": []
    },
    {
      "cell_type": "markdown",
      "source": [
        "## Define & Train TabPFN"
      ],
      "metadata": {
        "id": "Kt9IcIzHUnRx"
      }
    },
    {
      "cell_type": "code",
      "source": [
        "from sklearn.model_selection import StratifiedShuffleSplit\n",
        "from tabpfn import TabPFNClassifier\n",
        "clf_tabpfn = TabPFNClassifier(device=\"cuda\")\n",
        "\n",
        "MAX_N = 10_000\n",
        "if len(ytr) > MAX_N:\n",
        "    sss = StratifiedShuffleSplit(n_splits=1, train_size=MAX_N, random_state=42)\n",
        "    idx_sub, _ = next(sss.split(Xtr, ytr))\n",
        "    Xtr_sub = Xtr[idx_sub]\n",
        "    ytr_sub = ytr[idx_sub]\n",
        "    if SAMPLE_WEIGHT_COLUMN:\n",
        "        sw_tr_sub = train_data.iloc[idx_sub][SAMPLE_WEIGHT_COLUMN].values\n",
        "    else:\n",
        "        sw_tr_sub = None\n",
        "else:\n",
        "    Xtr_sub, ytr_sub, sw_tr_sub = Xtr, ytr, None\n",
        "\n",
        "t0 = time.time()\n",
        "fit_kwargs = {}\n",
        "if sw_tr_sub is not None:\n",
        "    fit_kwargs[\"sample_weight\"] = sw_tr_sub\n",
        "clf_tabpfn.fit(Xtr_sub, ytr_sub, **fit_kwargs)\n",
        "print(f\"Training (inference) time: {time.time()-t0:.2f}s\")"
      ],
      "metadata": {
        "colab": {
          "base_uri": "https://localhost:8080/",
          "height": 98,
          "referenced_widgets": [
            "80a6dc3f83d0480cb5ee9fd1be5f2239",
            "8533ce82c933432cb0fa47271ec327d4",
            "2f8701295c754aaa8534c1c45396ae32",
            "d0f111c56c5a4d59811bfd0770c8b336",
            "ee8a19243db64ec2958da66da1504b01",
            "c06d7beda80844148df620a79cb88abd",
            "212f976df5494bdc8bbad072c6ac66c3",
            "2730046173744cd38e04dac5781638d2",
            "dd61df40e7d44310a0655d4a6e4a30b2",
            "2a3a0a4793a44d5ca101421bc26eb4b9",
            "80799523973c4f7e89f9cd64de02ddc0",
            "7dafaa93e32f484d93e4f6fec3a4a128",
            "6696ff1f89184e5d9c8a7b6cff8a4cbf",
            "72f54125ca7840b6896991868329eed0",
            "7ed6185663094876927b5f290ac75b66",
            "f1a7072e726f4343945e8b9915e5d5d0",
            "462fc7f8db024e0bb5956ec25286d6a0",
            "09a6999a9412442cadac88d7a48c8f58",
            "cbb08e28d9fc42e1b95085aa28f5bb60",
            "ba7bd13c917e441197af4b26ecf57017",
            "27b87b6f82d841bbb35002e42a660d45",
            "e8262e29d8964886a555eb8dd4930789"
          ]
        },
        "id": "eY4gk8lFUlY9",
        "outputId": "16e07474-f281-492a-81ce-48110e37f96e"
      },
      "execution_count": 6,
      "outputs": [
        {
          "output_type": "display_data",
          "data": {
            "text/plain": [
              "tabpfn-v2-classifier-finetuned-zk73skhh.(…):   0%|          | 0.00/29.0M [00:00<?, ?B/s]"
            ],
            "application/vnd.jupyter.widget-view+json": {
              "version_major": 2,
              "version_minor": 0,
              "model_id": "80a6dc3f83d0480cb5ee9fd1be5f2239"
            }
          },
          "metadata": {}
        },
        {
          "output_type": "display_data",
          "data": {
            "text/plain": [
              "config.json:   0%|          | 0.00/37.0 [00:00<?, ?B/s]"
            ],
            "application/vnd.jupyter.widget-view+json": {
              "version_major": 2,
              "version_minor": 0,
              "model_id": "7dafaa93e32f484d93e4f6fec3a4a128"
            }
          },
          "metadata": {}
        },
        {
          "output_type": "stream",
          "name": "stdout",
          "text": [
            "Training (inference) time: 4.04s\n"
          ]
        }
      ]
    },
    {
      "cell_type": "markdown",
      "source": [
        "## Evaluate"
      ],
      "metadata": {
        "id": "KAOHeQQwUta7"
      }
    },
    {
      "cell_type": "code",
      "source": [
        "yp = clf_tabpfn.predict(Xva)\n",
        "# Probabilities for ROC/AUC (binary: use proba of class 1)\n",
        "try:\n",
        "    yp_prob = clf_tabpfn.predict_proba(Xva)\n",
        "    yprob_for_auc = (yp_prob[:,1] if (n_classes==2 and yp_prob.shape[1] >= 2) else yp_prob)\n",
        "except Exception:\n",
        "    yp_prob, yprob_for_auc = None, None\n",
        "\n",
        "def metrics(y_true, y_pred, y_prob=None, average=None):\n",
        "    acc = accuracy_score(y_true, y_pred)\n",
        "    if average is None:\n",
        "        prec = precision_score(y_true, y_pred, zero_division=0)\n",
        "        rec  = recall_score(y_true, y_pred, zero_division=0)\n",
        "        f1   = f1_score(y_true, y_pred, zero_division=0)\n",
        "    else:\n",
        "        prec = precision_score(y_true, y_pred, average=average, zero_division=0)\n",
        "        rec  = recall_score(y_true, y_pred, average=average, zero_division=0)\n",
        "        f1   = f1_score(y_true, y_pred, average=average, zero_division=0)\n",
        "    out = {\"accuracy\":acc, \"precision\":prec, \"recall\":rec, \"f1\":f1}\n",
        "    if y_prob is not None:\n",
        "        try:\n",
        "            if n_classes==2:\n",
        "                out[\"roc_auc\"] = roc_auc_score(y_true, y_prob[:,1] if y_prob.shape[1]>=2 else y_prob)\n",
        "            else:\n",
        "                out[\"roc_auc\"] = roc_auc_score(y_true, y_prob, multi_class=\"ovr\", average=\"macro\")\n",
        "        except Exception:\n",
        "            pass\n",
        "    return out\n",
        "\n",
        "res = metrics(yva, yp, yp_prob, average=avg_mode)\n",
        "print(\"Validation metrics:\", {k: round(v,4) for k,v in res.items()})\n",
        "print(\"\\nReport:\\n\", classification_report(yva, yp, target_names=[id2label[i] for i in range(n_classes)], zero_division=0))\n",
        "print(\"Confusion:\\n\", confusion_matrix(yva, yp))"
      ],
      "metadata": {
        "colab": {
          "base_uri": "https://localhost:8080/"
        },
        "id": "RFzDxM7jUrrY",
        "outputId": "8c4d5947-8ddb-4eb9-d46b-54c5808b4584"
      },
      "execution_count": 7,
      "outputs": [
        {
          "output_type": "stream",
          "name": "stdout",
          "text": [
            "Validation metrics: {'accuracy': 0.8331, 'precision': 0.8102, 'recall': 0.8699, 'f1': 0.839, 'roc_auc': np.float64(0.9187)}\n",
            "\n",
            "Report:\n",
            "               precision    recall  f1-score   support\n",
            "\n",
            "       <=50K       0.86      0.80      0.83      1169\n",
            "        >50K       0.81      0.87      0.84      1168\n",
            "\n",
            "    accuracy                           0.83      2337\n",
            "   macro avg       0.83      0.83      0.83      2337\n",
            "weighted avg       0.83      0.83      0.83      2337\n",
            "\n",
            "Confusion:\n",
            " [[ 931  238]\n",
            " [ 152 1016]]\n"
          ]
        }
      ]
    },
    {
      "cell_type": "markdown",
      "source": [
        "## ROC"
      ],
      "metadata": {
        "id": "zteEL8DqUzjh"
      }
    },
    {
      "cell_type": "code",
      "source": [
        "if yp_prob is not None and n_classes==2 and yp_prob.shape[1] >= 2:\n",
        "    from sklearn.metrics import roc_curve\n",
        "    fpr,tpr,_ = roc_curve(yva, yp_prob[:,1])\n",
        "    auc = roc_auc_score(yva, yp_prob[:,1])\n",
        "    plt.figure(figsize=(7,5)); plt.plot(fpr,tpr,label=f\"AUC={auc:.4f}\")\n",
        "    plt.plot([0,1],[0,1],'--'); plt.xlabel(\"FPR\"); plt.ylabel(\"TPR\")\n",
        "    plt.title(\"ROC — TabPFN (Validation)\"); plt.legend(); plt.grid(True); plt.tight_layout(); plt.show()"
      ],
      "metadata": {
        "colab": {
          "base_uri": "https://localhost:8080/",
          "height": 507
        },
        "id": "KA57btTyUyBc",
        "outputId": "7cf83de4-a7ee-48e7-d3d7-fb1ed7d917d3"
      },
      "execution_count": 8,
      "outputs": [
        {
          "output_type": "display_data",
          "data": {
            "text/plain": [
              "<Figure size 700x500 with 1 Axes>"
            ],
            "image/png": "[encoded data removed]"
          },
          "metadata": {}
        }
      ]
    },
    {
      "cell_type": "markdown",
      "source": [
        "## Save Model + Preprocessing"
      ],
      "metadata": {
        "id": "727Qlou4U425"
      }
    },
    {
      "cell_type": "code",
      "source": [
        "import joblib\n",
        "os.makedirs(\"models\", exist_ok=True)\n",
        "safe_repo_id = re.sub(r'[^A-Za-z0-9_.-]+', '_', repo_id)\n",
        "\n",
        "bundle = {\n",
        "    \"preprocessor\": pre,       # fitted\n",
        "    \"model\": clf_tabpfn,       # fitted TabPFNClassifier\n",
        "    \"target_name\": TARGET_COLUMN_NAME,\n",
        "    \"label2id\": label2id,\n",
        "    \"id2label\": id2label,\n",
        "    \"numeric\": NUMERIC_FEATURE_NAMES,\n",
        "    \"categorical\": CATEGORICAL_FEATURE_NAMES\n",
        "}\n",
        "path = f\"models/TabPFN_{safe_repo_id}.joblib\"\n",
        "joblib.dump(bundle, path)\n",
        "print(\"Saved:\", os.path.abspath(path))"
      ],
      "metadata": {
        "id": "ExfK5XEZU25n",
        "colab": {
          "base_uri": "https://localhost:8080/"
        },
        "outputId": "5a064e30-f2bf-4feb-d0e7-8046472ef8e6"
      },
      "execution_count": 9,
      "outputs": [
        {
          "output_type": "stream",
          "name": "stdout",
          "text": [
            "Saved: /content/models/TabPFN_yuvalira_adult_income_balanced.joblib\n"
          ]
        }
      ]
    }
  ]
}