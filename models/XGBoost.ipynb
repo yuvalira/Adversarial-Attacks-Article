{
  "nbformat": 4,
  "nbformat_minor": 0,
  "metadata": {
    "colab": {
      "provenance": [],
      "gpuType": "T4",
      "authorship_tag": "ABX9TyPK6/q5zCxnrH9PaYqpYkG2",
      "include_colab_link": true
    },
    "kernelspec": {
      "name": "python3",
      "display_name": "Python 3"
    },
    "language_info": {
      "name": "python"
    },
    "accelerator": "GPU",
    "widgets": {
      "application/vnd.jupyter.widget-state+json": {
        "d55231733be847e380ce19d8d49a80e9": {
          "model_module": "@jupyter-widgets/controls",
          "model_name": "HBoxModel",
          "model_module_version": "1.5.0",
          "state": {
            "_dom_classes": [],
            "_model_module": "@jupyter-widgets/controls",
            "_model_module_version": "1.5.0",
            "_model_name": "HBoxModel",
            "_view_count": null,
            "_view_module": "@jupyter-widgets/controls",
            "_view_module_version": "1.5.0",
            "_view_name": "HBoxView",
            "box_style": "",
            "children": [
              "IPY_MODEL_4a25c3cbf3fc4eb098665e4a9d66075a",
              "IPY_MODEL_9d2878bd16d348c4a6b8069deaae8bf0",
              "IPY_MODEL_ed6cd8f1d0c845d0b44b5063ff9794b5"
            ],
            "layout": "IPY_MODEL_0f292e17750f47fa9d471c299cce3d5c"
          }
        },
        "4a25c3cbf3fc4eb098665e4a9d66075a": {
          "model_module": "@jupyter-widgets/controls",
          "model_name": "HTMLModel",
          "model_module_version": "1.5.0",
          "state": {
            "_dom_classes": [],
            "_model_module": "@jupyter-widgets/controls",
            "_model_module_version": "1.5.0",
            "_model_name": "HTMLModel",
            "_view_count": null,
            "_view_module": "@jupyter-widgets/controls",
            "_view_module_version": "1.5.0",
            "_view_name": "HTMLView",
            "description": "",
            "description_tooltip": null,
            "layout": "IPY_MODEL_09fcb64a5837436d819c069c2282ead2",
            "placeholder": "​",
            "style": "IPY_MODEL_9365b311a542454bb5561a2490bbbaa1",
            "value": "train.csv: "
          }
        },
        "9d2878bd16d348c4a6b8069deaae8bf0": {
          "model_module": "@jupyter-widgets/controls",
          "model_name": "FloatProgressModel",
          "model_module_version": "1.5.0",
          "state": {
            "_dom_classes": [],
            "_model_module": "@jupyter-widgets/controls",
            "_model_module_version": "1.5.0",
            "_model_name": "FloatProgressModel",
            "_view_count": null,
            "_view_module": "@jupyter-widgets/controls",
            "_view_module_version": "1.5.0",
            "_view_name": "ProgressView",
            "bar_style": "success",
            "description": "",
            "description_tooltip": null,
            "layout": "IPY_MODEL_d18d5a59b3b94e4e9f6037e19e0c0af7",
            "max": 1,
            "min": 0,
            "orientation": "horizontal",
            "style": "IPY_MODEL_4688e67a76d841bea8a11be44724cf64",
            "value": 1
          }
        },
        "ed6cd8f1d0c845d0b44b5063ff9794b5": {
          "model_module": "@jupyter-widgets/controls",
          "model_name": "HTMLModel",
          "model_module_version": "1.5.0",
          "state": {
            "_dom_classes": [],
            "_model_module": "@jupyter-widgets/controls",
            "_model_module_version": "1.5.0",
            "_model_name": "HTMLModel",
            "_view_count": null,
            "_view_module": "@jupyter-widgets/controls",
            "_view_module_version": "1.5.0",
            "_view_name": "HTMLView",
            "description": "",
            "description_tooltip": null,
            "layout": "IPY_MODEL_af4289d6d7f24829aa2fc768727d5b17",
            "placeholder": "​",
            "style": "IPY_MODEL_ba6593280e8a4eee907c6b83d11a0d2c",
            "value": " 1.20M/? [00:00&lt;00:00, 63.0MB/s]"
          }
        },
        "0f292e17750f47fa9d471c299cce3d5c": {
          "model_module": "@jupyter-widgets/base",
          "model_name": "LayoutModel",
          "model_module_version": "1.2.0",
          "state": {
            "_model_module": "@jupyter-widgets/base",
            "_model_module_version": "1.2.0",
            "_model_name": "LayoutModel",
            "_view_count": null,
            "_view_module": "@jupyter-widgets/base",
            "_view_module_version": "1.2.0",
            "_view_name": "LayoutView",
            "align_content": null,
            "align_items": null,
            "align_self": null,
            "border": null,
            "bottom": null,
            "display": null,
            "flex": null,
            "flex_flow": null,
            "grid_area": null,
            "grid_auto_columns": null,
            "grid_auto_flow": null,
            "grid_auto_rows": null,
            "grid_column": null,
            "grid_gap": null,
            "grid_row": null,
            "grid_template_areas": null,
            "grid_template_columns": null,
            "grid_template_rows": null,
            "height": null,
            "justify_content": null,
            "justify_items": null,
            "left": null,
            "margin": null,
            "max_height": null,
            "max_width": null,
            "min_height": null,
            "min_width": null,
            "object_fit": null,
            "object_position": null,
            "order": null,
            "overflow": null,
            "overflow_x": null,
            "overflow_y": null,
            "padding": null,
            "right": null,
            "top": null,
            "visibility": null,
            "width": null
          }
        },
        "09fcb64a5837436d819c069c2282ead2": {
          "model_module": "@jupyter-widgets/base",
          "model_name": "LayoutModel",
          "model_module_version": "1.2.0",
          "state": {
            "_model_module": "@jupyter-widgets/base",
            "_model_module_version": "1.2.0",
            "_model_name": "LayoutModel",
            "_view_count": null,
            "_view_module": "@jupyter-widgets/base",
            "_view_module_version": "1.2.0",
            "_view_name": "LayoutView",
            "align_content": null,
            "align_items": null,
            "align_self": null,
            "border": null,
            "bottom": null,
            "display": null,
            "flex": null,
            "flex_flow": null,
            "grid_area": null,
            "grid_auto_columns": null,
            "grid_auto_flow": null,
            "grid_auto_rows": null,
            "grid_column": null,
            "grid_gap": null,
            "grid_row": null,
            "grid_template_areas": null,
            "grid_template_columns": null,
            "grid_template_rows": null,
            "height": null,
            "justify_content": null,
            "justify_items": null,
            "left": null,
            "margin": null,
            "max_height": null,
            "max_width": null,
            "min_height": null,
            "min_width": null,
            "object_fit": null,
            "object_position": null,
            "order": null,
            "overflow": null,
            "overflow_x": null,
            "overflow_y": null,
            "padding": null,
            "right": null,
            "top": null,
            "visibility": null,
            "width": null
          }
        },
        "9365b311a542454bb5561a2490bbbaa1": {
          "model_module": "@jupyter-widgets/controls",
          "model_name": "DescriptionStyleModel",
          "model_module_version": "1.5.0",
          "state": {
            "_model_module": "@jupyter-widgets/controls",
            "_model_module_version": "1.5.0",
            "_model_name": "DescriptionStyleModel",
            "_view_count": null,
            "_view_module": "@jupyter-widgets/base",
            "_view_module_version": "1.2.0",
            "_view_name": "StyleView",
            "description_width": ""
          }
        },
        "d18d5a59b3b94e4e9f6037e19e0c0af7": {
          "model_module": "@jupyter-widgets/base",
          "model_name": "LayoutModel",
          "model_module_version": "1.2.0",
          "state": {
            "_model_module": "@jupyter-widgets/base",
            "_model_module_version": "1.2.0",
            "_model_name": "LayoutModel",
            "_view_count": null,
            "_view_module": "@jupyter-widgets/base",
            "_view_module_version": "1.2.0",
            "_view_name": "LayoutView",
            "align_content": null,
            "align_items": null,
            "align_self": null,
            "border": null,
            "bottom": null,
            "display": null,
            "flex": null,
            "flex_flow": null,
            "grid_area": null,
            "grid_auto_columns": null,
            "grid_auto_flow": null,
            "grid_auto_rows": null,
            "grid_column": null,
            "grid_gap": null,
            "grid_row": null,
            "grid_template_areas": null,
            "grid_template_columns": null,
            "grid_template_rows": null,
            "height": null,
            "justify_content": null,
            "justify_items": null,
            "left": null,
            "margin": null,
            "max_height": null,
            "max_width": null,
            "min_height": null,
            "min_width": null,
            "object_fit": null,
            "object_position": null,
            "order": null,
            "overflow": null,
            "overflow_x": null,
            "overflow_y": null,
            "padding": null,
            "right": null,
            "top": null,
            "visibility": null,
            "width": "20px"
          }
        },
        "4688e67a76d841bea8a11be44724cf64": {
          "model_module": "@jupyter-widgets/controls",
          "model_name": "ProgressStyleModel",
          "model_module_version": "1.5.0",
          "state": {
            "_model_module": "@jupyter-widgets/controls",
            "_model_module_version": "1.5.0",
            "_model_name": "ProgressStyleModel",
            "_view_count": null,
            "_view_module": "@jupyter-widgets/base",
            "_view_module_version": "1.2.0",
            "_view_name": "StyleView",
            "bar_color": null,
            "description_width": ""
          }
        },
        "af4289d6d7f24829aa2fc768727d5b17": {
          "model_module": "@jupyter-widgets/base",
          "model_name": "LayoutModel",
          "model_module_version": "1.2.0",
          "state": {
            "_model_module": "@jupyter-widgets/base",
            "_model_module_version": "1.2.0",
            "_model_name": "LayoutModel",
            "_view_count": null,
            "_view_module": "@jupyter-widgets/base",
            "_view_module_version": "1.2.0",
            "_view_name": "LayoutView",
            "align_content": null,
            "align_items": null,
            "align_self": null,
            "border": null,
            "bottom": null,
            "display": null,
            "flex": null,
            "flex_flow": null,
            "grid_area": null,
            "grid_auto_columns": null,
            "grid_auto_flow": null,
            "grid_auto_rows": null,
            "grid_column": null,
            "grid_gap": null,
            "grid_row": null,
            "grid_template_areas": null,
            "grid_template_columns": null,
            "grid_template_rows": null,
            "height": null,
            "justify_content": null,
            "justify_items": null,
            "left": null,
            "margin": null,
            "max_height": null,
            "max_width": null,
            "min_height": null,
            "min_width": null,
            "object_fit": null,
            "object_position": null,
            "order": null,
            "overflow": null,
            "overflow_x": null,
            "overflow_y": null,
            "padding": null,
            "right": null,
            "top": null,
            "visibility": null,
            "width": null
          }
        },
        "ba6593280e8a4eee907c6b83d11a0d2c": {
          "model_module": "@jupyter-widgets/controls",
          "model_name": "DescriptionStyleModel",
          "model_module_version": "1.5.0",
          "state": {
            "_model_module": "@jupyter-widgets/controls",
            "_model_module_version": "1.5.0",
            "_model_name": "DescriptionStyleModel",
            "_view_count": null,
            "_view_module": "@jupyter-widgets/base",
            "_view_module_version": "1.2.0",
            "_view_name": "StyleView",
            "description_width": ""
          }
        },
        "1425b5289ea147f2b97e2836efb6b5c3": {
          "model_module": "@jupyter-widgets/controls",
          "model_name": "HBoxModel",
          "model_module_version": "1.5.0",
          "state": {
            "_dom_classes": [],
            "_model_module": "@jupyter-widgets/controls",
            "_model_module_version": "1.5.0",
            "_model_name": "HBoxModel",
            "_view_count": null,
            "_view_module": "@jupyter-widgets/controls",
            "_view_module_version": "1.5.0",
            "_view_name": "HBoxView",
            "box_style": "",
            "children": [
              "IPY_MODEL_078df6a50a894d8e995fd8525ea5d3c5",
              "IPY_MODEL_7c7d5b470ff74897912e4f7ceeebb952",
              "IPY_MODEL_e04c456013ac4053b2d48bc91d6d66d2"
            ],
            "layout": "IPY_MODEL_1d0474d779e34bb084b978c7d38410a4"
          }
        },
        "078df6a50a894d8e995fd8525ea5d3c5": {
          "model_module": "@jupyter-widgets/controls",
          "model_name": "HTMLModel",
          "model_module_version": "1.5.0",
          "state": {
            "_dom_classes": [],
            "_model_module": "@jupyter-widgets/controls",
            "_model_module_version": "1.5.0",
            "_model_name": "HTMLModel",
            "_view_count": null,
            "_view_module": "@jupyter-widgets/controls",
            "_view_module_version": "1.5.0",
            "_view_name": "HTMLView",
            "description": "",
            "description_tooltip": null,
            "layout": "IPY_MODEL_d1d3e8724e554694b80fab47a8613c13",
            "placeholder": "​",
            "style": "IPY_MODEL_e8c4803575fe44b4ba763aa92fce9098",
            "value": "val.csv: "
          }
        },
        "7c7d5b470ff74897912e4f7ceeebb952": {
          "model_module": "@jupyter-widgets/controls",
          "model_name": "FloatProgressModel",
          "model_module_version": "1.5.0",
          "state": {
            "_dom_classes": [],
            "_model_module": "@jupyter-widgets/controls",
            "_model_module_version": "1.5.0",
            "_model_name": "FloatProgressModel",
            "_view_count": null,
            "_view_module": "@jupyter-widgets/controls",
            "_view_module_version": "1.5.0",
            "_view_name": "ProgressView",
            "bar_style": "success",
            "description": "",
            "description_tooltip": null,
            "layout": "IPY_MODEL_67e4c0dc61914f4faaab6909e8b490a4",
            "max": 1,
            "min": 0,
            "orientation": "horizontal",
            "style": "IPY_MODEL_d79eb0faed2b4a769ea2b562718685f9",
            "value": 1
          }
        },
        "e04c456013ac4053b2d48bc91d6d66d2": {
          "model_module": "@jupyter-widgets/controls",
          "model_name": "HTMLModel",
          "model_module_version": "1.5.0",
          "state": {
            "_dom_classes": [],
            "_model_module": "@jupyter-widgets/controls",
            "_model_module_version": "1.5.0",
            "_model_name": "HTMLModel",
            "_view_count": null,
            "_view_module": "@jupyter-widgets/controls",
            "_view_module_version": "1.5.0",
            "_view_name": "HTMLView",
            "description": "",
            "description_tooltip": null,
            "layout": "IPY_MODEL_e7cab5fce5b34454a2ebfd7445fbca9d",
            "placeholder": "​",
            "style": "IPY_MODEL_cc95add6a3c648c589072782ddc96589",
            "value": " 241k/? [00:00&lt;00:00, 12.5MB/s]"
          }
        },
        "1d0474d779e34bb084b978c7d38410a4": {
          "model_module": "@jupyter-widgets/base",
          "model_name": "LayoutModel",
          "model_module_version": "1.2.0",
          "state": {
            "_model_module": "@jupyter-widgets/base",
            "_model_module_version": "1.2.0",
            "_model_name": "LayoutModel",
            "_view_count": null,
            "_view_module": "@jupyter-widgets/base",
            "_view_module_version": "1.2.0",
            "_view_name": "LayoutView",
            "align_content": null,
            "align_items": null,
            "align_self": null,
            "border": null,
            "bottom": null,
            "display": null,
            "flex": null,
            "flex_flow": null,
            "grid_area": null,
            "grid_auto_columns": null,
            "grid_auto_flow": null,
            "grid_auto_rows": null,
            "grid_column": null,
            "grid_gap": null,
            "grid_row": null,
            "grid_template_areas": null,
            "grid_template_columns": null,
            "grid_template_rows": null,
            "height": null,
            "justify_content": null,
            "justify_items": null,
            "left": null,
            "margin": null,
            "max_height": null,
            "max_width": null,
            "min_height": null,
            "min_width": null,
            "object_fit": null,
            "object_position": null,
            "order": null,
            "overflow": null,
            "overflow_x": null,
            "overflow_y": null,
            "padding": null,
            "right": null,
            "top": null,
            "visibility": null,
            "width": null
          }
        },
        "d1d3e8724e554694b80fab47a8613c13": {
          "model_module": "@jupyter-widgets/base",
          "model_name": "LayoutModel",
          "model_module_version": "1.2.0",
          "state": {
            "_model_module": "@jupyter-widgets/base",
            "_model_module_version": "1.2.0",
            "_model_name": "LayoutModel",
            "_view_count": null,
            "_view_module": "@jupyter-widgets/base",
            "_view_module_version": "1.2.0",
            "_view_name": "LayoutView",
            "align_content": null,
            "align_items": null,
            "align_self": null,
            "border": null,
            "bottom": null,
            "display": null,
            "flex": null,
            "flex_flow": null,
            "grid_area": null,
            "grid_auto_columns": null,
            "grid_auto_flow": null,
            "grid_auto_rows": null,
            "grid_column": null,
            "grid_gap": null,
            "grid_row": null,
            "grid_template_areas": null,
            "grid_template_columns": null,
            "grid_template_rows": null,
            "height": null,
            "justify_content": null,
            "justify_items": null,
            "left": null,
            "margin": null,
            "max_height": null,
            "max_width": null,
            "min_height": null,
            "min_width": null,
            "object_fit": null,
            "object_position": null,
            "order": null,
            "overflow": null,
            "overflow_x": null,
            "overflow_y": null,
            "padding": null,
            "right": null,
            "top": null,
            "visibility": null,
            "width": null
          }
        },
        "e8c4803575fe44b4ba763aa92fce9098": {
          "model_module": "@jupyter-widgets/controls",
          "model_name": "DescriptionStyleModel",
          "model_module_version": "1.5.0",
          "state": {
            "_model_module": "@jupyter-widgets/controls",
            "_model_module_version": "1.5.0",
            "_model_name": "DescriptionStyleModel",
            "_view_count": null,
            "_view_module": "@jupyter-widgets/base",
            "_view_module_version": "1.2.0",
            "_view_name": "StyleView",
            "description_width": ""
          }
        },
        "67e4c0dc61914f4faaab6909e8b490a4": {
          "model_module": "@jupyter-widgets/base",
          "model_name": "LayoutModel",
          "model_module_version": "1.2.0",
          "state": {
            "_model_module": "@jupyter-widgets/base",
            "_model_module_version": "1.2.0",
            "_model_name": "LayoutModel",
            "_view_count": null,
            "_view_module": "@jupyter-widgets/base",
            "_view_module_version": "1.2.0",
            "_view_name": "LayoutView",
            "align_content": null,
            "align_items": null,
            "align_self": null,
            "border": null,
            "bottom": null,
            "display": null,
            "flex": null,
            "flex_flow": null,
            "grid_area": null,
            "grid_auto_columns": null,
            "grid_auto_flow": null,
            "grid_auto_rows": null,
            "grid_column": null,
            "grid_gap": null,
            "grid_row": null,
            "grid_template_areas": null,
            "grid_template_columns": null,
            "grid_template_rows": null,
            "height": null,
            "justify_content": null,
            "justify_items": null,
            "left": null,
            "margin": null,
            "max_height": null,
            "max_width": null,
            "min_height": null,
            "min_width": null,
            "object_fit": null,
            "object_position": null,
            "order": null,
            "overflow": null,
            "overflow_x": null,
            "overflow_y": null,
            "padding": null,
            "right": null,
            "top": null,
            "visibility": null,
            "width": "20px"
          }
        },
        "d79eb0faed2b4a769ea2b562718685f9": {
          "model_module": "@jupyter-widgets/controls",
          "model_name": "ProgressStyleModel",
          "model_module_version": "1.5.0",
          "state": {
            "_model_module": "@jupyter-widgets/controls",
            "_model_module_version": "1.5.0",
            "_model_name": "ProgressStyleModel",
            "_view_count": null,
            "_view_module": "@jupyter-widgets/base",
            "_view_module_version": "1.2.0",
            "_view_name": "StyleView",
            "bar_color": null,
            "description_width": ""
          }
        },
        "e7cab5fce5b34454a2ebfd7445fbca9d": {
          "model_module": "@jupyter-widgets/base",
          "model_name": "LayoutModel",
          "model_module_version": "1.2.0",
          "state": {
            "_model_module": "@jupyter-widgets/base",
            "_model_module_version": "1.2.0",
            "_model_name": "LayoutModel",
            "_view_count": null,
            "_view_module": "@jupyter-widgets/base",
            "_view_module_version": "1.2.0",
            "_view_name": "LayoutView",
            "align_content": null,
            "align_items": null,
            "align_self": null,
            "border": null,
            "bottom": null,
            "display": null,
            "flex": null,
            "flex_flow": null,
            "grid_area": null,
            "grid_auto_columns": null,
            "grid_auto_flow": null,
            "grid_auto_rows": null,
            "grid_column": null,
            "grid_gap": null,
            "grid_row": null,
            "grid_template_areas": null,
            "grid_template_columns": null,
            "grid_template_rows": null,
            "height": null,
            "justify_content": null,
            "justify_items": null,
            "left": null,
            "margin": null,
            "max_height": null,
            "max_width": null,
            "min_height": null,
            "min_width": null,
            "object_fit": null,
            "object_position": null,
            "order": null,
            "overflow": null,
            "overflow_x": null,
            "overflow_y": null,
            "padding": null,
            "right": null,
            "top": null,
            "visibility": null,
            "width": null
          }
        },
        "cc95add6a3c648c589072782ddc96589": {
          "model_module": "@jupyter-widgets/controls",
          "model_name": "DescriptionStyleModel",
          "model_module_version": "1.5.0",
          "state": {
            "_model_module": "@jupyter-widgets/controls",
            "_model_module_version": "1.5.0",
            "_model_name": "DescriptionStyleModel",
            "_view_count": null,
            "_view_module": "@jupyter-widgets/base",
            "_view_module_version": "1.2.0",
            "_view_name": "StyleView",
            "description_width": ""
          }
        }
      }
    }
  },
  "cells": [
    {
      "cell_type": "markdown",
      "metadata": {
        "id": "view-in-github",
        "colab_type": "text"
      },
      "source": [
        "<a href=\"https://colab.research.google.com/github/yuvalira/Adversarial-Attacks-Article/blob/main/models/XGBoost.ipynb\" target=\"_parent\"><img src=\"https://colab.research.google.com/assets/colab-badge.svg\" alt=\"Open In Colab\"/></a>"
      ]
    },
    {
      "cell_type": "markdown",
      "source": [
        "# **Classical Model — XGBoost**\n",
        "XGBoost is a highly optimized implementation of gradient-boosted decision trees.\n",
        "It typically delivers **state-of-the-art performance on tabular data** thanks to:\n",
        "- Shrinkage (**learning rate**) and **regularization** (L1/L2)\n",
        "- Column & row subsampling that reduce overfitting\n",
        "- Efficient tree growth (`hist`/`approx`)\n",
        "\n",
        "We'll fit on **train**, evaluate on **validation** (test remains reserved for attacks).\n",
        "\n",
        "References:\n",
        "- [xgboost.XGBClassifier docs](https://xgboost.readthedocs.io/en/stable/python/python_api.html#xgboost.XGBClassifier)"
      ],
      "metadata": {
        "id": "wyMfW2ueh7Lp"
      }
    },
    {
      "cell_type": "markdown",
      "source": [
        "## Imports & setup"
      ],
      "metadata": {
        "id": "ogG1Ako8iVFq"
      }
    },
    {
      "cell_type": "code",
      "execution_count": 1,
      "metadata": {
        "colab": {
          "base_uri": "https://localhost:8080/"
        },
        "id": "OKJfqBdScvHH",
        "outputId": "1975b714-de72-49f0-927b-60fb04311671"
      },
      "outputs": [
        {
          "output_type": "stream",
          "name": "stdout",
          "text": [
            "\u001b[2K   \u001b[90m━━━━━━━━━━━━━━━━━━━━━━━━━━━━━━━━━━━━━━━━\u001b[0m \u001b[32m9.5/9.5 MB\u001b[0m \u001b[31m83.3 MB/s\u001b[0m eta \u001b[36m0:00:00\u001b[0m\n",
            "\u001b[2K   \u001b[90m━━━━━━━━━━━━━━━━━━━━━━━━━━━━━━━━━━━━━━━━\u001b[0m \u001b[32m94.9/94.9 MB\u001b[0m \u001b[31m7.9 MB/s\u001b[0m eta \u001b[36m0:00:00\u001b[0m\n",
            "\u001b[?25h"
          ]
        }
      ],
      "source": [
        "!pip -q install -U scikit-learn xgboost huggingface_hub\n",
        "\n",
        "import os, time, numpy as np, pandas as pd, matplotlib.pyplot as plt\n",
        "from huggingface_hub import hf_hub_download\n",
        "\n",
        "from sklearn.compose import ColumnTransformer\n",
        "from sklearn.pipeline import Pipeline\n",
        "from sklearn.preprocessing import OneHotEncoder\n",
        "from sklearn.impute import SimpleImputer\n",
        "\n",
        "from sklearn.metrics import (\n",
        "    accuracy_score, precision_score, recall_score, f1_score,\n",
        "    roc_auc_score, roc_curve, classification_report, confusion_matrix\n",
        ")\n",
        "\n",
        "from xgboost import XGBClassifier\n",
        "\n",
        "RANDOM_STATE = 42\n",
        "np.random.seed(RANDOM_STATE)"
      ]
    },
    {
      "cell_type": "markdown",
      "source": [
        "## Load splits from HF"
      ],
      "metadata": {
        "id": "Kv92g9aqiXTe"
      }
    },
    {
      "cell_type": "code",
      "source": [
        "repo_id   = \"yuvalira/adult_income_balanced\"  # TODO\n",
        "repo_type = \"dataset\"\n",
        "\n",
        "def read_split_csv(repo_id, filename, repo_type=\"dataset\"):\n",
        "    p = hf_hub_download(repo_id=repo_id, filename=filename, repo_type=repo_type, token=False)\n",
        "    return pd.read_csv(p)\n",
        "\n",
        "train_data = read_split_csv(repo_id, \"train.csv\", repo_type)\n",
        "val_data   = read_split_csv(repo_id, \"val.csv\",   repo_type)\n",
        "\n",
        "print(\"Train:\", train_data.shape, \"| Val:\", val_data.shape)"
      ],
      "metadata": {
        "colab": {
          "base_uri": "https://localhost:8080/",
          "height": 98,
          "referenced_widgets": [
            "d55231733be847e380ce19d8d49a80e9",
            "4a25c3cbf3fc4eb098665e4a9d66075a",
            "9d2878bd16d348c4a6b8069deaae8bf0",
            "ed6cd8f1d0c845d0b44b5063ff9794b5",
            "0f292e17750f47fa9d471c299cce3d5c",
            "09fcb64a5837436d819c069c2282ead2",
            "9365b311a542454bb5561a2490bbbaa1",
            "d18d5a59b3b94e4e9f6037e19e0c0af7",
            "4688e67a76d841bea8a11be44724cf64",
            "af4289d6d7f24829aa2fc768727d5b17",
            "ba6593280e8a4eee907c6b83d11a0d2c",
            "1425b5289ea147f2b97e2836efb6b5c3",
            "078df6a50a894d8e995fd8525ea5d3c5",
            "7c7d5b470ff74897912e4f7ceeebb952",
            "e04c456013ac4053b2d48bc91d6d66d2",
            "1d0474d779e34bb084b978c7d38410a4",
            "d1d3e8724e554694b80fab47a8613c13",
            "e8c4803575fe44b4ba763aa92fce9098",
            "67e4c0dc61914f4faaab6909e8b490a4",
            "d79eb0faed2b4a769ea2b562718685f9",
            "e7cab5fce5b34454a2ebfd7445fbca9d",
            "cc95add6a3c648c589072782ddc96589"
          ]
        },
        "id": "IEn9iMEDibHy",
        "outputId": "1537a933-199c-485a-c83a-c12b95672494"
      },
      "execution_count": 2,
      "outputs": [
        {
          "output_type": "display_data",
          "data": {
            "text/plain": [
              "train.csv: 0.00B [00:00, ?B/s]"
            ],
            "application/vnd.jupyter.widget-view+json": {
              "version_major": 2,
              "version_minor": 0,
              "model_id": "d55231733be847e380ce19d8d49a80e9"
            }
          },
          "metadata": {}
        },
        {
          "output_type": "display_data",
          "data": {
            "text/plain": [
              "val.csv: 0.00B [00:00, ?B/s]"
            ],
            "application/vnd.jupyter.widget-view+json": {
              "version_major": 2,
              "version_minor": 0,
              "model_id": "1425b5289ea147f2b97e2836efb6b5c3"
            }
          },
          "metadata": {}
        },
        {
          "output_type": "stream",
          "name": "stdout",
          "text": [
            "Train: (11687, 14) | Val: (2337, 14)\n"
          ]
        }
      ]
    },
    {
      "cell_type": "markdown",
      "source": [
        "## Discover column types & configure target"
      ],
      "metadata": {
        "id": "W0DuTUf1imVq"
      }
    },
    {
      "cell_type": "code",
      "source": [
        "auto_num = train_data.select_dtypes(include=['int16','int32','int64','float16','float32','float64']).columns.tolist()\n",
        "auto_cat = train_data.select_dtypes(include=['object','category','bool']).columns.tolist()\n",
        "\n",
        "TARGET_COLUMN_NAME = \"income\"              # TODO\n",
        "TARGET_LABELS = [\"<=50K\", \">50K\"]          # TODO (order defines ids)\n",
        "SAMPLE_WEIGHT_COLUMN = None                # or \"weight\"\n",
        "\n",
        "NUMERIC_FEATURE_NAMES = [c for c in auto_num if c != TARGET_COLUMN_NAME]\n",
        "CATEGORICAL_FEATURE_NAMES = [c for c in auto_cat if c != TARGET_COLUMN_NAME]\n",
        "\n",
        "print(\"Numeric features:\", NUMERIC_FEATURE_NAMES)\n",
        "print(\"Categorical features:\", CATEGORICAL_FEATURE_NAMES)"
      ],
      "metadata": {
        "colab": {
          "base_uri": "https://localhost:8080/"
        },
        "id": "zziZs6zZifob",
        "outputId": "fc3fac0f-dd29-4060-d9d0-2488e281f48d"
      },
      "execution_count": 3,
      "outputs": [
        {
          "output_type": "stream",
          "name": "stdout",
          "text": [
            "Numeric features: ['age', 'educational-num', 'capital-gain', 'capital-loss', 'hours-per-week']\n",
            "Categorical features: ['workclass', 'education', 'marital-status', 'occupation', 'relationship', 'race', 'gender', 'native-country']\n"
          ]
        }
      ]
    },
    {
      "cell_type": "markdown",
      "source": [
        "## Prepare dataframes (map target, cast categoricals to str)"
      ],
      "metadata": {
        "id": "wOMhiJUyiwk3"
      }
    },
    {
      "cell_type": "code",
      "source": [
        "train_data = train_data.copy()\n",
        "val_data   = val_data.copy()\n",
        "\n",
        "label2id = {lbl:i for i,lbl in enumerate(TARGET_LABELS)}\n",
        "id2label = {i:lbl for lbl,i in label2id.items()}\n",
        "\n",
        "def prepare_df(df):\n",
        "    assert TARGET_COLUMN_NAME in df.columns, f\"No target '{TARGET_COLUMN_NAME}'\"\n",
        "    df[TARGET_COLUMN_NAME] = df[TARGET_COLUMN_NAME].map(label2id)\n",
        "    if df[TARGET_COLUMN_NAME].isna().any():\n",
        "        bad = df.loc[df[TARGET_COLUMN_NAME].isna(), TARGET_COLUMN_NAME].unique().tolist()\n",
        "        raise ValueError(f\"Unmapped targets: {bad} vs {TARGET_LABELS}\")\n",
        "    for c in CATEGORICAL_FEATURE_NAMES:\n",
        "        if c in df.columns:\n",
        "            df[c] = df[c].astype(str)\n",
        "    return df\n",
        "\n",
        "prepare_df(train_data); prepare_df(val_data)\n",
        "n_classes = int(train_data[TARGET_COLUMN_NAME].nunique())\n",
        "avg_mode = None if n_classes==2 else \"macro\"\n",
        "print(\"Classes:\", [id2label[i] for i in sorted(train_data[TARGET_COLUMN_NAME].unique())])"
      ],
      "metadata": {
        "colab": {
          "base_uri": "https://localhost:8080/"
        },
        "id": "XhkMqG5liuvT",
        "outputId": "7e4afa3b-6754-449f-b3ac-f347713bfdcc"
      },
      "execution_count": 4,
      "outputs": [
        {
          "output_type": "stream",
          "name": "stdout",
          "text": [
            "Classes: ['<=50K', '>50K']\n"
          ]
        }
      ]
    },
    {
      "cell_type": "markdown",
      "source": [
        "## Preprocessing + XGBoost model"
      ],
      "metadata": {
        "id": "CF1k7cgxi3Kg"
      }
    },
    {
      "cell_type": "code",
      "source": [
        "# OneHotEncoder returns a sparse matrix by default\n",
        "numeric_pipe = Pipeline([\n",
        "    (\"imputer\", SimpleImputer(strategy=\"median\")),\n",
        "])\n",
        "categorical_pipe = Pipeline([\n",
        "    (\"imputer\", SimpleImputer(strategy=\"most_frequent\")),\n",
        "    (\"ohe\", OneHotEncoder(handle_unknown=\"ignore\"))  # sparse by default\n",
        "])\n",
        "\n",
        "preprocessor = ColumnTransformer(\n",
        "    transformers=[\n",
        "        (\"num\", numeric_pipe, NUMERIC_FEATURE_NAMES),\n",
        "        (\"cat\", categorical_pipe, CATEGORICAL_FEATURE_NAMES),\n",
        "    ],\n",
        "    remainder=\"drop\",\n",
        "    verbose_feature_names_out=True\n",
        ")\n",
        "\n",
        "# Handle imbalance heuristically for binary: scale_pos_weight = neg/pos\n",
        "def compute_spw(y):\n",
        "    if n_classes != 2: return None\n",
        "    pos = np.sum(y==1); neg = np.sum(y==0)\n",
        "    return max(1.0, neg / max(pos, 1))\n",
        "\n",
        "X_tr = train_data.drop(columns=[TARGET_COLUMN_NAME])\n",
        "y_tr = train_data[TARGET_COLUMN_NAME].values\n",
        "X_va = val_data.drop(columns=[TARGET_COLUMN_NAME])\n",
        "y_va = val_data[TARGET_COLUMN_NAME].values\n",
        "\n",
        "# Fit preprocessor on train only, transform both\n",
        "Xtr_feat = preprocessor.fit_transform(X_tr)\n",
        "Xva_feat = preprocessor.transform(X_va)\n",
        "\n",
        "spw = compute_spw(y_tr)\n",
        "\n",
        "xgb = XGBClassifier(\n",
        "    n_estimators=500,\n",
        "    learning_rate=0.05,\n",
        "    max_depth=6,\n",
        "    subsample=0.8,\n",
        "    colsample_bytree=0.8,\n",
        "    reg_lambda=1.0,\n",
        "    reg_alpha=0.0,\n",
        "    gamma=0.0,\n",
        "    min_child_weight=1,\n",
        "    objective=\"binary:logistic\" if n_classes==2 else \"multi:softprob\",\n",
        "    num_class=None if n_classes==2 else n_classes,\n",
        "    tree_method=\"hist\",\n",
        "    n_jobs=-1,\n",
        "    random_state=RANDOM_STATE,\n",
        "    scale_pos_weight=spw if spw is not None else 1.0,\n",
        "    # NOTE: we’re not using early_stopping here to keep a simple train/val pipeline.\n",
        ")\n",
        "\n",
        "print(\"Preprocessing fitted. XGBoost ready.\")"
      ],
      "metadata": {
        "colab": {
          "base_uri": "https://localhost:8080/"
        },
        "id": "0GJPSX4Qi3zK",
        "outputId": "3a165b3d-9b50-46fc-e97f-6274849c57fb"
      },
      "execution_count": 5,
      "outputs": [
        {
          "output_type": "stream",
          "name": "stdout",
          "text": [
            "Preprocessing fitted. XGBoost ready.\n"
          ]
        }
      ]
    },
    {
      "cell_type": "markdown",
      "source": [
        "## Train & Evaluate"
      ],
      "metadata": {
        "id": "lx3we5R0jHom"
      }
    },
    {
      "cell_type": "code",
      "source": [
        "t0 = time.time()\n",
        "fit_kwargs = {}\n",
        "if SAMPLE_WEIGHT_COLUMN:\n",
        "    sw_train = train_data[SAMPLE_WEIGHT_COLUMN].values\n",
        "    fit_kwargs[\"sample_weight\"] = sw_train\n",
        "\n",
        "xgb.fit(Xtr_feat, y_tr, **fit_kwargs)\n",
        "print(f\"Training time: {time.time()-t0:.2f}s\")\n",
        "\n",
        "y_pred = xgb.predict(Xva_feat)\n",
        "\n",
        "# Probabilities (for ROC/AUC)\n",
        "if n_classes == 2:\n",
        "    y_prob = xgb.predict_proba(Xva_feat)[:,1]\n",
        "else:\n",
        "    y_prob = xgb.predict_proba(Xva_feat)\n",
        "\n",
        "def metrics(y_true, y_pred, y_prob=None, average=None):\n",
        "    acc = accuracy_score(y_true, y_pred)\n",
        "    if average is None:\n",
        "        prec = precision_score(y_true, y_pred, zero_division=0)\n",
        "        rec  = recall_score(y_true, y_pred, zero_division=0)\n",
        "        f1   = f1_score(y_true, y_pred, zero_division=0)\n",
        "    else:\n",
        "        prec = precision_score(y_true, y_pred, average=average, zero_division=0)\n",
        "        rec  = recall_score(y_true, y_pred, average=average, zero_division=0)\n",
        "        f1   = f1_score(y_true, y_pred, average=average, zero_division=0)\n",
        "    out = {\"accuracy\":acc, \"precision\":prec, \"recall\":rec, \"f1\":f1}\n",
        "    if y_prob is not None:\n",
        "        try:\n",
        "            if n_classes==2:\n",
        "                out[\"roc_auc\"] = roc_auc_score(y_true, y_prob)\n",
        "            else:\n",
        "                out[\"roc_auc\"] = roc_auc_score(y_true, y_prob, multi_class=\"ovr\", average=\"macro\")\n",
        "        except Exception:\n",
        "            pass\n",
        "    return out\n",
        "\n",
        "res = metrics(y_va, y_pred, y_prob, average=avg_mode)\n",
        "print(\"Validation metrics:\", {k: round(v,4) for k,v in res.items()})\n",
        "\n",
        "print(\"\\nClassification report (val):\")\n",
        "print(classification_report(y_va, y_pred, target_names=[id2label[i] for i in range(n_classes)], zero_division=0))\n",
        "print(\"Confusion matrix (val):\")\n",
        "print(confusion_matrix(y_va, y_pred))"
      ],
      "metadata": {
        "colab": {
          "base_uri": "https://localhost:8080/"
        },
        "id": "vGU1fQZIjFns",
        "outputId": "08a1dae9-1055-4b17-b6ca-e1a32d3e302b"
      },
      "execution_count": 6,
      "outputs": [
        {
          "output_type": "stream",
          "name": "stdout",
          "text": [
            "Training time: 1.00s\n",
            "Validation metrics: {'accuracy': 0.843, 'precision': 0.8217, 'recall': 0.8759, 'f1': 0.8479, 'roc_auc': 0.929}\n",
            "\n",
            "Classification report (val):\n",
            "              precision    recall  f1-score   support\n",
            "\n",
            "       <=50K       0.87      0.81      0.84      1169\n",
            "        >50K       0.82      0.88      0.85      1168\n",
            "\n",
            "    accuracy                           0.84      2337\n",
            "   macro avg       0.84      0.84      0.84      2337\n",
            "weighted avg       0.84      0.84      0.84      2337\n",
            "\n",
            "Confusion matrix (val):\n",
            "[[ 947  222]\n",
            " [ 145 1023]]\n"
          ]
        }
      ]
    },
    {
      "cell_type": "markdown",
      "source": [
        "## ROC Curve"
      ],
      "metadata": {
        "id": "1NzNAKAkjNrT"
      }
    },
    {
      "cell_type": "code",
      "source": [
        "if n_classes==2:\n",
        "    fpr, tpr, _ = roc_curve(y_va, y_prob)\n",
        "    auc = roc_auc_score(y_va, y_prob)\n",
        "    plt.figure(figsize=(7,5))\n",
        "    plt.plot(fpr, tpr, label=f\"AUC = {auc:.4f}\", linewidth=2)\n",
        "    plt.plot([0,1],[0,1],'--', label=\"Random\")\n",
        "    plt.xlabel(\"False Positive Rate\"); plt.ylabel(\"True Positive Rate\")\n",
        "    plt.title(\"ROC — XGBoost (Validation)\")\n",
        "    plt.legend(); plt.grid(True); plt.tight_layout(); plt.show()\n",
        "else:\n",
        "    print(\"Multiclass ROC: compute micro/macro as needed.\")"
      ],
      "metadata": {
        "colab": {
          "base_uri": "https://localhost:8080/",
          "height": 507
        },
        "id": "QDWNj2AHjL55",
        "outputId": "b7d316d2-a17e-4174-b6eb-0af2fe8ce420"
      },
      "execution_count": 7,
      "outputs": [
        {
          "output_type": "display_data",
          "data": {
            "text/plain": [
              "<Figure size 700x500 with 1 Axes>"
            ],
            "image/png": "[encoded data removed]"
          },
          "metadata": {}
        }
      ]
    },
    {
      "cell_type": "markdown",
      "source": [
        "## Save Model & Preprocessor"
      ],
      "metadata": {
        "id": "2TAkY9lNjW4o"
      }
    },
    {
      "cell_type": "code",
      "source": [
        "import re, joblib\n",
        "\n",
        "os.makedirs(\"models\", exist_ok=True)\n",
        "safe_repo_id = re.sub(r'[^A-Za-z0-9_.-]+', '_', repo_id)\n",
        "\n",
        "bundle = {\n",
        "    \"preprocessor\": preprocessor,   # fitted\n",
        "    \"model\": xgb,                   # fitted\n",
        "    \"target_name\": TARGET_COLUMN_NAME,\n",
        "    \"label2id\": label2id,\n",
        "    \"id2label\": id2label,\n",
        "    \"numeric\": NUMERIC_FEATURE_NAMES,\n",
        "    \"categorical\": CATEGORICAL_FEATURE_NAMES\n",
        "}\n",
        "\n",
        "path = f\"models/xgb_pipeline_{safe_repo_id}.joblib\"\n",
        "joblib.dump(bundle, path)\n",
        "print(\"Saved:\", os.path.abspath(path))"
      ],
      "metadata": {
        "colab": {
          "base_uri": "https://localhost:8080/"
        },
        "id": "UuAKE_ckjZjF",
        "outputId": "46651ae8-559a-48d0-95f9-61a601808062"
      },
      "execution_count": 8,
      "outputs": [
        {
          "output_type": "stream",
          "name": "stdout",
          "text": [
            "Saved: /content/models/xgb_pipeline_yuvalira_adult_income_balanced.joblib\n"
          ]
        }
      ]
    }
  ]
}